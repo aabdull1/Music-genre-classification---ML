{
 "cells": [
  {
   "cell_type": "markdown",
   "id": "a50575e0",
   "metadata": {},
   "source": [
    "# Train - Test Split"
   ]
  },
  {
   "cell_type": "code",
   "execution_count": 5,
   "id": "79b9c88e",
   "metadata": {},
   "outputs": [],
   "source": [
    "# Author: Arnova Abdullah\n",
    "# Date: 05-05-2022\n",
    "# Description: Code for creating stratified train-test split of the music genre dataset\n",
    "\n",
    "# Edits:\n",
    "# Soumya Sambeet Mohapatra (12-05-2022)"
   ]
  },
  {
   "cell_type": "markdown",
   "id": "74244cd3",
   "metadata": {},
   "source": [
    "## Importing modules"
   ]
  },
  {
   "cell_type": "code",
   "execution_count": 6,
   "id": "cdc23f2e",
   "metadata": {},
   "outputs": [],
   "source": [
    "import pandas as pd\n",
    "from sklearn.model_selection import train_test_split"
   ]
  },
  {
   "cell_type": "markdown",
   "id": "15b55696",
   "metadata": {},
   "source": [
    "## Loading data "
   ]
  },
  {
   "cell_type": "code",
   "execution_count": 8,
   "id": "5bafefda",
   "metadata": {},
   "outputs": [
    {
     "data": {
      "text/html": [
       "<div>\n",
       "<style scoped>\n",
       "    .dataframe tbody tr th:only-of-type {\n",
       "        vertical-align: middle;\n",
       "    }\n",
       "\n",
       "    .dataframe tbody tr th {\n",
       "        vertical-align: top;\n",
       "    }\n",
       "\n",
       "    .dataframe thead th {\n",
       "        text-align: right;\n",
       "    }\n",
       "</style>\n",
       "<table border=\"1\" class=\"dataframe\">\n",
       "  <thead>\n",
       "    <tr style=\"text-align: right;\">\n",
       "      <th></th>\n",
       "      <th>danceability</th>\n",
       "      <th>energy</th>\n",
       "      <th>loudness</th>\n",
       "      <th>mode</th>\n",
       "      <th>speechiness</th>\n",
       "      <th>acousticness</th>\n",
       "      <th>instrumentalness</th>\n",
       "      <th>liveness</th>\n",
       "      <th>valence</th>\n",
       "      <th>tempo</th>\n",
       "      <th>time_signature</th>\n",
       "      <th>genre</th>\n",
       "    </tr>\n",
       "  </thead>\n",
       "  <tbody>\n",
       "    <tr>\n",
       "      <th>0</th>\n",
       "      <td>0.507</td>\n",
       "      <td>0.7100</td>\n",
       "      <td>-5.020</td>\n",
       "      <td>1</td>\n",
       "      <td>0.0291</td>\n",
       "      <td>0.0975</td>\n",
       "      <td>0.000011</td>\n",
       "      <td>0.170</td>\n",
       "      <td>0.450</td>\n",
       "      <td>134.647</td>\n",
       "      <td>4</td>\n",
       "      <td>acoustic</td>\n",
       "    </tr>\n",
       "    <tr>\n",
       "      <th>1</th>\n",
       "      <td>0.496</td>\n",
       "      <td>0.3780</td>\n",
       "      <td>-7.878</td>\n",
       "      <td>1</td>\n",
       "      <td>0.0336</td>\n",
       "      <td>0.8980</td>\n",
       "      <td>0.000001</td>\n",
       "      <td>0.109</td>\n",
       "      <td>0.335</td>\n",
       "      <td>144.092</td>\n",
       "      <td>3</td>\n",
       "      <td>acoustic</td>\n",
       "    </tr>\n",
       "    <tr>\n",
       "      <th>2</th>\n",
       "      <td>0.760</td>\n",
       "      <td>0.7650</td>\n",
       "      <td>-9.319</td>\n",
       "      <td>1</td>\n",
       "      <td>0.0352</td>\n",
       "      <td>0.2890</td>\n",
       "      <td>0.000008</td>\n",
       "      <td>0.233</td>\n",
       "      <td>0.868</td>\n",
       "      <td>107.602</td>\n",
       "      <td>4</td>\n",
       "      <td>acoustic</td>\n",
       "    </tr>\n",
       "    <tr>\n",
       "      <th>3</th>\n",
       "      <td>0.607</td>\n",
       "      <td>0.1960</td>\n",
       "      <td>-19.705</td>\n",
       "      <td>1</td>\n",
       "      <td>0.0595</td>\n",
       "      <td>0.9040</td>\n",
       "      <td>0.727000</td>\n",
       "      <td>0.111</td>\n",
       "      <td>0.187</td>\n",
       "      <td>111.031</td>\n",
       "      <td>4</td>\n",
       "      <td>acoustic</td>\n",
       "    </tr>\n",
       "    <tr>\n",
       "      <th>4</th>\n",
       "      <td>0.497</td>\n",
       "      <td>0.0919</td>\n",
       "      <td>-15.685</td>\n",
       "      <td>1</td>\n",
       "      <td>0.0704</td>\n",
       "      <td>0.9680</td>\n",
       "      <td>0.002140</td>\n",
       "      <td>0.133</td>\n",
       "      <td>0.548</td>\n",
       "      <td>206.431</td>\n",
       "      <td>4</td>\n",
       "      <td>acoustic</td>\n",
       "    </tr>\n",
       "  </tbody>\n",
       "</table>\n",
       "</div>"
      ],
      "text/plain": [
       "   danceability  energy  loudness  mode  speechiness  acousticness  \\\n",
       "0         0.507  0.7100    -5.020     1       0.0291        0.0975   \n",
       "1         0.496  0.3780    -7.878     1       0.0336        0.8980   \n",
       "2         0.760  0.7650    -9.319     1       0.0352        0.2890   \n",
       "3         0.607  0.1960   -19.705     1       0.0595        0.9040   \n",
       "4         0.497  0.0919   -15.685     1       0.0704        0.9680   \n",
       "\n",
       "   instrumentalness  liveness  valence    tempo  time_signature     genre  \n",
       "0          0.000011     0.170    0.450  134.647               4  acoustic  \n",
       "1          0.000001     0.109    0.335  144.092               3  acoustic  \n",
       "2          0.000008     0.233    0.868  107.602               4  acoustic  \n",
       "3          0.727000     0.111    0.187  111.031               4  acoustic  \n",
       "4          0.002140     0.133    0.548  206.431               4  acoustic  "
      ]
     },
     "execution_count": 8,
     "metadata": {},
     "output_type": "execute_result"
    }
   ],
   "source": [
    "df = pd.read_csv('data/genre_data_final.csv')\n",
    "df.head()"
   ]
  },
  {
   "cell_type": "markdown",
   "id": "bb660225",
   "metadata": {},
   "source": [
    "## Label Encoding to Categorical Genre Column"
   ]
  },
  {
   "cell_type": "code",
   "execution_count": 9,
   "id": "ed9c560a",
   "metadata": {},
   "outputs": [],
   "source": [
    "from sklearn import preprocessing\n",
    "le = preprocessing.LabelEncoder()\n",
    "df = df.apply(le.fit_transform)"
   ]
  },
  {
   "cell_type": "markdown",
   "id": "a329417a",
   "metadata": {},
   "source": [
    "## Creating stratified Train-Test split of the dataset"
   ]
  },
  {
   "cell_type": "code",
   "execution_count": 10,
   "id": "e4e943c6",
   "metadata": {},
   "outputs": [
    {
     "data": {
      "text/plain": [
       "((9600, 11), (2400, 11), (9600,), (2400,))"
      ]
     },
     "execution_count": 10,
     "metadata": {},
     "output_type": "execute_result"
    }
   ],
   "source": [
    "X = df.drop('genre',axis=1)\n",
    "y = df['genre']\n",
    "X_train, X_test, y_train, y_test = train_test_split(\n",
    "    X, y, \n",
    "    test_size=0.2, \n",
    "    random_state=43, \n",
    "    stratify=df['genre']\n",
    ")\n",
    "X_train.shape, X_test.shape, y_train.shape, y_test.shape"
   ]
  },
  {
   "cell_type": "code",
   "execution_count": 11,
   "id": "ff346054",
   "metadata": {},
   "outputs": [
    {
     "data": {
      "text/plain": [
       "danceability  energy  loudness  mode  speechiness  acousticness  instrumentalness  liveness  valence  tempo  time_signature\n",
       "720           1229    5650      0     156          1908          0                 879       1149     3904   3                 7\n",
       "686           1245    5054      0     64           2244          2526              615       1334     5673   3                 5\n",
       "311           1418    4492      1     257          885           2189              680       1072     7921   3                 5\n",
       "371           878     3964      1     111          2831          0                 672       696      4848   3                 5\n",
       "370           978     4772      1     100          2800          0                 776       839      4610   3                 5\n",
       "                                                                                                                              ..\n",
       "442           862     1857      1     57           2803          1580              694       651      2704   3                 1\n",
       "              843     5321      1     69           2969          0                 618       659      5798   2                 1\n",
       "              720     1441      1     105          2997          767               665       856      811    3                 1\n",
       "              679     2683      1     85           3041          122               715       875      6505   2                 1\n",
       "893           1013    3862      0     858          2217          3014              671       936      4896   3                 1\n",
       "Length: 8608, dtype: int64"
      ]
     },
     "execution_count": 11,
     "metadata": {},
     "output_type": "execute_result"
    }
   ],
   "source": [
    "X_train.value_counts()"
   ]
  },
  {
   "cell_type": "code",
   "execution_count": 12,
   "id": "5dc7567b",
   "metadata": {},
   "outputs": [
    {
     "name": "stdout",
     "output_type": "stream",
     "text": [
      "danceability  energy  loudness  mode  speechiness  acousticness  instrumentalness  liveness  valence  tempo  time_signature\n",
      "538           1096    2761      1     354          2211          1089              1194      661      6399   3                 3\n",
      "398           911     4785      1     70           2797          0                 829       842      5830   3                 3\n",
      "439           1023    5625      1     149          2922          0                 513       903      2147   3                 3\n",
      "752           1114    5583      0     259          1020          0                 926       732      7190   3                 3\n",
      "473           774     2555      1     74           2960          0                 681       943      3307   3                 3\n",
      "                                                                                                                              ..\n",
      "441           1471    6802      1     471          530           534               665       767      2237   3                 1\n",
      "440           1525    7262      1     706          610           3112              890       530      8129   3                 1\n",
      "              1435    6138      1     254          224           0                 917       853      7633   3                 1\n",
      "              1069    5200      0     327          2459          0                 659       542      6136   3                 1\n",
      "891           1118    5273      0     559          1869          0                 185       1333     4351   3                 1\n",
      "Length: 2328, dtype: int64\n"
     ]
    }
   ],
   "source": [
    "print(X_test.value_counts())"
   ]
  },
  {
   "cell_type": "code",
   "execution_count": 13,
   "id": "0e78ab9a",
   "metadata": {},
   "outputs": [
    {
     "data": {
      "text/plain": [
       "8    960\n",
       "5    960\n",
       "2    960\n",
       "6    960\n",
       "0    960\n",
       "1    960\n",
       "7    960\n",
       "3    960\n",
       "4    960\n",
       "9    960\n",
       "Name: genre, dtype: int64"
      ]
     },
     "execution_count": 13,
     "metadata": {},
     "output_type": "execute_result"
    }
   ],
   "source": [
    "y_train.value_counts()"
   ]
  },
  {
   "cell_type": "code",
   "execution_count": 14,
   "id": "6e58d614",
   "metadata": {},
   "outputs": [
    {
     "data": {
      "text/plain": [
       "9    240\n",
       "1    240\n",
       "5    240\n",
       "0    240\n",
       "7    240\n",
       "8    240\n",
       "4    240\n",
       "3    240\n",
       "6    240\n",
       "2    240\n",
       "Name: genre, dtype: int64"
      ]
     },
     "execution_count": 14,
     "metadata": {},
     "output_type": "execute_result"
    }
   ],
   "source": [
    "y_test.value_counts()"
   ]
  },
  {
   "cell_type": "markdown",
   "id": "d7adf205",
   "metadata": {},
   "source": [
    "## Exporting Training set and Test set to CSV files"
   ]
  },
  {
   "cell_type": "code",
   "execution_count": 15,
   "id": "7d4ce5c5",
   "metadata": {},
   "outputs": [],
   "source": [
    "X_train.to_csv('data/X_train.csv', index=False)\n",
    "y_train.to_csv('data/y_train.csv', index=False)\n",
    "X_test.to_csv ('data/X_test.csv', index=False)\n",
    "y_test.to_csv('data/y_test.csv', index=False)"
   ]
  }
 ],
 "metadata": {
  "kernelspec": {
   "display_name": "Python 3 (ipykernel)",
   "language": "python",
   "name": "python3"
  },
  "language_info": {
   "codemirror_mode": {
    "name": "ipython",
    "version": 3
   },
   "file_extension": ".py",
   "mimetype": "text/x-python",
   "name": "python",
   "nbconvert_exporter": "python",
   "pygments_lexer": "ipython3",
   "version": "3.9.7"
  }
 },
 "nbformat": 4,
 "nbformat_minor": 5
}
