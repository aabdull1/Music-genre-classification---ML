{
 "cells": [
  {
   "cell_type": "markdown",
   "id": "a50575e0",
   "metadata": {},
   "source": [
    "# Train - Test Split"
   ]
  },
  {
   "cell_type": "code",
   "execution_count": 2,
   "id": "79b9c88e",
   "metadata": {},
   "outputs": [],
   "source": [
    "# Author: Arnova Abdullah\n",
    "# Date: 05-05-2022\n",
    "# Description: Code for creating stratified train-test split of the music genre dataset\n",
    "\n",
    "# Edits:\n",
    "# (14-05-2022)\n",
    "# (22-05-2022) Created test train split w.r.t to danceability feature from new modified feature set."
   ]
  },
  {
   "cell_type": "markdown",
   "id": "74244cd3",
   "metadata": {},
   "source": [
    "## Importing modules"
   ]
  },
  {
   "cell_type": "code",
   "execution_count": 12,
   "id": "cdc23f2e",
   "metadata": {},
   "outputs": [],
   "source": [
    "import pandas as pd\n",
    "import numpy as np\n",
    "from sklearn.model_selection import train_test_split, StratifiedShuffleSplit\n",
    "import matplotlib.pyplot as plt\n",
    "%matplotlib inline"
   ]
  },
  {
   "cell_type": "markdown",
   "id": "15b55696",
   "metadata": {},
   "source": [
    "## Loading data "
   ]
  },
  {
   "cell_type": "code",
   "execution_count": 2,
   "id": "5bafefda",
   "metadata": {},
   "outputs": [
    {
     "data": {
      "text/html": [
       "<div>\n",
       "<style scoped>\n",
       "    .dataframe tbody tr th:only-of-type {\n",
       "        vertical-align: middle;\n",
       "    }\n",
       "\n",
       "    .dataframe tbody tr th {\n",
       "        vertical-align: top;\n",
       "    }\n",
       "\n",
       "    .dataframe thead th {\n",
       "        text-align: right;\n",
       "    }\n",
       "</style>\n",
       "<table border=\"1\" class=\"dataframe\">\n",
       "  <thead>\n",
       "    <tr style=\"text-align: right;\">\n",
       "      <th></th>\n",
       "      <th>danceability</th>\n",
       "      <th>key</th>\n",
       "      <th>mode</th>\n",
       "      <th>speechiness</th>\n",
       "      <th>liveness</th>\n",
       "      <th>tempo</th>\n",
       "      <th>time_signature</th>\n",
       "      <th>genre</th>\n",
       "    </tr>\n",
       "  </thead>\n",
       "  <tbody>\n",
       "    <tr>\n",
       "      <th>0</th>\n",
       "      <td>0.507</td>\n",
       "      <td>5</td>\n",
       "      <td>1</td>\n",
       "      <td>0.0291</td>\n",
       "      <td>0.170</td>\n",
       "      <td>134.647</td>\n",
       "      <td>4</td>\n",
       "      <td>acoustic</td>\n",
       "    </tr>\n",
       "    <tr>\n",
       "      <th>1</th>\n",
       "      <td>0.496</td>\n",
       "      <td>11</td>\n",
       "      <td>1</td>\n",
       "      <td>0.0336</td>\n",
       "      <td>0.109</td>\n",
       "      <td>144.092</td>\n",
       "      <td>3</td>\n",
       "      <td>acoustic</td>\n",
       "    </tr>\n",
       "    <tr>\n",
       "      <th>2</th>\n",
       "      <td>0.760</td>\n",
       "      <td>0</td>\n",
       "      <td>1</td>\n",
       "      <td>0.0352</td>\n",
       "      <td>0.233</td>\n",
       "      <td>107.602</td>\n",
       "      <td>4</td>\n",
       "      <td>acoustic</td>\n",
       "    </tr>\n",
       "    <tr>\n",
       "      <th>3</th>\n",
       "      <td>0.607</td>\n",
       "      <td>1</td>\n",
       "      <td>1</td>\n",
       "      <td>0.0595</td>\n",
       "      <td>0.111</td>\n",
       "      <td>111.031</td>\n",
       "      <td>4</td>\n",
       "      <td>acoustic</td>\n",
       "    </tr>\n",
       "    <tr>\n",
       "      <th>4</th>\n",
       "      <td>0.497</td>\n",
       "      <td>3</td>\n",
       "      <td>1</td>\n",
       "      <td>0.0704</td>\n",
       "      <td>0.133</td>\n",
       "      <td>206.431</td>\n",
       "      <td>4</td>\n",
       "      <td>acoustic</td>\n",
       "    </tr>\n",
       "  </tbody>\n",
       "</table>\n",
       "</div>"
      ],
      "text/plain": [
       "   danceability  key  mode  speechiness  liveness    tempo  time_signature  \\\n",
       "0         0.507    5     1       0.0291     0.170  134.647               4   \n",
       "1         0.496   11     1       0.0336     0.109  144.092               3   \n",
       "2         0.760    0     1       0.0352     0.233  107.602               4   \n",
       "3         0.607    1     1       0.0595     0.111  111.031               4   \n",
       "4         0.497    3     1       0.0704     0.133  206.431               4   \n",
       "\n",
       "      genre  \n",
       "0  acoustic  \n",
       "1  acoustic  \n",
       "2  acoustic  \n",
       "3  acoustic  \n",
       "4  acoustic  "
      ]
     },
     "execution_count": 2,
     "metadata": {},
     "output_type": "execute_result"
    }
   ],
   "source": [
    "df = pd.read_csv('data/genre_data_final.csv')\n",
    "df.head()"
   ]
  },
  {
   "cell_type": "markdown",
   "id": "8871225f",
   "metadata": {},
   "source": [
    "## Stratified train-test split"
   ]
  },
  {
   "cell_type": "markdown",
   "id": "2d8d71c3",
   "metadata": {},
   "source": [
    "The aim of stratified test-train split is to create a test set which is representative of the training set's distribution. Therefore, we first need to identify a feature and based on this feature's distribution, we will create the stratified test-train split."
   ]
  },
  {
   "cell_type": "markdown",
   "id": "cad7e440",
   "metadata": {},
   "source": [
    "### Histograms of various features"
   ]
  },
  {
   "cell_type": "code",
   "execution_count": 5,
   "id": "148fba93",
   "metadata": {},
   "outputs": [
    {
     "data": {
      "image/png": "[encoded data removed]",
      "text/plain": [
       "<Figure size 1080x792 with 9 Axes>"
      ]
     },
     "metadata": {
      "needs_background": "light"
     },
     "output_type": "display_data"
    }
   ],
   "source": [
    "df.hist(figsize=(15,11));"
   ]
  },
  {
   "cell_type": "markdown",
   "id": "fbe11700",
   "metadata": {},
   "source": [
    "The feature `danceability` has a nearly Gaussian distribution with a mean value around `0.5` and is a good candidate to be stratified with."
   ]
  },
  {
   "cell_type": "markdown",
   "id": "63506cf4",
   "metadata": {},
   "source": [
    "### Categorizing `danceability`\n",
    "\n",
    "To stratify with respect to `danceability`, we need to create categories out of it where certain range values of `danceability` are grouped into a category."
   ]
  },
  {
   "cell_type": "code",
   "execution_count": 10,
   "id": "b3ccc187",
   "metadata": {},
   "outputs": [
    {
     "data": {
      "text/plain": [
       "<AxesSubplot:>"
      ]
     },
     "execution_count": 10,
     "metadata": {},
     "output_type": "execute_result"
    },
    {
     "data": {
      "image/png": "[encoded data removed]",
      "text/plain": [
       "<Figure size 432x288 with 1 Axes>"
      ]
     },
     "metadata": {
      "needs_background": "light"
     },
     "output_type": "display_data"
    }
   ],
   "source": [
    "df[\"danceability_cat\"] = pd.cut(\n",
    "    df[\"danceability\"],\n",
    "    bins=[0, 0.25, 0.5, 0.75, np.inf],\n",
    "    labels=[1, 2, 3, 4]\n",
    ")\n",
    "df[\"danceability_cat\"].hist()"
   ]
  },
  {
   "cell_type": "markdown",
   "id": "2c80a510",
   "metadata": {},
   "source": [
    "### Stratified test-train split creation"
   ]
  },
  {
   "cell_type": "markdown",
   "id": "dc7efee1",
   "metadata": {},
   "source": [
    "Finally, we create the Stratified train test split with respect to `danceability_cat` attribute."
   ]
  },
  {
   "cell_type": "code",
   "execution_count": 16,
   "id": "35b00395",
   "metadata": {},
   "outputs": [],
   "source": [
    "split = StratifiedShuffleSplit(n_splits=1, test_size=0.2, random_state=43)\n",
    "for train_index, test_index in split.split(df, df[\"danceability_cat\"]):\n",
    "    strat_train = df.loc[train_index]\n",
    "    strat_test = df.loc[test_index]"
   ]
  },
  {
   "cell_type": "markdown",
   "id": "e634f22b",
   "metadata": {},
   "source": [
    "### Verification of Stratified test-train split"
   ]
  },
  {
   "cell_type": "markdown",
   "id": "e7f4d5ca",
   "metadata": {},
   "source": [
    "We plot the histogram of the training set and the test set to verify if they have the same distribution."
   ]
  },
  {
   "cell_type": "code",
   "execution_count": 15,
   "id": "628e898b",
   "metadata": {},
   "outputs": [],
   "source": [
    "def strat_plot(x, y, tx, ty):\n",
    "    fig, ax = plt.subplots(1,2, figsize=(15,5))\n",
    "    ax[0].hist(x);\n",
    "    ax[1].hist(y);\n",
    "    ax[0].grid()\n",
    "    ax[1].grid()\n",
    "    ax[0].set_title(tx);\n",
    "    ax[1].set_title(ty);"
   ]
  },
  {
   "cell_type": "code",
   "execution_count": 18,
   "id": "565fe70b",
   "metadata": {},
   "outputs": [
    {
     "data": {
      "image/png": "[encoded data removed]",
      "text/plain": [
       "<Figure size 1080x360 with 2 Axes>"
      ]
     },
     "metadata": {
      "needs_background": "light"
     },
     "output_type": "display_data"
    }
   ],
   "source": [
    "strat_plot(\n",
    "    strat_train['danceability_cat'],\n",
    "    strat_test['danceability_cat'],\n",
    "    \"Histogram for Training set w.r.t energy_cat\",\n",
    "    \"Histogram for Test set w.r.t energy_cat\"\n",
    ")"
   ]
  },
  {
   "cell_type": "markdown",
   "id": "bad3324f",
   "metadata": {},
   "source": [
    "As we see, both the histograms have identical shapes. We further verify by comparing other statistical data of the training set and the test set."
   ]
  },
  {
   "cell_type": "code",
   "execution_count": 19,
   "id": "b9a988cc",
   "metadata": {},
   "outputs": [
    {
     "data": {
      "text/html": [
       "<div>\n",
       "<style scoped>\n",
       "    .dataframe tbody tr th:only-of-type {\n",
       "        vertical-align: middle;\n",
       "    }\n",
       "\n",
       "    .dataframe tbody tr th {\n",
       "        vertical-align: top;\n",
       "    }\n",
       "\n",
       "    .dataframe thead th {\n",
       "        text-align: right;\n",
       "    }\n",
       "</style>\n",
       "<table border=\"1\" class=\"dataframe\">\n",
       "  <thead>\n",
       "    <tr style=\"text-align: right;\">\n",
       "      <th></th>\n",
       "      <th>Test set</th>\n",
       "      <th>Training set</th>\n",
       "    </tr>\n",
       "  </thead>\n",
       "  <tbody>\n",
       "    <tr>\n",
       "      <th>count</th>\n",
       "      <td>2400.000000</td>\n",
       "      <td>9600.000000</td>\n",
       "    </tr>\n",
       "    <tr>\n",
       "      <th>mean</th>\n",
       "      <td>0.546487</td>\n",
       "      <td>0.545705</td>\n",
       "    </tr>\n",
       "    <tr>\n",
       "      <th>std</th>\n",
       "      <td>0.167679</td>\n",
       "      <td>0.165711</td>\n",
       "    </tr>\n",
       "    <tr>\n",
       "      <th>min</th>\n",
       "      <td>0.064600</td>\n",
       "      <td>0.060800</td>\n",
       "    </tr>\n",
       "    <tr>\n",
       "      <th>25%</th>\n",
       "      <td>0.438750</td>\n",
       "      <td>0.442000</td>\n",
       "    </tr>\n",
       "    <tr>\n",
       "      <th>50%</th>\n",
       "      <td>0.555000</td>\n",
       "      <td>0.556000</td>\n",
       "    </tr>\n",
       "    <tr>\n",
       "      <th>75%</th>\n",
       "      <td>0.668000</td>\n",
       "      <td>0.661000</td>\n",
       "    </tr>\n",
       "    <tr>\n",
       "      <th>max</th>\n",
       "      <td>0.967000</td>\n",
       "      <td>0.982000</td>\n",
       "    </tr>\n",
       "  </tbody>\n",
       "</table>\n",
       "</div>"
      ],
      "text/plain": [
       "          Test set  Training set\n",
       "count  2400.000000   9600.000000\n",
       "mean      0.546487      0.545705\n",
       "std       0.167679      0.165711\n",
       "min       0.064600      0.060800\n",
       "25%       0.438750      0.442000\n",
       "50%       0.555000      0.556000\n",
       "75%       0.668000      0.661000\n",
       "max       0.967000      0.982000"
      ]
     },
     "execution_count": 19,
     "metadata": {},
     "output_type": "execute_result"
    }
   ],
   "source": [
    "def strat_join(x, y):\n",
    "    return pd.concat(\n",
    "        [x, y],\n",
    "        axis=1,\n",
    "        keys=['Test set', 'Training set']\n",
    "    )\n",
    "\n",
    "strat_join(strat_test.describe()['danceability'], \n",
    "         strat_train.describe()['danceability'])"
   ]
  },
  {
   "cell_type": "markdown",
   "id": "4c8059af",
   "metadata": {},
   "source": [
    "As we see, the training set and the test set have nearly identical statistical properties. Thus we have created a stratified split. We now export the sets. We also create similar train test splits with respect the remaining features."
   ]
  },
  {
   "cell_type": "markdown",
   "id": "0c5ac12a",
   "metadata": {},
   "source": [
    "### Exporting to CSV"
   ]
  },
  {
   "cell_type": "markdown",
   "id": "5635db1b",
   "metadata": {},
   "source": [
    "Before we export, we drop the feature `danceability_cat` since it is no longer required."
   ]
  },
  {
   "cell_type": "code",
   "execution_count": 21,
   "id": "845ce603",
   "metadata": {},
   "outputs": [],
   "source": [
    "strat_test.drop('danceability_cat', axis=1, inplace=True)\n",
    "strat_train.drop('danceability_cat', axis=1, inplace=True)"
   ]
  },
  {
   "cell_type": "markdown",
   "id": "8ec5c62c",
   "metadata": {},
   "source": [
    "Finally, we export the test and training set as two separate files."
   ]
  },
  {
   "cell_type": "code",
   "execution_count": 24,
   "id": "a89906d4",
   "metadata": {},
   "outputs": [],
   "source": [
    "strat_test.to_csv('data/genre_data_test.csv', index=False)\n",
    "strat_train.to_csv('data/genre_data_train.csv', index=False)"
   ]
  }
 ],
 "metadata": {
  "kernelspec": {
   "display_name": "Python 3 (ipykernel)",
   "language": "python",
   "name": "python3"
  },
  "language_info": {
   "codemirror_mode": {
    "name": "ipython",
    "version": 3
   },
   "file_extension": ".py",
   "mimetype": "text/x-python",
   "name": "python",
   "nbconvert_exporter": "python",
   "pygments_lexer": "ipython3",
   "version": "3.8.2"
  }
 },
 "nbformat": 4,
 "nbformat_minor": 5
}
