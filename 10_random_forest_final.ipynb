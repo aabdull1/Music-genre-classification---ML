{
 "cells": [
  {
   "cell_type": "markdown",
   "id": "f68f4bcf",
   "metadata": {},
   "source": [
    "# Random Forest for classification of music genre"
   ]
  },
  {
   "cell_type": "code",
   "execution_count": 1,
   "id": "3567aae5",
   "metadata": {},
   "outputs": [],
   "source": [
    "\n",
    "# Author: Arnova Abdullah\n",
    "# Date: 14-06-2022\n",
    "# Description: Code to apply Random Forest machine learning algorithm\n"
   ]
  },
  {
   "cell_type": "markdown",
   "id": "13a5f270",
   "metadata": {},
   "source": [
    "## Importing modules"
   ]
  },
  {
   "cell_type": "code",
   "execution_count": 2,
   "id": "b18988ee",
   "metadata": {},
   "outputs": [],
   "source": [
    "import pandas as pd\n",
    "import seaborn as sns\n",
    "from pandas.plotting import scatter_matrix"
   ]
  },
  {
   "cell_type": "markdown",
   "id": "7db0f6b4",
   "metadata": {},
   "source": [
    "## Loading data from CSV file"
   ]
  },
  {
   "cell_type": "markdown",
   "id": "2b5a345d",
   "metadata": {},
   "source": [
    "### *Loading data with 10 genre"
   ]
  },
  {
   "cell_type": "code",
   "execution_count": 3,
   "id": "45b77063",
   "metadata": {},
   "outputs": [
    {
     "data": {
      "text/plain": [
       "(12000, 20)"
      ]
     },
     "execution_count": 3,
     "metadata": {},
     "output_type": "execute_result"
    }
   ],
   "source": [
    "df = pd.read_csv('data/genre_data_clean.csv')\n",
    "df.head()\n",
    "df.shape"
   ]
  },
  {
   "cell_type": "markdown",
   "id": "f1caa48f",
   "metadata": {},
   "source": [
    "### *Loading data with 6 genre"
   ]
  },
  {
   "cell_type": "code",
   "execution_count": 4,
   "id": "141141d5",
   "metadata": {},
   "outputs": [
    {
     "data": {
      "text/plain": [
       "(7200, 20)"
      ]
     },
     "execution_count": 4,
     "metadata": {},
     "output_type": "execute_result"
    }
   ],
   "source": [
    "df_7 = pd.read_csv('data/genre_data_clean2.csv')\n",
    "df_7.head()\n",
    "df_7.shape"
   ]
  },
  {
   "cell_type": "markdown",
   "id": "f8d25f5e",
   "metadata": {},
   "source": [
    "## Feature Column of datasets"
   ]
  },
  {
   "cell_type": "markdown",
   "id": "e2236e6c",
   "metadata": {},
   "source": [
    "There are 21 columns in the dataset. Below is a list of all the columns."
   ]
  },
  {
   "cell_type": "code",
   "execution_count": 5,
   "id": "a9a9ee6b",
   "metadata": {},
   "outputs": [
    {
     "data": {
      "text/plain": [
       "Index(['danceability', 'energy', 'key', 'loudness', 'mode', 'speechiness',\n",
       "       'acousticness', 'instrumentalness', 'liveness', 'valence', 'tempo',\n",
       "       'type', 'id', 'uri', 'track_href', 'analysis_url', 'duration_ms',\n",
       "       'time_signature', 'year', 'genre'],\n",
       "      dtype='object')"
      ]
     },
     "execution_count": 5,
     "metadata": {},
     "output_type": "execute_result"
    }
   ],
   "source": [
    "# Dataset with 10 genre\n",
    "df.columns"
   ]
  },
  {
   "cell_type": "code",
   "execution_count": 6,
   "id": "96f04203",
   "metadata": {},
   "outputs": [
    {
     "data": {
      "text/plain": [
       "Index(['danceability', 'energy', 'key', 'loudness', 'mode', 'speechiness',\n",
       "       'acousticness', 'instrumentalness', 'liveness', 'valence', 'tempo',\n",
       "       'type', 'id', 'uri', 'track_href', 'analysis_url', 'duration_ms',\n",
       "       'time_signature', 'year', 'genre'],\n",
       "      dtype='object')"
      ]
     },
     "execution_count": 6,
     "metadata": {},
     "output_type": "execute_result"
    }
   ],
   "source": [
    "# Dataset with 6 genre\n",
    "df_7.columns"
   ]
  },
  {
   "cell_type": "markdown",
   "id": "08ab2602",
   "metadata": {},
   "source": [
    "It can be identified that the following columns have no significance in training a machine learning mode:\n",
    "\n",
    "1. `type`\n",
    "2. `id`\n",
    "3. `uri`\n",
    "4. `track_href`\n",
    "5. `analysis_url`\n",
    "6. `year`\n",
    "7. `duration_ms`\n",
    "\n",
    "\n",
    "Therefore, these columns are dropped from the dataset."
   ]
  },
  {
   "cell_type": "code",
   "execution_count": 7,
   "id": "8db2219e",
   "metadata": {},
   "outputs": [
    {
     "data": {
      "text/html": [
       "<div>\n",
       "<style scoped>\n",
       "    .dataframe tbody tr th:only-of-type {\n",
       "        vertical-align: middle;\n",
       "    }\n",
       "\n",
       "    .dataframe tbody tr th {\n",
       "        vertical-align: top;\n",
       "    }\n",
       "\n",
       "    .dataframe thead th {\n",
       "        text-align: right;\n",
       "    }\n",
       "</style>\n",
       "<table border=\"1\" class=\"dataframe\">\n",
       "  <thead>\n",
       "    <tr style=\"text-align: right;\">\n",
       "      <th></th>\n",
       "      <th>danceability</th>\n",
       "      <th>energy</th>\n",
       "      <th>key</th>\n",
       "      <th>loudness</th>\n",
       "      <th>mode</th>\n",
       "      <th>speechiness</th>\n",
       "      <th>acousticness</th>\n",
       "      <th>instrumentalness</th>\n",
       "      <th>liveness</th>\n",
       "      <th>valence</th>\n",
       "      <th>tempo</th>\n",
       "      <th>time_signature</th>\n",
       "      <th>genre</th>\n",
       "    </tr>\n",
       "  </thead>\n",
       "  <tbody>\n",
       "    <tr>\n",
       "      <th>0</th>\n",
       "      <td>0.507</td>\n",
       "      <td>0.7100</td>\n",
       "      <td>5</td>\n",
       "      <td>-5.020</td>\n",
       "      <td>1</td>\n",
       "      <td>0.0291</td>\n",
       "      <td>0.0975</td>\n",
       "      <td>0.000011</td>\n",
       "      <td>0.170</td>\n",
       "      <td>0.450</td>\n",
       "      <td>134.647</td>\n",
       "      <td>4</td>\n",
       "      <td>acoustic</td>\n",
       "    </tr>\n",
       "    <tr>\n",
       "      <th>1</th>\n",
       "      <td>0.496</td>\n",
       "      <td>0.3780</td>\n",
       "      <td>11</td>\n",
       "      <td>-7.878</td>\n",
       "      <td>1</td>\n",
       "      <td>0.0336</td>\n",
       "      <td>0.8980</td>\n",
       "      <td>0.000001</td>\n",
       "      <td>0.109</td>\n",
       "      <td>0.335</td>\n",
       "      <td>144.092</td>\n",
       "      <td>3</td>\n",
       "      <td>acoustic</td>\n",
       "    </tr>\n",
       "    <tr>\n",
       "      <th>2</th>\n",
       "      <td>0.760</td>\n",
       "      <td>0.7650</td>\n",
       "      <td>0</td>\n",
       "      <td>-9.319</td>\n",
       "      <td>1</td>\n",
       "      <td>0.0352</td>\n",
       "      <td>0.2890</td>\n",
       "      <td>0.000008</td>\n",
       "      <td>0.233</td>\n",
       "      <td>0.868</td>\n",
       "      <td>107.602</td>\n",
       "      <td>4</td>\n",
       "      <td>acoustic</td>\n",
       "    </tr>\n",
       "    <tr>\n",
       "      <th>3</th>\n",
       "      <td>0.607</td>\n",
       "      <td>0.1960</td>\n",
       "      <td>1</td>\n",
       "      <td>-19.705</td>\n",
       "      <td>1</td>\n",
       "      <td>0.0595</td>\n",
       "      <td>0.9040</td>\n",
       "      <td>0.727000</td>\n",
       "      <td>0.111</td>\n",
       "      <td>0.187</td>\n",
       "      <td>111.031</td>\n",
       "      <td>4</td>\n",
       "      <td>acoustic</td>\n",
       "    </tr>\n",
       "    <tr>\n",
       "      <th>4</th>\n",
       "      <td>0.497</td>\n",
       "      <td>0.0919</td>\n",
       "      <td>3</td>\n",
       "      <td>-15.685</td>\n",
       "      <td>1</td>\n",
       "      <td>0.0704</td>\n",
       "      <td>0.9680</td>\n",
       "      <td>0.002140</td>\n",
       "      <td>0.133</td>\n",
       "      <td>0.548</td>\n",
       "      <td>206.431</td>\n",
       "      <td>4</td>\n",
       "      <td>acoustic</td>\n",
       "    </tr>\n",
       "  </tbody>\n",
       "</table>\n",
       "</div>"
      ],
      "text/plain": [
       "   danceability  energy  key  loudness  mode  speechiness  acousticness  \\\n",
       "0         0.507  0.7100    5    -5.020     1       0.0291        0.0975   \n",
       "1         0.496  0.3780   11    -7.878     1       0.0336        0.8980   \n",
       "2         0.760  0.7650    0    -9.319     1       0.0352        0.2890   \n",
       "3         0.607  0.1960    1   -19.705     1       0.0595        0.9040   \n",
       "4         0.497  0.0919    3   -15.685     1       0.0704        0.9680   \n",
       "\n",
       "   instrumentalness  liveness  valence    tempo  time_signature     genre  \n",
       "0          0.000011     0.170    0.450  134.647               4  acoustic  \n",
       "1          0.000001     0.109    0.335  144.092               3  acoustic  \n",
       "2          0.000008     0.233    0.868  107.602               4  acoustic  \n",
       "3          0.727000     0.111    0.187  111.031               4  acoustic  \n",
       "4          0.002140     0.133    0.548  206.431               4  acoustic  "
      ]
     },
     "execution_count": 7,
     "metadata": {},
     "output_type": "execute_result"
    }
   ],
   "source": [
    "# Dropping unnecessary features from dataset with 10 genre\n",
    "df.drop(\n",
    "    ['type', 'id', 'uri', 'track_href', 'analysis_url', 'duration_ms', 'year'], \n",
    "    axis=1, \n",
    "    inplace=True\n",
    ") \n",
    "df.head()"
   ]
  },
  {
   "cell_type": "code",
   "execution_count": 8,
   "id": "2619a9d9",
   "metadata": {},
   "outputs": [
    {
     "data": {
      "text/html": [
       "<div>\n",
       "<style scoped>\n",
       "    .dataframe tbody tr th:only-of-type {\n",
       "        vertical-align: middle;\n",
       "    }\n",
       "\n",
       "    .dataframe tbody tr th {\n",
       "        vertical-align: top;\n",
       "    }\n",
       "\n",
       "    .dataframe thead th {\n",
       "        text-align: right;\n",
       "    }\n",
       "</style>\n",
       "<table border=\"1\" class=\"dataframe\">\n",
       "  <thead>\n",
       "    <tr style=\"text-align: right;\">\n",
       "      <th></th>\n",
       "      <th>danceability</th>\n",
       "      <th>energy</th>\n",
       "      <th>key</th>\n",
       "      <th>loudness</th>\n",
       "      <th>mode</th>\n",
       "      <th>speechiness</th>\n",
       "      <th>acousticness</th>\n",
       "      <th>instrumentalness</th>\n",
       "      <th>liveness</th>\n",
       "      <th>valence</th>\n",
       "      <th>tempo</th>\n",
       "      <th>time_signature</th>\n",
       "      <th>genre</th>\n",
       "    </tr>\n",
       "  </thead>\n",
       "  <tbody>\n",
       "    <tr>\n",
       "      <th>0</th>\n",
       "      <td>0.507</td>\n",
       "      <td>0.7100</td>\n",
       "      <td>5</td>\n",
       "      <td>-5.020</td>\n",
       "      <td>1</td>\n",
       "      <td>0.0291</td>\n",
       "      <td>0.0975</td>\n",
       "      <td>0.000011</td>\n",
       "      <td>0.170</td>\n",
       "      <td>0.450</td>\n",
       "      <td>134.647</td>\n",
       "      <td>4</td>\n",
       "      <td>acoustic</td>\n",
       "    </tr>\n",
       "    <tr>\n",
       "      <th>1</th>\n",
       "      <td>0.496</td>\n",
       "      <td>0.3780</td>\n",
       "      <td>11</td>\n",
       "      <td>-7.878</td>\n",
       "      <td>1</td>\n",
       "      <td>0.0336</td>\n",
       "      <td>0.8980</td>\n",
       "      <td>0.000001</td>\n",
       "      <td>0.109</td>\n",
       "      <td>0.335</td>\n",
       "      <td>144.092</td>\n",
       "      <td>3</td>\n",
       "      <td>acoustic</td>\n",
       "    </tr>\n",
       "    <tr>\n",
       "      <th>2</th>\n",
       "      <td>0.760</td>\n",
       "      <td>0.7650</td>\n",
       "      <td>0</td>\n",
       "      <td>-9.319</td>\n",
       "      <td>1</td>\n",
       "      <td>0.0352</td>\n",
       "      <td>0.2890</td>\n",
       "      <td>0.000008</td>\n",
       "      <td>0.233</td>\n",
       "      <td>0.868</td>\n",
       "      <td>107.602</td>\n",
       "      <td>4</td>\n",
       "      <td>acoustic</td>\n",
       "    </tr>\n",
       "    <tr>\n",
       "      <th>3</th>\n",
       "      <td>0.607</td>\n",
       "      <td>0.1960</td>\n",
       "      <td>1</td>\n",
       "      <td>-19.705</td>\n",
       "      <td>1</td>\n",
       "      <td>0.0595</td>\n",
       "      <td>0.9040</td>\n",
       "      <td>0.727000</td>\n",
       "      <td>0.111</td>\n",
       "      <td>0.187</td>\n",
       "      <td>111.031</td>\n",
       "      <td>4</td>\n",
       "      <td>acoustic</td>\n",
       "    </tr>\n",
       "    <tr>\n",
       "      <th>4</th>\n",
       "      <td>0.497</td>\n",
       "      <td>0.0919</td>\n",
       "      <td>3</td>\n",
       "      <td>-15.685</td>\n",
       "      <td>1</td>\n",
       "      <td>0.0704</td>\n",
       "      <td>0.9680</td>\n",
       "      <td>0.002140</td>\n",
       "      <td>0.133</td>\n",
       "      <td>0.548</td>\n",
       "      <td>206.431</td>\n",
       "      <td>4</td>\n",
       "      <td>acoustic</td>\n",
       "    </tr>\n",
       "  </tbody>\n",
       "</table>\n",
       "</div>"
      ],
      "text/plain": [
       "   danceability  energy  key  loudness  mode  speechiness  acousticness  \\\n",
       "0         0.507  0.7100    5    -5.020     1       0.0291        0.0975   \n",
       "1         0.496  0.3780   11    -7.878     1       0.0336        0.8980   \n",
       "2         0.760  0.7650    0    -9.319     1       0.0352        0.2890   \n",
       "3         0.607  0.1960    1   -19.705     1       0.0595        0.9040   \n",
       "4         0.497  0.0919    3   -15.685     1       0.0704        0.9680   \n",
       "\n",
       "   instrumentalness  liveness  valence    tempo  time_signature     genre  \n",
       "0          0.000011     0.170    0.450  134.647               4  acoustic  \n",
       "1          0.000001     0.109    0.335  144.092               3  acoustic  \n",
       "2          0.000008     0.233    0.868  107.602               4  acoustic  \n",
       "3          0.727000     0.111    0.187  111.031               4  acoustic  \n",
       "4          0.002140     0.133    0.548  206.431               4  acoustic  "
      ]
     },
     "execution_count": 8,
     "metadata": {},
     "output_type": "execute_result"
    }
   ],
   "source": [
    "# Dropping unnecessary features from dataset with 6 genre\n",
    "df_7.drop(\n",
    "    ['type', 'id', 'uri', 'track_href', 'analysis_url', 'duration_ms', 'year'], \n",
    "    axis=1, \n",
    "    inplace=True\n",
    ") \n",
    "df.head()"
   ]
  },
  {
   "cell_type": "markdown",
   "id": "5f435284",
   "metadata": {},
   "source": [
    "## Correlation Matrix"
   ]
  },
  {
   "cell_type": "code",
   "execution_count": 9,
   "id": "defbfb85",
   "metadata": {},
   "outputs": [
    {
     "data": {
      "text/plain": [
       "<AxesSubplot:>"
      ]
     },
     "execution_count": 9,
     "metadata": {},
     "output_type": "execute_result"
    },
    {
     "data": {
      "image/png": "[encoded data removed]",
      "text/plain": [
       "<Figure size 432x288 with 2 Axes>"
      ]
     },
     "metadata": {
      "needs_background": "light"
     },
     "output_type": "display_data"
    }
   ],
   "source": [
    "# Correlation matrix for dataset with 10 genre\n",
    "sns.heatmap(df.corr(method = 'pearson'))"
   ]
  },
  {
   "cell_type": "code",
   "execution_count": 10,
   "id": "f4045dba",
   "metadata": {},
   "outputs": [
    {
     "data": {
      "text/plain": [
       "<AxesSubplot:>"
      ]
     },
     "execution_count": 10,
     "metadata": {},
     "output_type": "execute_result"
    },
    {
     "data": {
      "image/png": "[encoded data removed]",
      "text/plain": [
       "<Figure size 432x288 with 2 Axes>"
      ]
     },
     "metadata": {
      "needs_background": "light"
     },
     "output_type": "display_data"
    }
   ],
   "source": [
    "# Correlation matrix for dataset with 6 genre\n",
    "sns.heatmap(df_7.corr(method = 'pearson'))"
   ]
  },
  {
   "cell_type": "markdown",
   "id": "e7f9f7e0",
   "metadata": {},
   "source": [
    "* Though there are some strong correlation between some features, we are keeping all the features. One of the reasons are removing feature decreases accuracy. Because this dataset is not perfect for recognizing genre."
   ]
  },
  {
   "cell_type": "markdown",
   "id": "d003b875",
   "metadata": {},
   "source": [
    "## Importing modules for train test splitting and label encoding"
   ]
  },
  {
   "cell_type": "code",
   "execution_count": 11,
   "id": "605a830d",
   "metadata": {},
   "outputs": [],
   "source": [
    "from sklearn import preprocessing\n",
    "from sklearn.model_selection import train_test_split, StratifiedShuffleSplit\n",
    "import matplotlib.pyplot as plt"
   ]
  },
  {
   "cell_type": "markdown",
   "id": "3dba5634",
   "metadata": {},
   "source": [
    "## Encoding genre column of dataset with 10 genre"
   ]
  },
  {
   "cell_type": "code",
   "execution_count": 12,
   "id": "7117cbcd",
   "metadata": {},
   "outputs": [
    {
     "data": {
      "text/html": [
       "<div>\n",
       "<style scoped>\n",
       "    .dataframe tbody tr th:only-of-type {\n",
       "        vertical-align: middle;\n",
       "    }\n",
       "\n",
       "    .dataframe tbody tr th {\n",
       "        vertical-align: top;\n",
       "    }\n",
       "\n",
       "    .dataframe thead th {\n",
       "        text-align: right;\n",
       "    }\n",
       "</style>\n",
       "<table border=\"1\" class=\"dataframe\">\n",
       "  <thead>\n",
       "    <tr style=\"text-align: right;\">\n",
       "      <th></th>\n",
       "      <th>danceability</th>\n",
       "      <th>energy</th>\n",
       "      <th>key</th>\n",
       "      <th>loudness</th>\n",
       "      <th>mode</th>\n",
       "      <th>speechiness</th>\n",
       "      <th>acousticness</th>\n",
       "      <th>instrumentalness</th>\n",
       "      <th>liveness</th>\n",
       "      <th>valence</th>\n",
       "      <th>tempo</th>\n",
       "      <th>time_signature</th>\n",
       "      <th>genre</th>\n",
       "    </tr>\n",
       "  </thead>\n",
       "  <tbody>\n",
       "    <tr>\n",
       "      <th>0</th>\n",
       "      <td>0.507</td>\n",
       "      <td>0.7100</td>\n",
       "      <td>5</td>\n",
       "      <td>-5.020</td>\n",
       "      <td>1</td>\n",
       "      <td>0.0291</td>\n",
       "      <td>0.0975</td>\n",
       "      <td>0.000011</td>\n",
       "      <td>0.170</td>\n",
       "      <td>0.450</td>\n",
       "      <td>134.647</td>\n",
       "      <td>4</td>\n",
       "      <td>0</td>\n",
       "    </tr>\n",
       "    <tr>\n",
       "      <th>1</th>\n",
       "      <td>0.496</td>\n",
       "      <td>0.3780</td>\n",
       "      <td>11</td>\n",
       "      <td>-7.878</td>\n",
       "      <td>1</td>\n",
       "      <td>0.0336</td>\n",
       "      <td>0.8980</td>\n",
       "      <td>0.000001</td>\n",
       "      <td>0.109</td>\n",
       "      <td>0.335</td>\n",
       "      <td>144.092</td>\n",
       "      <td>3</td>\n",
       "      <td>0</td>\n",
       "    </tr>\n",
       "    <tr>\n",
       "      <th>2</th>\n",
       "      <td>0.760</td>\n",
       "      <td>0.7650</td>\n",
       "      <td>0</td>\n",
       "      <td>-9.319</td>\n",
       "      <td>1</td>\n",
       "      <td>0.0352</td>\n",
       "      <td>0.2890</td>\n",
       "      <td>0.000008</td>\n",
       "      <td>0.233</td>\n",
       "      <td>0.868</td>\n",
       "      <td>107.602</td>\n",
       "      <td>4</td>\n",
       "      <td>0</td>\n",
       "    </tr>\n",
       "    <tr>\n",
       "      <th>3</th>\n",
       "      <td>0.607</td>\n",
       "      <td>0.1960</td>\n",
       "      <td>1</td>\n",
       "      <td>-19.705</td>\n",
       "      <td>1</td>\n",
       "      <td>0.0595</td>\n",
       "      <td>0.9040</td>\n",
       "      <td>0.727000</td>\n",
       "      <td>0.111</td>\n",
       "      <td>0.187</td>\n",
       "      <td>111.031</td>\n",
       "      <td>4</td>\n",
       "      <td>0</td>\n",
       "    </tr>\n",
       "    <tr>\n",
       "      <th>4</th>\n",
       "      <td>0.497</td>\n",
       "      <td>0.0919</td>\n",
       "      <td>3</td>\n",
       "      <td>-15.685</td>\n",
       "      <td>1</td>\n",
       "      <td>0.0704</td>\n",
       "      <td>0.9680</td>\n",
       "      <td>0.002140</td>\n",
       "      <td>0.133</td>\n",
       "      <td>0.548</td>\n",
       "      <td>206.431</td>\n",
       "      <td>4</td>\n",
       "      <td>0</td>\n",
       "    </tr>\n",
       "  </tbody>\n",
       "</table>\n",
       "</div>"
      ],
      "text/plain": [
       "   danceability  energy  key  loudness  mode  speechiness  acousticness  \\\n",
       "0         0.507  0.7100    5    -5.020     1       0.0291        0.0975   \n",
       "1         0.496  0.3780   11    -7.878     1       0.0336        0.8980   \n",
       "2         0.760  0.7650    0    -9.319     1       0.0352        0.2890   \n",
       "3         0.607  0.1960    1   -19.705     1       0.0595        0.9040   \n",
       "4         0.497  0.0919    3   -15.685     1       0.0704        0.9680   \n",
       "\n",
       "   instrumentalness  liveness  valence    tempo  time_signature  genre  \n",
       "0          0.000011     0.170    0.450  134.647               4      0  \n",
       "1          0.000001     0.109    0.335  144.092               3      0  \n",
       "2          0.000008     0.233    0.868  107.602               4      0  \n",
       "3          0.727000     0.111    0.187  111.031               4      0  \n",
       "4          0.002140     0.133    0.548  206.431               4      0  "
      ]
     },
     "execution_count": 12,
     "metadata": {},
     "output_type": "execute_result"
    }
   ],
   "source": [
    "le = preprocessing.LabelEncoder()\n",
    "df[\"genre\"] = le.fit_transform(df[\"genre\"])\n",
    "df.head()"
   ]
  },
  {
   "cell_type": "markdown",
   "id": "95498b6e",
   "metadata": {},
   "source": [
    "## Encoding genre column of dataset with 6 genre"
   ]
  },
  {
   "cell_type": "code",
   "execution_count": 13,
   "id": "ea946171",
   "metadata": {},
   "outputs": [
    {
     "data": {
      "text/html": [
       "<div>\n",
       "<style scoped>\n",
       "    .dataframe tbody tr th:only-of-type {\n",
       "        vertical-align: middle;\n",
       "    }\n",
       "\n",
       "    .dataframe tbody tr th {\n",
       "        vertical-align: top;\n",
       "    }\n",
       "\n",
       "    .dataframe thead th {\n",
       "        text-align: right;\n",
       "    }\n",
       "</style>\n",
       "<table border=\"1\" class=\"dataframe\">\n",
       "  <thead>\n",
       "    <tr style=\"text-align: right;\">\n",
       "      <th></th>\n",
       "      <th>danceability</th>\n",
       "      <th>energy</th>\n",
       "      <th>key</th>\n",
       "      <th>loudness</th>\n",
       "      <th>mode</th>\n",
       "      <th>speechiness</th>\n",
       "      <th>acousticness</th>\n",
       "      <th>instrumentalness</th>\n",
       "      <th>liveness</th>\n",
       "      <th>valence</th>\n",
       "      <th>tempo</th>\n",
       "      <th>time_signature</th>\n",
       "      <th>genre</th>\n",
       "    </tr>\n",
       "  </thead>\n",
       "  <tbody>\n",
       "    <tr>\n",
       "      <th>0</th>\n",
       "      <td>0.507</td>\n",
       "      <td>0.7100</td>\n",
       "      <td>5</td>\n",
       "      <td>-5.020</td>\n",
       "      <td>1</td>\n",
       "      <td>0.0291</td>\n",
       "      <td>0.0975</td>\n",
       "      <td>0.000011</td>\n",
       "      <td>0.170</td>\n",
       "      <td>0.450</td>\n",
       "      <td>134.647</td>\n",
       "      <td>4</td>\n",
       "      <td>0</td>\n",
       "    </tr>\n",
       "    <tr>\n",
       "      <th>1</th>\n",
       "      <td>0.496</td>\n",
       "      <td>0.3780</td>\n",
       "      <td>11</td>\n",
       "      <td>-7.878</td>\n",
       "      <td>1</td>\n",
       "      <td>0.0336</td>\n",
       "      <td>0.8980</td>\n",
       "      <td>0.000001</td>\n",
       "      <td>0.109</td>\n",
       "      <td>0.335</td>\n",
       "      <td>144.092</td>\n",
       "      <td>3</td>\n",
       "      <td>0</td>\n",
       "    </tr>\n",
       "    <tr>\n",
       "      <th>2</th>\n",
       "      <td>0.760</td>\n",
       "      <td>0.7650</td>\n",
       "      <td>0</td>\n",
       "      <td>-9.319</td>\n",
       "      <td>1</td>\n",
       "      <td>0.0352</td>\n",
       "      <td>0.2890</td>\n",
       "      <td>0.000008</td>\n",
       "      <td>0.233</td>\n",
       "      <td>0.868</td>\n",
       "      <td>107.602</td>\n",
       "      <td>4</td>\n",
       "      <td>0</td>\n",
       "    </tr>\n",
       "    <tr>\n",
       "      <th>3</th>\n",
       "      <td>0.607</td>\n",
       "      <td>0.1960</td>\n",
       "      <td>1</td>\n",
       "      <td>-19.705</td>\n",
       "      <td>1</td>\n",
       "      <td>0.0595</td>\n",
       "      <td>0.9040</td>\n",
       "      <td>0.727000</td>\n",
       "      <td>0.111</td>\n",
       "      <td>0.187</td>\n",
       "      <td>111.031</td>\n",
       "      <td>4</td>\n",
       "      <td>0</td>\n",
       "    </tr>\n",
       "    <tr>\n",
       "      <th>4</th>\n",
       "      <td>0.497</td>\n",
       "      <td>0.0919</td>\n",
       "      <td>3</td>\n",
       "      <td>-15.685</td>\n",
       "      <td>1</td>\n",
       "      <td>0.0704</td>\n",
       "      <td>0.9680</td>\n",
       "      <td>0.002140</td>\n",
       "      <td>0.133</td>\n",
       "      <td>0.548</td>\n",
       "      <td>206.431</td>\n",
       "      <td>4</td>\n",
       "      <td>0</td>\n",
       "    </tr>\n",
       "  </tbody>\n",
       "</table>\n",
       "</div>"
      ],
      "text/plain": [
       "   danceability  energy  key  loudness  mode  speechiness  acousticness  \\\n",
       "0         0.507  0.7100    5    -5.020     1       0.0291        0.0975   \n",
       "1         0.496  0.3780   11    -7.878     1       0.0336        0.8980   \n",
       "2         0.760  0.7650    0    -9.319     1       0.0352        0.2890   \n",
       "3         0.607  0.1960    1   -19.705     1       0.0595        0.9040   \n",
       "4         0.497  0.0919    3   -15.685     1       0.0704        0.9680   \n",
       "\n",
       "   instrumentalness  liveness  valence    tempo  time_signature  genre  \n",
       "0          0.000011     0.170    0.450  134.647               4      0  \n",
       "1          0.000001     0.109    0.335  144.092               3      0  \n",
       "2          0.000008     0.233    0.868  107.602               4      0  \n",
       "3          0.727000     0.111    0.187  111.031               4      0  \n",
       "4          0.002140     0.133    0.548  206.431               4      0  "
      ]
     },
     "execution_count": 13,
     "metadata": {},
     "output_type": "execute_result"
    }
   ],
   "source": [
    "le = preprocessing.LabelEncoder()\n",
    "df_7[\"genre\"] = le.fit_transform(df_7[\"genre\"])\n",
    "df_7.head()"
   ]
  },
  {
   "cell_type": "markdown",
   "id": "7d125e25",
   "metadata": {},
   "source": [
    "## Encoding 'key', 'mode', 'time_signature' for both datasets"
   ]
  },
  {
   "cell_type": "markdown",
   "id": "c4fbd100",
   "metadata": {},
   "source": [
    "### Importing module for encoding with one hot encoder"
   ]
  },
  {
   "cell_type": "code",
   "execution_count": 14,
   "id": "db0ab6d7",
   "metadata": {},
   "outputs": [],
   "source": [
    "from sklearn.preprocessing import MinMaxScaler\n",
    "from sklearn.preprocessing import OneHotEncoder\n",
    "import numpy as np"
   ]
  },
  {
   "cell_type": "code",
   "execution_count": 15,
   "id": "8d112756",
   "metadata": {},
   "outputs": [
    {
     "data": {
      "text/plain": [
       "(12000, 28)"
      ]
     },
     "execution_count": 15,
     "metadata": {},
     "output_type": "execute_result"
    }
   ],
   "source": [
    "# Encoding dataset with 10 genre\n",
    "y = df[\"genre\"]\n",
    "df_OneHot = df.loc[:,(\"time_signature\",\"mode\", \"key\")]\n",
    "enc = OneHotEncoder()\n",
    "enc.fit(df_OneHot)\n",
    "onehotlabels = enc.transform(df_OneHot).toarray()\n",
    "\n",
    "df_scaled = df.drop([\"genre\",\"time_signature\",\"mode\", \"key\"], axis=1)\n",
    "scaler = MinMaxScaler()\n",
    "df_scaled = scaler.fit_transform(df_scaled)\n",
    "df_scaled = np.append(df_scaled,onehotlabels,axis=1)\n",
    "df_scaled.shape"
   ]
  },
  {
   "cell_type": "code",
   "execution_count": 16,
   "id": "608444af",
   "metadata": {},
   "outputs": [
    {
     "data": {
      "text/plain": [
       "(7200, 28)"
      ]
     },
     "execution_count": 16,
     "metadata": {},
     "output_type": "execute_result"
    }
   ],
   "source": [
    "# Encoding dataset with 6 genre\n",
    "y_7 = df_7[\"genre\"]\n",
    "df_7_OneHot = df_7.loc[:,(\"time_signature\",\"mode\", \"key\")]\n",
    "enc = OneHotEncoder()\n",
    "enc.fit(df_7_OneHot)\n",
    "onehotlabels = enc.transform(df_7_OneHot).toarray()\n",
    "\n",
    "df_scaled_7 = df_7.drop([\"genre\",\"time_signature\",\"mode\", \"key\"], axis=1)\n",
    "scaler = MinMaxScaler()\n",
    "df_scaled_7 = scaler.fit_transform(df_scaled_7)\n",
    "df_scaled_7 = np.append(df_scaled_7,onehotlabels,axis=1)\n",
    "df_scaled_7.shape"
   ]
  },
  {
   "cell_type": "markdown",
   "id": "83df355c",
   "metadata": {},
   "source": [
    "## Train - Test Splitting"
   ]
  },
  {
   "cell_type": "code",
   "execution_count": 17,
   "id": "9a5b0d94",
   "metadata": {},
   "outputs": [],
   "source": [
    "# Train test splitting for dataset with 10 genres\n",
    "from sklearn.model_selection import train_test_split\n",
    "X_train, X_test, y_train, y_test = train_test_split(df_scaled, y, stratify=y, test_size=1/6, random_state=42)"
   ]
  },
  {
   "cell_type": "code",
   "execution_count": 18,
   "id": "f22c1f0a",
   "metadata": {},
   "outputs": [
    {
     "data": {
      "text/plain": [
       "(10000, 28)"
      ]
     },
     "execution_count": 18,
     "metadata": {},
     "output_type": "execute_result"
    }
   ],
   "source": [
    "X_test.shape\n",
    "X_train.shape"
   ]
  },
  {
   "cell_type": "code",
   "execution_count": 19,
   "id": "15d76a40",
   "metadata": {},
   "outputs": [],
   "source": [
    "# Train test splitting for dataset with 6 genres\n",
    "from sklearn.model_selection import train_test_split\n",
    "X_train_7, X_test_7, y_train_7, y_test_7 = train_test_split(df_scaled_7, y_7, stratify=y_7, test_size=1/6, random_state=42)"
   ]
  },
  {
   "cell_type": "code",
   "execution_count": 20,
   "id": "b027e852",
   "metadata": {},
   "outputs": [
    {
     "data": {
      "text/plain": [
       "(1200, 28)"
      ]
     },
     "execution_count": 20,
     "metadata": {},
     "output_type": "execute_result"
    }
   ],
   "source": [
    "X_train_7.shape\n",
    "X_test_7.shape"
   ]
  },
  {
   "cell_type": "markdown",
   "id": "e594d135",
   "metadata": {},
   "source": [
    "## Random Forest model training"
   ]
  },
  {
   "cell_type": "code",
   "execution_count": 21,
   "id": "81aab577",
   "metadata": {},
   "outputs": [],
   "source": [
    "from sklearn.ensemble import RandomForestClassifier\n",
    "from sklearn.metrics import accuracy_score\n",
    "from sklearn.metrics import confusion_matrix\n",
    "from sklearn.datasets import make_classification"
   ]
  },
  {
   "cell_type": "markdown",
   "id": "d348f847",
   "metadata": {},
   "source": [
    "### Genre list for dataset with 10 genre"
   ]
  },
  {
   "cell_type": "code",
   "execution_count": 22,
   "id": "2ad18a24",
   "metadata": {},
   "outputs": [],
   "source": [
    "class_names = ['acoustic', 'blues', 'classical', 'dance', 'jazz','latin', 'metal', 'pop', 'rock', 'techno']"
   ]
  },
  {
   "cell_type": "markdown",
   "id": "e1b9ac98",
   "metadata": {},
   "source": [
    "### Genre list for dataset with 6 genre"
   ]
  },
  {
   "cell_type": "code",
   "execution_count": 23,
   "id": "3d8bca06",
   "metadata": {},
   "outputs": [],
   "source": [
    "class_names_7 = ['acoustic', 'classical', 'jazz', 'metal', 'rock','tecno']"
   ]
  },
  {
   "cell_type": "markdown",
   "id": "ef4e3939",
   "metadata": {},
   "source": [
    "### Random forest model to classify 10 genre"
   ]
  },
  {
   "cell_type": "code",
   "execution_count": 24,
   "id": "45baac02",
   "metadata": {},
   "outputs": [
    {
     "data": {
      "image/png": "[encoded data removed]",
      "text/plain": [
       "<Figure size 1440x504 with 4 Axes>"
      ]
     },
     "metadata": {
      "needs_background": "light"
     },
     "output_type": "display_data"
    }
   ],
   "source": [
    "model = RandomForestClassifier()\n",
    "model.fit(X_train, y_train.values.ravel())\n",
    "fig, (ax1, ax2) = plt.subplots (1, 2, figsize = (20, 7))\n",
    "\n",
    "# Training set\n",
    "y_train_pred = model.predict (X_train)\n",
    "train_accuracy = accuracy_score (y_true = y_train, y_pred = y_train_pred)\n",
    "sns.heatmap (confusion_matrix(y_train, y_train_pred), annot = True, fmt = 'd', yticklabels = class_names, xticklabels = class_names, ax = ax1)\n",
    "ax1.set_title (f'Training set (Accuracy: {round(train_accuracy*100, 2)}%)')\n",
    "ax1.set_xlabel ('Predicted' , fontsize = 12)\n",
    "ax1.set_ylabel ('Actual', fontsize = 12);\n",
    "\n",
    "# Test set\n",
    "y_test_pred = model.predict (X_test)\n",
    "train_accuracy = accuracy_score (y_true = y_test, y_pred = y_test_pred)\n",
    "sns.heatmap (confusion_matrix(y_test, y_test_pred), annot = True, fmt = 'd', yticklabels = class_names, xticklabels = class_names, ax = ax2)\n",
    "ax2.set_title (f'Test set (Accuracy: {round(train_accuracy*100, 2)}%)')\n",
    "ax2.set_xlabel ('Predicted' , fontsize = 12)\n",
    "ax2.set_ylabel ('Actual', fontsize = 12);\n"
   ]
  },
  {
   "cell_type": "markdown",
   "id": "1d75ee04",
   "metadata": {},
   "source": [
    "* Random Forest can predict 10 genre with 91.87% accuracy on training set, so it is overfitted. Test set accuracy is only 49%. We need to do cross validation and hyperparameter tuning."
   ]
  },
  {
   "cell_type": "markdown",
   "id": "ba8888ed",
   "metadata": {},
   "source": [
    "### Random forest model to classify 6 genre"
   ]
  },
  {
   "cell_type": "code",
   "execution_count": 33,
   "id": "f818d02f",
   "metadata": {},
   "outputs": [
    {
     "data": {
      "image/png": "[encoded data removed]",
      "text/plain": [
       "<Figure size 1440x504 with 4 Axes>"
      ]
     },
     "metadata": {
      "needs_background": "light"
     },
     "output_type": "display_data"
    }
   ],
   "source": [
    "model_7 = RandomForestClassifier()\n",
    "model_7.fit(X_train_7, y_train_7.values.ravel())\n",
    "fig, (ax1, ax2) = plt.subplots (1, 2, figsize = (20, 7))\n",
    "\n",
    "# Training set\n",
    "y_train_pred_7 = model_7.predict (X_train_7)\n",
    "train_accuracy_7 = accuracy_score (y_true = y_train_7, y_pred = y_train_pred_7)\n",
    "sns.heatmap (confusion_matrix(y_train_7, y_train_pred_7), annot = True, fmt = 'd', yticklabels = class_names_7, xticklabels = class_names_7, ax = ax1)\n",
    "ax1.set_title (f'Training set (Accuracy: {round(train_accuracy_7*100, 2)}%)')\n",
    "ax1.set_xlabel ('Predicted' , fontsize = 12)\n",
    "ax1.set_ylabel ('Actual', fontsize = 12);\n",
    "\n",
    "# Test set\n",
    "y_test_pred_7 = model_7.predict (X_test_7)\n",
    "train_accuracy_7 = accuracy_score (y_true = y_test_7, y_pred = y_test_pred_7)\n",
    "sns.heatmap (confusion_matrix(y_test_7, y_test_pred_7), annot = True, fmt = 'd', yticklabels = class_names_7, xticklabels = class_names_7, ax = ax2)\n",
    "ax2.set_title (f'Test set (Accuracy: {round(train_accuracy_7*100, 2)}%)')\n",
    "ax2.set_xlabel ('Predicted' , fontsize = 12)\n",
    "ax2.set_ylabel ('Actual', fontsize = 12);"
   ]
  },
  {
   "cell_type": "markdown",
   "id": "11b7cf68",
   "metadata": {},
   "source": [
    "* Random Forest can predict 6 genre with 97.87% accuracy on training set, so it is overfitted. Test set accuracy is now 65.58%. We need to do cross validation and hyperparameter tuning."
   ]
  },
  {
   "cell_type": "markdown",
   "id": "36010463",
   "metadata": {},
   "source": [
    "## Cross validation"
   ]
  },
  {
   "cell_type": "code",
   "execution_count": 26,
   "id": "495db138",
   "metadata": {},
   "outputs": [],
   "source": [
    "from sklearn.model_selection import cross_val_score\n",
    "from sklearn.model_selection import StratifiedKFold"
   ]
  },
  {
   "cell_type": "code",
   "execution_count": 28,
   "id": "e10f7dbc",
   "metadata": {},
   "outputs": [],
   "source": [
    "cv = StratifiedKFold (3, shuffle = True, random_state = 42)\n",
    "scores = cross_val_score(model, X_train, y_train, scoring = 'accuracy', cv = cv, n_jobs = -1)"
   ]
  },
  {
   "cell_type": "code",
   "execution_count": 30,
   "id": "656a40bf",
   "metadata": {},
   "outputs": [
    {
     "data": {
      "text/plain": [
       "array([0.47540492, 0.47554755, 0.48124812])"
      ]
     },
     "execution_count": 30,
     "metadata": {},
     "output_type": "execute_result"
    }
   ],
   "source": [
    "# Cross validation score for classifying 10 genres\n",
    "cross_val_score(model, X_train, y_train, cv = 3, n_jobs = -1)"
   ]
  },
  {
   "cell_type": "code",
   "execution_count": 31,
   "id": "97e38c6b",
   "metadata": {},
   "outputs": [
    {
     "data": {
      "text/plain": [
       "array([0.6535, 0.662 , 0.635 ])"
      ]
     },
     "execution_count": 31,
     "metadata": {},
     "output_type": "execute_result"
    }
   ],
   "source": [
    "# Cross validation score for classifying 6 genres\n",
    "cross_val_score(model_7, X_train_7, y_train_7, cv = 3, n_jobs = -1)"
   ]
  },
  {
   "cell_type": "markdown",
   "id": "cd9c11f5",
   "metadata": {},
   "source": [
    "## Grid Search for hyperparameter tuning"
   ]
  },
  {
   "cell_type": "code",
   "execution_count": 32,
   "id": "8b8ffcbc",
   "metadata": {},
   "outputs": [],
   "source": [
    "from sklearn.model_selection import GridSearchCV\n",
    "from sklearn.model_selection import KFold\n",
    "import time"
   ]
  },
  {
   "cell_type": "markdown",
   "id": "6d756a21",
   "metadata": {},
   "source": [
    "### Hyperparameter tuning for dataset with 10 genre"
   ]
  },
  {
   "cell_type": "code",
   "execution_count": 58,
   "id": "0a4dd888",
   "metadata": {},
   "outputs": [
    {
     "name": "stdout",
     "output_type": "stream",
     "text": [
      "Fitting 10 folds for each of 256 candidates, totalling 2560 fits\n",
      "--- Computation time for grid search: 1556.0525088310242 seconds ---\n"
     ]
    }
   ],
   "source": [
    "params_grid = {'n_estimators': [150, 200, 250, 300],\n",
    "    'max_features': [\"sqrt\"],\n",
    "    'max_depth': [20, 26, 32, 38],\n",
    "    'min_samples_split': [7, 10, 13, 16],\n",
    "    'min_samples_leaf': [7, 10, 13, 16]}\n",
    "grid_search = GridSearchCV(model, params_grid, cv=KFold(10, random_state=42, shuffle=True), verbose=3, n_jobs=-1, scoring='accuracy')\n",
    "start_time = time.time()\n",
    "grid_search.fit (X_train, y_train.values.ravel())\n",
    "# computation time\n",
    "comp_time_gs = time.time() - start_time\n",
    "print(\"--- Computation time for grid search: %s seconds ---\" % comp_time_gs)"
   ]
  },
  {
   "cell_type": "markdown",
   "id": "afe70342",
   "metadata": {},
   "source": [
    "### Hyperparameter tuning for dataset with 6 genre"
   ]
  },
  {
   "cell_type": "code",
   "execution_count": 68,
   "id": "111cc866",
   "metadata": {},
   "outputs": [
    {
     "name": "stdout",
     "output_type": "stream",
     "text": [
      "Fitting 10 folds for each of 256 candidates, totalling 2560 fits\n",
      "--- Computation time for grid search: 839.3053607940674 seconds ---\n"
     ]
    }
   ],
   "source": [
    "params_grid = {'n_estimators': [150, 200, 250, 300],\n",
    "    'max_features': [\"sqrt\"],\n",
    "    'max_depth': [20, 26, 32, 38],\n",
    "    'min_samples_split': [7, 10, 13, 16],\n",
    "    'min_samples_leaf': [7, 10, 13, 16]}\n",
    "grid_search_7 = GridSearchCV(model_7, params_grid, cv=KFold(10, random_state=42, shuffle=True), verbose=3, n_jobs=-1, scoring='accuracy')\n",
    "start_time = time.time()\n",
    "grid_search_7.fit (X_train_7, y_train_7.values.ravel())\n",
    "# computation time\n",
    "comp_time_gs = time.time() - start_time\n",
    "print(\"--- Computation time for grid search: %s seconds ---\" % comp_time_gs)"
   ]
  },
  {
   "cell_type": "markdown",
   "id": "7f0d51ac",
   "metadata": {},
   "source": [
    "*Computing time is higher for Grid search hyperparameter tuning"
   ]
  },
  {
   "cell_type": "markdown",
   "id": "7f642570",
   "metadata": {},
   "source": [
    "## Best parameter and best score for dataset with 10 genre"
   ]
  },
  {
   "cell_type": "code",
   "execution_count": 59,
   "id": "57f55dbd",
   "metadata": {},
   "outputs": [
    {
     "data": {
      "text/plain": [
       "{'max_depth': 32,\n",
       " 'max_features': 'sqrt',\n",
       " 'min_samples_leaf': 7,\n",
       " 'min_samples_split': 16,\n",
       " 'n_estimators': 300}"
      ]
     },
     "execution_count": 59,
     "metadata": {},
     "output_type": "execute_result"
    }
   ],
   "source": [
    "grid_search.best_params_"
   ]
  },
  {
   "cell_type": "code",
   "execution_count": 60,
   "id": "369bda30",
   "metadata": {},
   "outputs": [
    {
     "data": {
      "text/plain": [
       "0.49269999999999997"
      ]
     },
     "execution_count": 60,
     "metadata": {},
     "output_type": "execute_result"
    }
   ],
   "source": [
    "grid_search.best_score_"
   ]
  },
  {
   "cell_type": "markdown",
   "id": "5920b21a",
   "metadata": {},
   "source": [
    "## Best parameter and best score for dataset with 6 genre"
   ]
  },
  {
   "cell_type": "code",
   "execution_count": 69,
   "id": "2e787a05",
   "metadata": {},
   "outputs": [
    {
     "data": {
      "text/plain": [
       "{'max_depth': 20,\n",
       " 'max_features': 'sqrt',\n",
       " 'min_samples_leaf': 7,\n",
       " 'min_samples_split': 13,\n",
       " 'n_estimators': 300}"
      ]
     },
     "execution_count": 69,
     "metadata": {},
     "output_type": "execute_result"
    }
   ],
   "source": [
    "grid_search_7.best_params_"
   ]
  },
  {
   "cell_type": "code",
   "execution_count": 70,
   "id": "155a7756",
   "metadata": {},
   "outputs": [
    {
     "data": {
      "text/plain": [
       "0.6481666666666668"
      ]
     },
     "execution_count": 70,
     "metadata": {},
     "output_type": "execute_result"
    }
   ],
   "source": [
    "grid_search_7.best_score_"
   ]
  },
  {
   "cell_type": "markdown",
   "id": "e57da310",
   "metadata": {},
   "source": [
    "## After Crossvalidation and hyperparameter tuning, test set accuracy"
   ]
  },
  {
   "cell_type": "markdown",
   "id": "4a601223",
   "metadata": {},
   "source": [
    "### Test set accuracy for classifying 10 genre"
   ]
  },
  {
   "cell_type": "code",
   "execution_count": 61,
   "id": "4a299f4f",
   "metadata": {},
   "outputs": [
    {
     "name": "stdout",
     "output_type": "stream",
     "text": [
      "Test set Accuracy: 49.7%.\n"
     ]
    }
   ],
   "source": [
    "predictions_gs = grid_search.best_estimator_.predict(X_test)\n",
    "test_accuracy_gs = accuracy_score(y_test, predictions_gs)\n",
    "print(f'Test set Accuracy: {round(test_accuracy_gs, 4)*100}%.')"
   ]
  },
  {
   "cell_type": "markdown",
   "id": "a61abe85",
   "metadata": {},
   "source": [
    "### Test set accuracy for classifying 6 genre"
   ]
  },
  {
   "cell_type": "code",
   "execution_count": 71,
   "id": "83a3fc83",
   "metadata": {},
   "outputs": [
    {
     "name": "stdout",
     "output_type": "stream",
     "text": [
      "Test set Accuracy: 65.75%.\n"
     ]
    }
   ],
   "source": [
    "predictions_gs_7 = grid_search_7.best_estimator_.predict(X_test_7)\n",
    "test_accuracy_gs_7 = accuracy_score(y_test_7, predictions_gs_7)\n",
    "print(f'Test set Accuracy: {round(test_accuracy_gs_7, 4)*100}%.')"
   ]
  },
  {
   "cell_type": "markdown",
   "id": "4c5724e5",
   "metadata": {},
   "source": [
    "* Some genres are correlated like 'pop' and 'dance'. While classifying these correlated genre, accuracy decreases. Dataset from spotify is not proper for classifying music genre. So classifying 6 genre gives better accuracy instead of classifying 10 genre. "
   ]
  }
 ],
 "metadata": {
  "kernelspec": {
   "display_name": "Python 3",
   "language": "python",
   "name": "python3"
  },
  "language_info": {
   "codemirror_mode": {
    "name": "ipython",
    "version": 3
   },
   "file_extension": ".py",
   "mimetype": "text/x-python",
   "name": "python",
   "nbconvert_exporter": "python",
   "pygments_lexer": "ipython3",
   "version": "3.8.8"
  }
 },
 "nbformat": 4,
 "nbformat_minor": 5
}
