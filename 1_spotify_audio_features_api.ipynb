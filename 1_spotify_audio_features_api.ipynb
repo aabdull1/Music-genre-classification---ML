{
 "cells": [
  {
   "cell_type": "markdown",
   "id": "f3d8eac2",
   "metadata": {},
   "source": [
    "# Audio features & Genre data from Spotify"
   ]
  },
  {
   "cell_type": "code",
   "execution_count": null,
   "id": "ef21f5b8",
   "metadata": {},
   "outputs": [],
   "source": [
    "# Author: Soumya Sambeet Mohapatra\n",
    "# Date: 02-04-2022\n",
    "# Description: Python script to fetch audio features and genre data from Spotify"
   ]
  },
  {
   "cell_type": "markdown",
   "id": "5cd91072",
   "metadata": {},
   "source": [
    "## Imports"
   ]
  },
  {
   "cell_type": "code",
   "execution_count": null,
   "id": "a9fd249d",
   "metadata": {},
   "outputs": [],
   "source": [
    "import requests\n",
    "import base64\n",
    "import json\n",
    "import csv"
   ]
  },
  {
   "cell_type": "markdown",
   "id": "15666074",
   "metadata": {},
   "source": [
    "## Authorization"
   ]
  },
  {
   "cell_type": "markdown",
   "id": "8a86785c",
   "metadata": {},
   "source": [
    "* Authorization process is required to generate the access token which is needed to authenticate API calls\n",
    "* The Authorization token expires after every hour, so evalute this once every hour to renew the token "
   ]
  },
  {
   "cell_type": "code",
   "execution_count": null,
   "id": "6748ab53",
   "metadata": {},
   "outputs": [],
   "source": [
    "client_id = '' # Enter your client ID here\n",
    "client_secret = '' # Enter your client Secret here\n",
    "\n",
    "# Conversion to base64 for requesting authorization token\n",
    "auth_string = client_id + ':' + client_secret\n",
    "auth_bytes = auth_string.encode('ascii')\n",
    "auth_bytes_base64 = base64.b64encode(auth_bytes)\n",
    "auth_string_base64 = auth_bytes_base64.decode(\"ascii\")\n",
    "\n",
    "# Requesting access token\n",
    "url = 'https://accounts.spotify.com/api/token'\n",
    "body = {'grant_type': 'client_credentials'}\n",
    "headers = {'Authorization': 'Basic ' + auth_string_base64, 'Content-Type': 'application/x-www-form-urlencoded'}\n",
    "response = requests.post(url, headers=headers, data=body)\n",
    "access_token = json.loads(response.text)['access_token']"
   ]
  },
  {
   "cell_type": "markdown",
   "id": "c3100431",
   "metadata": {},
   "source": [
    "## API request function"
   ]
  },
  {
   "cell_type": "code",
   "execution_count": null,
   "id": "770d9aa1",
   "metadata": {},
   "outputs": [],
   "source": [
    "def spotifyAPI(url):\n",
    "    request_headers = {\n",
    "        'Content-Type': 'application/json',\n",
    "        'Authorization': 'Bearer '+ access_token\n",
    "    }\n",
    "    response=requests.get(url, headers=request_headers)\n",
    "    return json.loads(response.text)"
   ]
  },
  {
   "cell_type": "markdown",
   "id": "918cb1c0",
   "metadata": {},
   "source": [
    "## Genre list"
   ]
  },
  {
   "cell_type": "markdown",
   "id": "559f4244",
   "metadata": {},
   "source": [
    "* There are 126 genres in Spotify\n",
    "* However some genres do not contain any tracks for some years"
   ]
  },
  {
   "cell_type": "code",
   "execution_count": null,
   "id": "19ee7e58",
   "metadata": {},
   "outputs": [],
   "source": [
    "genres = spotifyAPI('https://api.spotify.com/v1/recommendations/available-genre-seeds')['genres']"
   ]
  },
  {
   "cell_type": "markdown",
   "id": "6a770479",
   "metadata": {},
   "source": [
    "## Fetch genre and audio features data"
   ]
  },
  {
   "cell_type": "markdown",
   "id": "b4de4cbe",
   "metadata": {},
   "source": [
    "* Audio feature data is fetched for each of the 126 categories\n",
    "* The year is set manually due to API rate limit\n",
    "* For a particular year, this block of code fetches the audio feature data for a maximum of 6300 tracks"
   ]
  },
  {
   "cell_type": "code",
   "execution_count": null,
   "id": "55c617bc",
   "metadata": {},
   "outputs": [],
   "source": [
    "year = '2022' # Setting manually due to API rate limit\n",
    "genre_data = []\n",
    "for genre in genres:\n",
    "    search_url = 'https://api.spotify.com/v1/search?type=track&q=year:'+ year + '%20genre:\"' + genre + '\"&limit=50'\n",
    "    search_response = spotifyAPI(search_url)\n",
    "    track_ids = \"%2C\".join([track['id'] for track in search_response['tracks']['items']])\n",
    "    if(track_ids != ''):\n",
    "        features_url = 'https://api.spotify.com/v1/audio-features?ids=' + track_ids\n",
    "        features_response = spotifyAPI(features_url)\n",
    "        for track in features_response['audio_features']:\n",
    "            track['year'] = year\n",
    "            track['genre'] = genre\n",
    "            genre_data.append(track)\n",
    "    else:\n",
    "        print('\\x1b[31mError! No tracks found for genre ' + genre + ' in year ' + year )"
   ]
  },
  {
   "cell_type": "markdown",
   "id": "e5d68b23",
   "metadata": {},
   "source": [
    "## CSV Import"
   ]
  },
  {
   "cell_type": "code",
   "execution_count": null,
   "id": "467197cf",
   "metadata": {},
   "outputs": [],
   "source": [
    "keys = genre_data[0].keys()\n",
    "with open('data/csv/genre_data_' + year + '.csv', 'w') as csv_file:\n",
    "    csvwriter = csv.DictWriter(csv_file, keys)\n",
    "    csvwriter.writeheader()\n",
    "    csvwriter.writerows(genre_data)"
   ]
  },
  {
   "cell_type": "markdown",
   "id": "e31e7f96",
   "metadata": {},
   "source": [
    "## JSON Import"
   ]
  },
  {
   "cell_type": "code",
   "execution_count": null,
   "id": "439d14f7",
   "metadata": {},
   "outputs": [],
   "source": [
    "with open('data/json/genre_data_' + year + '.json', 'w') as json_file:\n",
    "    json.dump(genre_data, json_file)"
   ]
  },
  {
   "cell_type": "code",
   "execution_count": null,
   "id": "188cab0c",
   "metadata": {},
   "outputs": [],
   "source": []
  }
 ],
 "metadata": {
  "kernelspec": {
   "display_name": "Python 3 (ipykernel)",
   "language": "python",
   "name": "python3"
  },
  "language_info": {
   "codemirror_mode": {
    "name": "ipython",
    "version": 3
   },
   "file_extension": ".py",
   "mimetype": "text/x-python",
   "name": "python",
   "nbconvert_exporter": "python",
   "pygments_lexer": "ipython3",
   "version": "3.8.2"
  }
 },
 "nbformat": 4,
 "nbformat_minor": 5
}
