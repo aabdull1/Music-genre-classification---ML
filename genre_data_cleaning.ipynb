{
 "cells": [
  {
   "cell_type": "markdown",
   "id": "1dcbd6ea",
   "metadata": {},
   "source": [
    "# Data cleaning for Music Genre classifier"
   ]
  },
  {
   "cell_type": "code",
   "execution_count": null,
   "id": "5bbe3425",
   "metadata": {},
   "outputs": [],
   "source": [
    "# Author: Soumya Sambeet Mohapatra\n",
    "# Date: 20-04-2022\n",
    "# Description: Code to reduce number of genres, selecting important features and creating train and test split"
   ]
  },
  {
   "cell_type": "code",
   "execution_count": 1,
   "id": "1d40ed15",
   "metadata": {},
   "outputs": [],
   "source": [
    "import pandas as pd\n",
    "import os"
   ]
  },
  {
   "cell_type": "markdown",
   "id": "c15e21aa",
   "metadata": {},
   "source": [
    "## Selected genres list\n",
    "\n",
    "- Acoustic\n",
    "- Rock\n",
    "- Pop\n",
    "- Dance\n",
    "- Blues\n",
    "- Jazz\n",
    "- Metal\n",
    "- Techno\n",
    "- Classical\n",
    "- Country"
   ]
  },
  {
   "cell_type": "code",
   "execution_count": 2,
   "id": "4c4f5802",
   "metadata": {},
   "outputs": [],
   "source": [
    "genre_list = ['acoustic','rock','blues','pop','dance','jazz','metal','techno', 'classical', 'country']"
   ]
  },
  {
   "cell_type": "code",
   "execution_count": 3,
   "id": "9242d100",
   "metadata": {},
   "outputs": [],
   "source": [
    "for year in range(1999,2023):\n",
    "    input_file = os.path.join(\"data-csv\", \"genre-data-\" + str(year) + '.csv')\n",
    "    df = pd.read_csv(input_file)\n",
    "    df_filtered = df[df['genre'].isin(genre_list)]\n",
    "    with open('genre_data_clean.csv', 'a') as f:\n",
    "        df_filtered.to_csv(f, mode='a', header=f.tell()==0, index=False)"
   ]
  },
  {
   "cell_type": "markdown",
   "id": "73f81a67",
   "metadata": {},
   "source": [
    "After extracting the selected 10 genres, we arrive at a dataset with about **12000** data points."
   ]
  }
 ],
 "metadata": {
  "kernelspec": {
   "display_name": "Python 3 (ipykernel)",
   "language": "python",
   "name": "python3"
  },
  "language_info": {
   "codemirror_mode": {
    "name": "ipython",
    "version": 3
   },
   "file_extension": ".py",
   "mimetype": "text/x-python",
   "name": "python",
   "nbconvert_exporter": "python",
   "pygments_lexer": "ipython3",
   "version": "3.8.2"
  }
 },
 "nbformat": 4,
 "nbformat_minor": 5
}
