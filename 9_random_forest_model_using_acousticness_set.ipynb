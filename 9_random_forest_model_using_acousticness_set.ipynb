{
 "cells": [
  {
   "cell_type": "markdown",
   "id": "d612bccb",
   "metadata": {},
   "source": [
    "# Random Forest "
   ]
  },
  {
   "cell_type": "code",
   "execution_count": 1,
   "id": "1f0c5106",
   "metadata": {},
   "outputs": [],
   "source": [
    "\n",
    "# Author: Arnova Abdullah\n",
    "# Date: 15-05-2022\n",
    "# Description: Code for creating and evaluating Random Forest Model for stratified training set(using acousticness_cat)\n"
   ]
  },
  {
   "cell_type": "markdown",
   "id": "1f8d3e2e",
   "metadata": {},
   "source": [
    "## Importing modules"
   ]
  },
  {
   "cell_type": "code",
   "execution_count": 2,
   "id": "b382907d",
   "metadata": {},
   "outputs": [],
   "source": [
    "# Run this cell to import the following modules\n",
    "\n",
    "import numpy as np\n",
    "import pandas as pd\n",
    "import matplotlib.pyplot as plt\n",
    "import seaborn as sns\n",
    "%matplotlib inline"
   ]
  },
  {
   "cell_type": "code",
   "execution_count": 3,
   "id": "ae12a89b",
   "metadata": {},
   "outputs": [],
   "source": [
    "# Importing modules for Random Forest evaluation\n",
    "\n",
    "from sklearn.ensemble import RandomForestClassifier\n",
    "from sklearn.metrics import accuracy_score\n",
    "from sklearn.metrics import confusion_matrix\n",
    "from sklearn.multiclass import OneVsRestClassifier\n",
    "from sklearn.metrics import roc_curve,auc"
   ]
  },
  {
   "cell_type": "code",
   "execution_count": 4,
   "id": "f254956b",
   "metadata": {},
   "outputs": [],
   "source": [
    "# Importing modules for performance evaluation\n",
    "\n",
    "from sklearn.preprocessing import LabelEncoder\n",
    "from sklearn.tree import export_graphviz\n",
    "from sklearn.model_selection import cross_val_score, cross_val_predict, GridSearchCV, KFold\n",
    "from sklearn.metrics import confusion_matrix\n",
    "from seaborn import heatmap\n",
    "import matplotlib.pyplot as plt"
   ]
  },
  {
   "cell_type": "markdown",
   "id": "59bb8cdf",
   "metadata": {},
   "source": [
    "## Loading data "
   ]
  },
  {
   "cell_type": "code",
   "execution_count": 7,
   "id": "ee8f04b6",
   "metadata": {},
   "outputs": [
    {
     "data": {
      "text/html": [
       "<div>\n",
       "<style scoped>\n",
       "    .dataframe tbody tr th:only-of-type {\n",
       "        vertical-align: middle;\n",
       "    }\n",
       "\n",
       "    .dataframe tbody tr th {\n",
       "        vertical-align: top;\n",
       "    }\n",
       "\n",
       "    .dataframe thead th {\n",
       "        text-align: right;\n",
       "    }\n",
       "</style>\n",
       "<table border=\"1\" class=\"dataframe\">\n",
       "  <thead>\n",
       "    <tr style=\"text-align: right;\">\n",
       "      <th></th>\n",
       "      <th>danceability</th>\n",
       "      <th>energy</th>\n",
       "      <th>loudness</th>\n",
       "      <th>mode</th>\n",
       "      <th>speechiness</th>\n",
       "      <th>acousticness</th>\n",
       "      <th>instrumentalness</th>\n",
       "      <th>liveness</th>\n",
       "      <th>valence</th>\n",
       "      <th>tempo</th>\n",
       "      <th>time_signature</th>\n",
       "    </tr>\n",
       "  </thead>\n",
       "  <tbody>\n",
       "    <tr>\n",
       "      <th>count</th>\n",
       "      <td>9600.000000</td>\n",
       "      <td>9600.000000</td>\n",
       "      <td>9600.000000</td>\n",
       "      <td>9600.000000</td>\n",
       "      <td>9600.000000</td>\n",
       "      <td>9600.000000</td>\n",
       "      <td>9600.000000</td>\n",
       "      <td>9600.000000</td>\n",
       "      <td>9600.000000</td>\n",
       "      <td>9600.000000</td>\n",
       "      <td>9600.000000</td>\n",
       "    </tr>\n",
       "    <tr>\n",
       "      <th>mean</th>\n",
       "      <td>0.546622</td>\n",
       "      <td>0.612379</td>\n",
       "      <td>-8.960586</td>\n",
       "      <td>0.665729</td>\n",
       "      <td>0.065160</td>\n",
       "      <td>0.308117</td>\n",
       "      <td>0.186712</td>\n",
       "      <td>0.188602</td>\n",
       "      <td>0.464515</td>\n",
       "      <td>120.150775</td>\n",
       "      <td>3.903021</td>\n",
       "    </tr>\n",
       "    <tr>\n",
       "      <th>std</th>\n",
       "      <td>0.166260</td>\n",
       "      <td>0.277470</td>\n",
       "      <td>6.568204</td>\n",
       "      <td>0.471760</td>\n",
       "      <td>0.062292</td>\n",
       "      <td>0.351312</td>\n",
       "      <td>0.335408</td>\n",
       "      <td>0.164115</td>\n",
       "      <td>0.248829</td>\n",
       "      <td>29.648310</td>\n",
       "      <td>0.401932</td>\n",
       "    </tr>\n",
       "    <tr>\n",
       "      <th>min</th>\n",
       "      <td>0.060800</td>\n",
       "      <td>0.000707</td>\n",
       "      <td>-44.761000</td>\n",
       "      <td>0.000000</td>\n",
       "      <td>0.022400</td>\n",
       "      <td>0.000002</td>\n",
       "      <td>0.000000</td>\n",
       "      <td>0.009670</td>\n",
       "      <td>0.024100</td>\n",
       "      <td>40.645000</td>\n",
       "      <td>1.000000</td>\n",
       "    </tr>\n",
       "    <tr>\n",
       "      <th>25%</th>\n",
       "      <td>0.442000</td>\n",
       "      <td>0.432750</td>\n",
       "      <td>-10.287250</td>\n",
       "      <td>0.000000</td>\n",
       "      <td>0.034200</td>\n",
       "      <td>0.012600</td>\n",
       "      <td>0.000000</td>\n",
       "      <td>0.094700</td>\n",
       "      <td>0.263750</td>\n",
       "      <td>97.012000</td>\n",
       "      <td>4.000000</td>\n",
       "    </tr>\n",
       "    <tr>\n",
       "      <th>50%</th>\n",
       "      <td>0.557000</td>\n",
       "      <td>0.673000</td>\n",
       "      <td>-6.826000</td>\n",
       "      <td>1.000000</td>\n",
       "      <td>0.043900</td>\n",
       "      <td>0.129000</td>\n",
       "      <td>0.000131</td>\n",
       "      <td>0.120000</td>\n",
       "      <td>0.460000</td>\n",
       "      <td>120.035500</td>\n",
       "      <td>4.000000</td>\n",
       "    </tr>\n",
       "    <tr>\n",
       "      <th>75%</th>\n",
       "      <td>0.663000</td>\n",
       "      <td>0.843000</td>\n",
       "      <td>-4.873750</td>\n",
       "      <td>1.000000</td>\n",
       "      <td>0.066125</td>\n",
       "      <td>0.593000</td>\n",
       "      <td>0.140000</td>\n",
       "      <td>0.228000</td>\n",
       "      <td>0.656000</td>\n",
       "      <td>138.015000</td>\n",
       "      <td>4.000000</td>\n",
       "    </tr>\n",
       "    <tr>\n",
       "      <th>max</th>\n",
       "      <td>0.982000</td>\n",
       "      <td>0.999000</td>\n",
       "      <td>2.098000</td>\n",
       "      <td>1.000000</td>\n",
       "      <td>0.867000</td>\n",
       "      <td>0.996000</td>\n",
       "      <td>0.993000</td>\n",
       "      <td>0.992000</td>\n",
       "      <td>0.981000</td>\n",
       "      <td>213.087000</td>\n",
       "      <td>5.000000</td>\n",
       "    </tr>\n",
       "  </tbody>\n",
       "</table>\n",
       "</div>"
      ],
      "text/plain": [
       "       danceability       energy     loudness         mode  speechiness  \\\n",
       "count   9600.000000  9600.000000  9600.000000  9600.000000  9600.000000   \n",
       "mean       0.546622     0.612379    -8.960586     0.665729     0.065160   \n",
       "std        0.166260     0.277470     6.568204     0.471760     0.062292   \n",
       "min        0.060800     0.000707   -44.761000     0.000000     0.022400   \n",
       "25%        0.442000     0.432750   -10.287250     0.000000     0.034200   \n",
       "50%        0.557000     0.673000    -6.826000     1.000000     0.043900   \n",
       "75%        0.663000     0.843000    -4.873750     1.000000     0.066125   \n",
       "max        0.982000     0.999000     2.098000     1.000000     0.867000   \n",
       "\n",
       "       acousticness  instrumentalness     liveness      valence        tempo  \\\n",
       "count   9600.000000       9600.000000  9600.000000  9600.000000  9600.000000   \n",
       "mean       0.308117          0.186712     0.188602     0.464515   120.150775   \n",
       "std        0.351312          0.335408     0.164115     0.248829    29.648310   \n",
       "min        0.000002          0.000000     0.009670     0.024100    40.645000   \n",
       "25%        0.012600          0.000000     0.094700     0.263750    97.012000   \n",
       "50%        0.129000          0.000131     0.120000     0.460000   120.035500   \n",
       "75%        0.593000          0.140000     0.228000     0.656000   138.015000   \n",
       "max        0.996000          0.993000     0.992000     0.981000   213.087000   \n",
       "\n",
       "       time_signature  \n",
       "count     9600.000000  \n",
       "mean         3.903021  \n",
       "std          0.401932  \n",
       "min          1.000000  \n",
       "25%          4.000000  \n",
       "50%          4.000000  \n",
       "75%          4.000000  \n",
       "max          5.000000  "
      ]
     },
     "execution_count": 7,
     "metadata": {},
     "output_type": "execute_result"
    }
   ],
   "source": [
    "# Loading training data set\n",
    "df_a_train = pd.read_csv('data/acousticness_train.csv')\n",
    "df_a_train.describe()"
   ]
  },
  {
   "cell_type": "code",
   "execution_count": 9,
   "id": "a4e3441a",
   "metadata": {},
   "outputs": [
    {
     "data": {
      "text/html": [
       "<div>\n",
       "<style scoped>\n",
       "    .dataframe tbody tr th:only-of-type {\n",
       "        vertical-align: middle;\n",
       "    }\n",
       "\n",
       "    .dataframe tbody tr th {\n",
       "        vertical-align: top;\n",
       "    }\n",
       "\n",
       "    .dataframe thead th {\n",
       "        text-align: right;\n",
       "    }\n",
       "</style>\n",
       "<table border=\"1\" class=\"dataframe\">\n",
       "  <thead>\n",
       "    <tr style=\"text-align: right;\">\n",
       "      <th></th>\n",
       "      <th>danceability</th>\n",
       "      <th>energy</th>\n",
       "      <th>loudness</th>\n",
       "      <th>mode</th>\n",
       "      <th>speechiness</th>\n",
       "      <th>acousticness</th>\n",
       "      <th>instrumentalness</th>\n",
       "      <th>liveness</th>\n",
       "      <th>valence</th>\n",
       "      <th>tempo</th>\n",
       "      <th>time_signature</th>\n",
       "      <th>genre</th>\n",
       "    </tr>\n",
       "  </thead>\n",
       "  <tbody>\n",
       "    <tr>\n",
       "      <th>0</th>\n",
       "      <td>0.174</td>\n",
       "      <td>0.742</td>\n",
       "      <td>-5.930</td>\n",
       "      <td>1</td>\n",
       "      <td>0.0485</td>\n",
       "      <td>0.00181</td>\n",
       "      <td>0.28100</td>\n",
       "      <td>0.1980</td>\n",
       "      <td>0.360</td>\n",
       "      <td>163.378</td>\n",
       "      <td>4</td>\n",
       "      <td>pop</td>\n",
       "    </tr>\n",
       "    <tr>\n",
       "      <th>1</th>\n",
       "      <td>0.731</td>\n",
       "      <td>0.675</td>\n",
       "      <td>-5.134</td>\n",
       "      <td>0</td>\n",
       "      <td>0.0434</td>\n",
       "      <td>0.00473</td>\n",
       "      <td>0.00000</td>\n",
       "      <td>0.1410</td>\n",
       "      <td>0.298</td>\n",
       "      <td>124.939</td>\n",
       "      <td>4</td>\n",
       "      <td>pop</td>\n",
       "    </tr>\n",
       "    <tr>\n",
       "      <th>2</th>\n",
       "      <td>0.339</td>\n",
       "      <td>0.951</td>\n",
       "      <td>-5.150</td>\n",
       "      <td>1</td>\n",
       "      <td>0.0370</td>\n",
       "      <td>0.00272</td>\n",
       "      <td>0.00537</td>\n",
       "      <td>0.3220</td>\n",
       "      <td>0.892</td>\n",
       "      <td>159.281</td>\n",
       "      <td>4</td>\n",
       "      <td>pop</td>\n",
       "    </tr>\n",
       "    <tr>\n",
       "      <th>3</th>\n",
       "      <td>0.445</td>\n",
       "      <td>0.544</td>\n",
       "      <td>-10.925</td>\n",
       "      <td>1</td>\n",
       "      <td>0.0314</td>\n",
       "      <td>0.69800</td>\n",
       "      <td>0.47700</td>\n",
       "      <td>0.1150</td>\n",
       "      <td>0.222</td>\n",
       "      <td>101.172</td>\n",
       "      <td>4</td>\n",
       "      <td>blues</td>\n",
       "    </tr>\n",
       "    <tr>\n",
       "      <th>4</th>\n",
       "      <td>0.733</td>\n",
       "      <td>0.261</td>\n",
       "      <td>-14.560</td>\n",
       "      <td>1</td>\n",
       "      <td>0.0496</td>\n",
       "      <td>0.49400</td>\n",
       "      <td>0.04120</td>\n",
       "      <td>0.0581</td>\n",
       "      <td>0.622</td>\n",
       "      <td>91.276</td>\n",
       "      <td>4</td>\n",
       "      <td>acoustic</td>\n",
       "    </tr>\n",
       "  </tbody>\n",
       "</table>\n",
       "</div>"
      ],
      "text/plain": [
       "   danceability  energy  loudness  mode  speechiness  acousticness  \\\n",
       "0         0.174   0.742    -5.930     1       0.0485       0.00181   \n",
       "1         0.731   0.675    -5.134     0       0.0434       0.00473   \n",
       "2         0.339   0.951    -5.150     1       0.0370       0.00272   \n",
       "3         0.445   0.544   -10.925     1       0.0314       0.69800   \n",
       "4         0.733   0.261   -14.560     1       0.0496       0.49400   \n",
       "\n",
       "   instrumentalness  liveness  valence    tempo  time_signature     genre  \n",
       "0           0.28100    0.1980    0.360  163.378               4       pop  \n",
       "1           0.00000    0.1410    0.298  124.939               4       pop  \n",
       "2           0.00537    0.3220    0.892  159.281               4       pop  \n",
       "3           0.47700    0.1150    0.222  101.172               4     blues  \n",
       "4           0.04120    0.0581    0.622   91.276               4  acoustic  "
      ]
     },
     "execution_count": 9,
     "metadata": {},
     "output_type": "execute_result"
    }
   ],
   "source": [
    "df_a_train.head()"
   ]
  },
  {
   "cell_type": "code",
   "execution_count": 8,
   "id": "296d5955",
   "metadata": {},
   "outputs": [
    {
     "data": {
      "text/html": [
       "<div>\n",
       "<style scoped>\n",
       "    .dataframe tbody tr th:only-of-type {\n",
       "        vertical-align: middle;\n",
       "    }\n",
       "\n",
       "    .dataframe tbody tr th {\n",
       "        vertical-align: top;\n",
       "    }\n",
       "\n",
       "    .dataframe thead th {\n",
       "        text-align: right;\n",
       "    }\n",
       "</style>\n",
       "<table border=\"1\" class=\"dataframe\">\n",
       "  <thead>\n",
       "    <tr style=\"text-align: right;\">\n",
       "      <th></th>\n",
       "      <th>danceability</th>\n",
       "      <th>energy</th>\n",
       "      <th>loudness</th>\n",
       "      <th>mode</th>\n",
       "      <th>speechiness</th>\n",
       "      <th>acousticness</th>\n",
       "      <th>instrumentalness</th>\n",
       "      <th>liveness</th>\n",
       "      <th>valence</th>\n",
       "      <th>tempo</th>\n",
       "      <th>time_signature</th>\n",
       "    </tr>\n",
       "  </thead>\n",
       "  <tbody>\n",
       "    <tr>\n",
       "      <th>count</th>\n",
       "      <td>2400.000000</td>\n",
       "      <td>2400.000000</td>\n",
       "      <td>2400.000000</td>\n",
       "      <td>2400.000000</td>\n",
       "      <td>2400.000000</td>\n",
       "      <td>2400.000000</td>\n",
       "      <td>2400.000000</td>\n",
       "      <td>2400.000000</td>\n",
       "      <td>2400.000000</td>\n",
       "      <td>2400.000000</td>\n",
       "      <td>2400.000000</td>\n",
       "    </tr>\n",
       "    <tr>\n",
       "      <th>mean</th>\n",
       "      <td>0.542820</td>\n",
       "      <td>0.611039</td>\n",
       "      <td>-9.102820</td>\n",
       "      <td>0.678333</td>\n",
       "      <td>0.064923</td>\n",
       "      <td>0.306752</td>\n",
       "      <td>0.185980</td>\n",
       "      <td>0.192986</td>\n",
       "      <td>0.457715</td>\n",
       "      <td>119.685119</td>\n",
       "      <td>3.909167</td>\n",
       "    </tr>\n",
       "    <tr>\n",
       "      <th>std</th>\n",
       "      <td>0.165457</td>\n",
       "      <td>0.281432</td>\n",
       "      <td>6.847381</td>\n",
       "      <td>0.467213</td>\n",
       "      <td>0.065410</td>\n",
       "      <td>0.352067</td>\n",
       "      <td>0.336079</td>\n",
       "      <td>0.173703</td>\n",
       "      <td>0.246245</td>\n",
       "      <td>29.694790</td>\n",
       "      <td>0.410471</td>\n",
       "    </tr>\n",
       "    <tr>\n",
       "      <th>min</th>\n",
       "      <td>0.061700</td>\n",
       "      <td>0.001100</td>\n",
       "      <td>-47.898000</td>\n",
       "      <td>0.000000</td>\n",
       "      <td>0.023800</td>\n",
       "      <td>0.000001</td>\n",
       "      <td>0.000000</td>\n",
       "      <td>0.021000</td>\n",
       "      <td>0.028700</td>\n",
       "      <td>35.995000</td>\n",
       "      <td>0.000000</td>\n",
       "    </tr>\n",
       "    <tr>\n",
       "      <th>25%</th>\n",
       "      <td>0.439000</td>\n",
       "      <td>0.427000</td>\n",
       "      <td>-10.464000</td>\n",
       "      <td>0.000000</td>\n",
       "      <td>0.034000</td>\n",
       "      <td>0.011775</td>\n",
       "      <td>0.000000</td>\n",
       "      <td>0.093900</td>\n",
       "      <td>0.258000</td>\n",
       "      <td>96.078000</td>\n",
       "      <td>4.000000</td>\n",
       "    </tr>\n",
       "    <tr>\n",
       "      <th>50%</th>\n",
       "      <td>0.553000</td>\n",
       "      <td>0.677500</td>\n",
       "      <td>-6.768000</td>\n",
       "      <td>1.000000</td>\n",
       "      <td>0.043800</td>\n",
       "      <td>0.126500</td>\n",
       "      <td>0.000112</td>\n",
       "      <td>0.120000</td>\n",
       "      <td>0.451000</td>\n",
       "      <td>119.979500</td>\n",
       "      <td>4.000000</td>\n",
       "    </tr>\n",
       "    <tr>\n",
       "      <th>75%</th>\n",
       "      <td>0.658000</td>\n",
       "      <td>0.846250</td>\n",
       "      <td>-4.900750</td>\n",
       "      <td>1.000000</td>\n",
       "      <td>0.066225</td>\n",
       "      <td>0.587250</td>\n",
       "      <td>0.134000</td>\n",
       "      <td>0.234000</td>\n",
       "      <td>0.642000</td>\n",
       "      <td>138.186250</td>\n",
       "      <td>4.000000</td>\n",
       "    </tr>\n",
       "    <tr>\n",
       "      <th>max</th>\n",
       "      <td>0.967000</td>\n",
       "      <td>0.999000</td>\n",
       "      <td>-0.751000</td>\n",
       "      <td>1.000000</td>\n",
       "      <td>0.926000</td>\n",
       "      <td>0.996000</td>\n",
       "      <td>0.987000</td>\n",
       "      <td>0.991000</td>\n",
       "      <td>0.981000</td>\n",
       "      <td>210.857000</td>\n",
       "      <td>5.000000</td>\n",
       "    </tr>\n",
       "  </tbody>\n",
       "</table>\n",
       "</div>"
      ],
      "text/plain": [
       "       danceability       energy     loudness         mode  speechiness  \\\n",
       "count   2400.000000  2400.000000  2400.000000  2400.000000  2400.000000   \n",
       "mean       0.542820     0.611039    -9.102820     0.678333     0.064923   \n",
       "std        0.165457     0.281432     6.847381     0.467213     0.065410   \n",
       "min        0.061700     0.001100   -47.898000     0.000000     0.023800   \n",
       "25%        0.439000     0.427000   -10.464000     0.000000     0.034000   \n",
       "50%        0.553000     0.677500    -6.768000     1.000000     0.043800   \n",
       "75%        0.658000     0.846250    -4.900750     1.000000     0.066225   \n",
       "max        0.967000     0.999000    -0.751000     1.000000     0.926000   \n",
       "\n",
       "       acousticness  instrumentalness     liveness      valence        tempo  \\\n",
       "count   2400.000000       2400.000000  2400.000000  2400.000000  2400.000000   \n",
       "mean       0.306752          0.185980     0.192986     0.457715   119.685119   \n",
       "std        0.352067          0.336079     0.173703     0.246245    29.694790   \n",
       "min        0.000001          0.000000     0.021000     0.028700    35.995000   \n",
       "25%        0.011775          0.000000     0.093900     0.258000    96.078000   \n",
       "50%        0.126500          0.000112     0.120000     0.451000   119.979500   \n",
       "75%        0.587250          0.134000     0.234000     0.642000   138.186250   \n",
       "max        0.996000          0.987000     0.991000     0.981000   210.857000   \n",
       "\n",
       "       time_signature  \n",
       "count     2400.000000  \n",
       "mean         3.909167  \n",
       "std          0.410471  \n",
       "min          0.000000  \n",
       "25%          4.000000  \n",
       "50%          4.000000  \n",
       "75%          4.000000  \n",
       "max          5.000000  "
      ]
     },
     "execution_count": 8,
     "metadata": {},
     "output_type": "execute_result"
    }
   ],
   "source": [
    "df_a_test = pd.read_csv ('data/acousticness_test.csv')\n",
    "df_a_test.describe ()"
   ]
  },
  {
   "cell_type": "code",
   "execution_count": 10,
   "id": "ffc6f2ab",
   "metadata": {},
   "outputs": [
    {
     "data": {
      "text/html": [
       "<div>\n",
       "<style scoped>\n",
       "    .dataframe tbody tr th:only-of-type {\n",
       "        vertical-align: middle;\n",
       "    }\n",
       "\n",
       "    .dataframe tbody tr th {\n",
       "        vertical-align: top;\n",
       "    }\n",
       "\n",
       "    .dataframe thead th {\n",
       "        text-align: right;\n",
       "    }\n",
       "</style>\n",
       "<table border=\"1\" class=\"dataframe\">\n",
       "  <thead>\n",
       "    <tr style=\"text-align: right;\">\n",
       "      <th></th>\n",
       "      <th>danceability</th>\n",
       "      <th>energy</th>\n",
       "      <th>loudness</th>\n",
       "      <th>mode</th>\n",
       "      <th>speechiness</th>\n",
       "      <th>acousticness</th>\n",
       "      <th>instrumentalness</th>\n",
       "      <th>liveness</th>\n",
       "      <th>valence</th>\n",
       "      <th>tempo</th>\n",
       "      <th>time_signature</th>\n",
       "      <th>genre</th>\n",
       "    </tr>\n",
       "  </thead>\n",
       "  <tbody>\n",
       "    <tr>\n",
       "      <th>0</th>\n",
       "      <td>0.589</td>\n",
       "      <td>0.14600</td>\n",
       "      <td>-14.619</td>\n",
       "      <td>1</td>\n",
       "      <td>0.0772</td>\n",
       "      <td>0.9890</td>\n",
       "      <td>0.948000</td>\n",
       "      <td>0.1110</td>\n",
       "      <td>0.537</td>\n",
       "      <td>119.982</td>\n",
       "      <td>4</td>\n",
       "      <td>acoustic</td>\n",
       "    </tr>\n",
       "    <tr>\n",
       "      <th>1</th>\n",
       "      <td>0.627</td>\n",
       "      <td>0.69900</td>\n",
       "      <td>-4.504</td>\n",
       "      <td>1</td>\n",
       "      <td>0.0244</td>\n",
       "      <td>0.1740</td>\n",
       "      <td>0.000000</td>\n",
       "      <td>0.0789</td>\n",
       "      <td>0.535</td>\n",
       "      <td>94.003</td>\n",
       "      <td>4</td>\n",
       "      <td>rock</td>\n",
       "    </tr>\n",
       "    <tr>\n",
       "      <th>2</th>\n",
       "      <td>0.694</td>\n",
       "      <td>0.77900</td>\n",
       "      <td>-6.984</td>\n",
       "      <td>1</td>\n",
       "      <td>0.0710</td>\n",
       "      <td>0.0688</td>\n",
       "      <td>0.000004</td>\n",
       "      <td>0.0803</td>\n",
       "      <td>0.594</td>\n",
       "      <td>84.975</td>\n",
       "      <td>4</td>\n",
       "      <td>country</td>\n",
       "    </tr>\n",
       "    <tr>\n",
       "      <th>3</th>\n",
       "      <td>0.407</td>\n",
       "      <td>0.00649</td>\n",
       "      <td>-26.590</td>\n",
       "      <td>1</td>\n",
       "      <td>0.0454</td>\n",
       "      <td>0.9940</td>\n",
       "      <td>0.876000</td>\n",
       "      <td>0.0773</td>\n",
       "      <td>0.186</td>\n",
       "      <td>83.061</td>\n",
       "      <td>4</td>\n",
       "      <td>classical</td>\n",
       "    </tr>\n",
       "    <tr>\n",
       "      <th>4</th>\n",
       "      <td>0.755</td>\n",
       "      <td>0.46200</td>\n",
       "      <td>-13.017</td>\n",
       "      <td>0</td>\n",
       "      <td>0.0504</td>\n",
       "      <td>0.0715</td>\n",
       "      <td>0.910000</td>\n",
       "      <td>0.1090</td>\n",
       "      <td>0.680</td>\n",
       "      <td>100.007</td>\n",
       "      <td>4</td>\n",
       "      <td>techno</td>\n",
       "    </tr>\n",
       "  </tbody>\n",
       "</table>\n",
       "</div>"
      ],
      "text/plain": [
       "   danceability   energy  loudness  mode  speechiness  acousticness  \\\n",
       "0         0.589  0.14600   -14.619     1       0.0772        0.9890   \n",
       "1         0.627  0.69900    -4.504     1       0.0244        0.1740   \n",
       "2         0.694  0.77900    -6.984     1       0.0710        0.0688   \n",
       "3         0.407  0.00649   -26.590     1       0.0454        0.9940   \n",
       "4         0.755  0.46200   -13.017     0       0.0504        0.0715   \n",
       "\n",
       "   instrumentalness  liveness  valence    tempo  time_signature      genre  \n",
       "0          0.948000    0.1110    0.537  119.982               4   acoustic  \n",
       "1          0.000000    0.0789    0.535   94.003               4       rock  \n",
       "2          0.000004    0.0803    0.594   84.975               4    country  \n",
       "3          0.876000    0.0773    0.186   83.061               4  classical  \n",
       "4          0.910000    0.1090    0.680  100.007               4     techno  "
      ]
     },
     "execution_count": 10,
     "metadata": {},
     "output_type": "execute_result"
    }
   ],
   "source": [
    "df_a_test.head()"
   ]
  },
  {
   "cell_type": "markdown",
   "id": "2f5ab6cd",
   "metadata": {},
   "source": [
    "## Picking out important features"
   ]
  },
  {
   "cell_type": "code",
   "execution_count": 11,
   "id": "4e67ada5",
   "metadata": {},
   "outputs": [],
   "source": [
    "# Keeping columns energy, loudness, acousticness and instrumentalness, dropping the rest\n",
    "columns = ['danceability', 'mode', 'liveness', 'speechiness', 'valence', 'tempo', 'time_signature', 'genre']\n",
    "X_train = df_a_train.drop(columns, axis=1)\n",
    "y_train, levels = pd.factorize(df_a_train['genre']) # Encoding categorical data to numeric categories"
   ]
  },
  {
   "cell_type": "code",
   "execution_count": 12,
   "id": "7955e32c",
   "metadata": {},
   "outputs": [],
   "source": [
    "# Keeping columns energy, loudness, acousticness and instrumentalness, dropping the rest\n",
    "columns = ['danceability', 'mode', 'liveness', 'speechiness', 'valence', 'tempo', 'time_signature', 'genre']\n",
    "X_test = df_a_test.drop(columns, axis=1)\n",
    "y_test, levels = pd.factorize(df_a_test['genre']) # Encoding categorical data to numeric categories"
   ]
  },
  {
   "cell_type": "markdown",
   "id": "1e3fdad5",
   "metadata": {},
   "source": [
    "## Training the model using Random Forest"
   ]
  },
  {
   "cell_type": "code",
   "execution_count": 13,
   "id": "43e1cc5a",
   "metadata": {},
   "outputs": [
    {
     "data": {
      "text/plain": [
       "OneVsRestClassifier(estimator=RandomForestClassifier(max_features=0.2))"
      ]
     },
     "execution_count": 13,
     "metadata": {},
     "output_type": "execute_result"
    }
   ],
   "source": [
    "# Using OneVsRestClassifier to train training set\n",
    "model = OneVsRestClassifier(RandomForestClassifier(max_features=0.2))\n",
    "model.fit (X_train,y_train)"
   ]
  },
  {
   "cell_type": "markdown",
   "id": "c9ab20b0",
   "metadata": {},
   "source": [
    "## Performance evaluation"
   ]
  },
  {
   "cell_type": "markdown",
   "id": "657b9c48",
   "metadata": {},
   "source": [
    "### 1. Accuracy Score measurement (Training set)"
   ]
  },
  {
   "cell_type": "code",
   "execution_count": 14,
   "id": "98213ef5",
   "metadata": {},
   "outputs": [
    {
     "data": {
      "text/plain": [
       "0.9222916666666666"
      ]
     },
     "execution_count": 14,
     "metadata": {},
     "output_type": "execute_result"
    }
   ],
   "source": [
    "y_train_pred = model.predict (X_train)\n",
    "train_accuracy = accuracy_score (y_true = y_train, y_pred = y_train_pred)\n",
    "train_accuracy"
   ]
  },
  {
   "cell_type": "markdown",
   "id": "0a2d7e13",
   "metadata": {},
   "source": [
    "### 2. Accuracy Score measurement (Test set)"
   ]
  },
  {
   "cell_type": "code",
   "execution_count": 15,
   "id": "1cc5839b",
   "metadata": {},
   "outputs": [
    {
     "data": {
      "text/plain": [
       "0.07708333333333334"
      ]
     },
     "execution_count": 15,
     "metadata": {},
     "output_type": "execute_result"
    }
   ],
   "source": [
    "y_test_pred = model.predict (X_test)\n",
    "test_accuracy = accuracy_score (y_true = y_test, y_pred = y_test_pred)\n",
    "test_accuracy"
   ]
  },
  {
   "cell_type": "markdown",
   "id": "99ec0de9",
   "metadata": {},
   "source": [
    "### 3. Confusion matrix evaluation"
   ]
  },
  {
   "cell_type": "code",
   "execution_count": 16,
   "id": "0068bdb6",
   "metadata": {},
   "outputs": [
    {
     "name": "stdout",
     "output_type": "stream",
     "text": [
      "[[724   8   0   1   0   5 100 109   1   1]\n",
      " [  2 905  21   2   0   5  21   0  11   0]\n",
      " [  0  14 938   0   0   0   2   1   0   0]\n",
      " [  2   2   0 933   0   0  29   3   0   0]\n",
      " [  0   2   0   0 956   1   0   0   0   0]\n",
      " [  3   2   0   2   0 898  36   1   0   0]\n",
      " [ 92  41   4  35   0  62 724  14   0   0]\n",
      " [ 76   0   1   0   0   1  11 861   0   3]\n",
      " [  0  12   0   0   3   0   0   0 948   0]\n",
      " [  0   0   0   0   1   0   0   3   0 967]]\n"
     ]
    }
   ],
   "source": [
    "print(confusion_matrix(y_train, y_train_pred))"
   ]
  },
  {
   "cell_type": "code",
   "execution_count": 17,
   "id": "d70fdb3a",
   "metadata": {},
   "outputs": [
    {
     "data": {
      "text/plain": [
       "<AxesSubplot:xlabel='col_0', ylabel='row_0'>"
      ]
     },
     "execution_count": 17,
     "metadata": {},
     "output_type": "execute_result"
    },
    {
     "data": {
      "image/png": "[encoded data removed]",
      "text/plain": [
       "<Figure size 864x576 with 2 Axes>"
      ]
     },
     "metadata": {
      "needs_background": "light"
     },
     "output_type": "display_data"
    }
   ],
   "source": [
    "cf_matrix = pd.crosstab(levels[y_train],levels[y_train_pred])\n",
    "plt.figure(figsize=(12,8))\n",
    "heatmap(cf_matrix, annot=True, fmt='g')"
   ]
  },
  {
   "cell_type": "markdown",
   "id": "0daf0292",
   "metadata": {},
   "source": [
    "### 4. Cross validation"
   ]
  },
  {
   "cell_type": "code",
   "execution_count": 18,
   "id": "aa7cfc89",
   "metadata": {},
   "outputs": [],
   "source": [
    "from sklearn.model_selection import cross_val_score\n",
    "from sklearn.model_selection import StratifiedKFold"
   ]
  },
  {
   "cell_type": "code",
   "execution_count": 19,
   "id": "f24ce4a3",
   "metadata": {},
   "outputs": [
    {
     "data": {
      "text/plain": [
       "array([0.38625 , 0.37625 , 0.376875])"
      ]
     },
     "execution_count": 19,
     "metadata": {},
     "output_type": "execute_result"
    }
   ],
   "source": [
    "cross_val_score(model, X_train, y_train, cv=3, scoring='accuracy')"
   ]
  },
  {
   "cell_type": "code",
   "execution_count": null,
   "id": "a1a8283f",
   "metadata": {},
   "outputs": [],
   "source": []
  },
  {
   "cell_type": "code",
   "execution_count": null,
   "id": "0731f83c",
   "metadata": {},
   "outputs": [],
   "source": []
  },
  {
   "cell_type": "code",
   "execution_count": null,
   "id": "3853d765",
   "metadata": {},
   "outputs": [],
   "source": []
  },
  {
   "cell_type": "code",
   "execution_count": null,
   "id": "6313a85d",
   "metadata": {},
   "outputs": [],
   "source": []
  },
  {
   "cell_type": "code",
   "execution_count": null,
   "id": "6d310534",
   "metadata": {},
   "outputs": [],
   "source": []
  },
  {
   "cell_type": "code",
   "execution_count": null,
   "id": "ccde5c00",
   "metadata": {},
   "outputs": [],
   "source": []
  }
 ],
 "metadata": {
  "kernelspec": {
   "display_name": "Python 3",
   "language": "python",
   "name": "python3"
  },
  "language_info": {
   "codemirror_mode": {
    "name": "ipython",
    "version": 3
   },
   "file_extension": ".py",
   "mimetype": "text/x-python",
   "name": "python",
   "nbconvert_exporter": "python",
   "pygments_lexer": "ipython3",
   "version": "3.8.8"
  }
 },
 "nbformat": 4,
 "nbformat_minor": 5
}
