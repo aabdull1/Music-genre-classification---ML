{
 "cells": [
  {
   "cell_type": "markdown",
   "id": "f32cdd16",
   "metadata": {},
   "source": [
    "# Training and Evaluating of the Models"
   ]
  },
  {
   "cell_type": "code",
   "execution_count": 12,
   "id": "7a58f100",
   "metadata": {},
   "outputs": [
    {
     "name": "stdout",
     "output_type": "stream",
     "text": [
      "Estimator: RandomForestClassifier(max_depth=10, max_features='sqrt', n_estimators=200)\n",
      "Accuracy: 0.48125\n"
     ]
    }
   ],
   "source": []
  },
  {
   "cell_type": "markdown",
   "id": "2821a24e",
   "metadata": {},
   "source": [
    "### At the end, 2 dataset with different attributes have been processed. The former is with some features dropped and the latter is with the more features. As expected, Model with more features give better result, but all features are not used according to estimator."
   ]
  }
 ],
 "metadata": {
  "kernelspec": {
   "display_name": "Python 3 (ipykernel)",
   "language": "python",
   "name": "python3"
  },
  "language_info": {
   "codemirror_mode": {
    "name": "ipython",
    "version": 3
   },
   "file_extension": ".py",
   "mimetype": "text/x-python",
   "name": "python",
   "nbconvert_exporter": "python",
   "pygments_lexer": "ipython3",
   "version": "3.9.7"
  }
 },
 "nbformat": 4,
 "nbformat_minor": 5
}
