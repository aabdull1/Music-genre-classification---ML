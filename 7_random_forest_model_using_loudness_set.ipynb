{
 "cells": [
  {
   "cell_type": "markdown",
   "id": "d612bccb",
   "metadata": {},
   "source": [
    "# Random Forest "
   ]
  },
  {
   "cell_type": "code",
   "execution_count": 1,
   "id": "1f0c5106",
   "metadata": {},
   "outputs": [],
   "source": [
    "\n",
    "# Author: Arnova Abdullah\n",
    "# Date: 15-05-2022\n",
    "# Description: Code for creating and evaluating Random Forest Model for stratified training set(using loudness_cat)\n"
   ]
  },
  {
   "cell_type": "markdown",
   "id": "1f8d3e2e",
   "metadata": {},
   "source": [
    "## Importing modules"
   ]
  },
  {
   "cell_type": "code",
   "execution_count": 21,
   "id": "b382907d",
   "metadata": {},
   "outputs": [],
   "source": [
    "# Run this cell to import the following modules\n",
    "\n",
    "import numpy as np\n",
    "import pandas as pd\n",
    "import matplotlib.pyplot as plt\n",
    "import seaborn as sns\n",
    "%matplotlib inline"
   ]
  },
  {
   "cell_type": "code",
   "execution_count": 22,
   "id": "ae12a89b",
   "metadata": {},
   "outputs": [],
   "source": [
    "# Importing modules for Random Forest evaluation\n",
    "\n",
    "from sklearn.ensemble import RandomForestClassifier\n",
    "from sklearn.metrics import accuracy_score\n",
    "from sklearn.metrics import confusion_matrix\n",
    "from sklearn.multiclass import OneVsRestClassifier\n",
    "from sklearn.metrics import roc_curve,auc"
   ]
  },
  {
   "cell_type": "code",
   "execution_count": 34,
   "id": "f254956b",
   "metadata": {},
   "outputs": [],
   "source": [
    "# Importing modules for performance evaluation\n",
    "\n",
    "from sklearn.preprocessing import LabelEncoder\n",
    "from sklearn.tree import export_graphviz\n",
    "from sklearn.model_selection import cross_val_score, cross_val_predict, GridSearchCV, KFold\n",
    "from sklearn.metrics import confusion_matrix\n",
    "from seaborn import heatmap\n",
    "import matplotlib.pyplot as plt"
   ]
  },
  {
   "cell_type": "markdown",
   "id": "59bb8cdf",
   "metadata": {},
   "source": [
    "## Loading data "
   ]
  },
  {
   "cell_type": "code",
   "execution_count": 25,
   "id": "ee8f04b6",
   "metadata": {},
   "outputs": [
    {
     "data": {
      "text/html": [
       "<div>\n",
       "<style scoped>\n",
       "    .dataframe tbody tr th:only-of-type {\n",
       "        vertical-align: middle;\n",
       "    }\n",
       "\n",
       "    .dataframe tbody tr th {\n",
       "        vertical-align: top;\n",
       "    }\n",
       "\n",
       "    .dataframe thead th {\n",
       "        text-align: right;\n",
       "    }\n",
       "</style>\n",
       "<table border=\"1\" class=\"dataframe\">\n",
       "  <thead>\n",
       "    <tr style=\"text-align: right;\">\n",
       "      <th></th>\n",
       "      <th>danceability</th>\n",
       "      <th>energy</th>\n",
       "      <th>loudness</th>\n",
       "      <th>mode</th>\n",
       "      <th>speechiness</th>\n",
       "      <th>acousticness</th>\n",
       "      <th>instrumentalness</th>\n",
       "      <th>liveness</th>\n",
       "      <th>valence</th>\n",
       "      <th>tempo</th>\n",
       "      <th>time_signature</th>\n",
       "      <th>genre</th>\n",
       "    </tr>\n",
       "  </thead>\n",
       "  <tbody>\n",
       "    <tr>\n",
       "      <th>0</th>\n",
       "      <td>0.736</td>\n",
       "      <td>0.45800</td>\n",
       "      <td>-7.437</td>\n",
       "      <td>1</td>\n",
       "      <td>0.0316</td>\n",
       "      <td>0.44100</td>\n",
       "      <td>0.000000</td>\n",
       "      <td>0.1480</td>\n",
       "      <td>0.6500</td>\n",
       "      <td>98.977</td>\n",
       "      <td>4</td>\n",
       "      <td>country</td>\n",
       "    </tr>\n",
       "    <tr>\n",
       "      <th>1</th>\n",
       "      <td>0.539</td>\n",
       "      <td>0.70200</td>\n",
       "      <td>-7.291</td>\n",
       "      <td>1</td>\n",
       "      <td>0.0436</td>\n",
       "      <td>0.00245</td>\n",
       "      <td>0.000024</td>\n",
       "      <td>0.1170</td>\n",
       "      <td>0.2060</td>\n",
       "      <td>118.106</td>\n",
       "      <td>4</td>\n",
       "      <td>rock</td>\n",
       "    </tr>\n",
       "    <tr>\n",
       "      <th>2</th>\n",
       "      <td>0.834</td>\n",
       "      <td>0.68500</td>\n",
       "      <td>-5.862</td>\n",
       "      <td>0</td>\n",
       "      <td>0.2250</td>\n",
       "      <td>0.09980</td>\n",
       "      <td>0.000000</td>\n",
       "      <td>0.0514</td>\n",
       "      <td>0.8770</td>\n",
       "      <td>95.507</td>\n",
       "      <td>4</td>\n",
       "      <td>dance</td>\n",
       "    </tr>\n",
       "    <tr>\n",
       "      <th>3</th>\n",
       "      <td>0.468</td>\n",
       "      <td>0.71500</td>\n",
       "      <td>-3.101</td>\n",
       "      <td>0</td>\n",
       "      <td>0.0558</td>\n",
       "      <td>0.00202</td>\n",
       "      <td>0.733000</td>\n",
       "      <td>0.0870</td>\n",
       "      <td>0.6000</td>\n",
       "      <td>141.010</td>\n",
       "      <td>4</td>\n",
       "      <td>blues</td>\n",
       "    </tr>\n",
       "    <tr>\n",
       "      <th>4</th>\n",
       "      <td>0.253</td>\n",
       "      <td>0.00429</td>\n",
       "      <td>-36.172</td>\n",
       "      <td>0</td>\n",
       "      <td>0.0523</td>\n",
       "      <td>0.99000</td>\n",
       "      <td>0.912000</td>\n",
       "      <td>0.1030</td>\n",
       "      <td>0.0368</td>\n",
       "      <td>74.497</td>\n",
       "      <td>3</td>\n",
       "      <td>classical</td>\n",
       "    </tr>\n",
       "  </tbody>\n",
       "</table>\n",
       "</div>"
      ],
      "text/plain": [
       "   danceability   energy  loudness  mode  speechiness  acousticness  \\\n",
       "0         0.736  0.45800    -7.437     1       0.0316       0.44100   \n",
       "1         0.539  0.70200    -7.291     1       0.0436       0.00245   \n",
       "2         0.834  0.68500    -5.862     0       0.2250       0.09980   \n",
       "3         0.468  0.71500    -3.101     0       0.0558       0.00202   \n",
       "4         0.253  0.00429   -36.172     0       0.0523       0.99000   \n",
       "\n",
       "   instrumentalness  liveness  valence    tempo  time_signature      genre  \n",
       "0          0.000000    0.1480   0.6500   98.977               4    country  \n",
       "1          0.000024    0.1170   0.2060  118.106               4       rock  \n",
       "2          0.000000    0.0514   0.8770   95.507               4      dance  \n",
       "3          0.733000    0.0870   0.6000  141.010               4      blues  \n",
       "4          0.912000    0.1030   0.0368   74.497               3  classical  "
      ]
     },
     "execution_count": 25,
     "metadata": {},
     "output_type": "execute_result"
    }
   ],
   "source": [
    "# Loading training data set\n",
    "df = pd.read_csv('data/loudness_train.csv')\n",
    "df.head()"
   ]
  },
  {
   "cell_type": "code",
   "execution_count": 39,
   "id": "296d5955",
   "metadata": {},
   "outputs": [
    {
     "data": {
      "text/html": [
       "<div>\n",
       "<style scoped>\n",
       "    .dataframe tbody tr th:only-of-type {\n",
       "        vertical-align: middle;\n",
       "    }\n",
       "\n",
       "    .dataframe tbody tr th {\n",
       "        vertical-align: top;\n",
       "    }\n",
       "\n",
       "    .dataframe thead th {\n",
       "        text-align: right;\n",
       "    }\n",
       "</style>\n",
       "<table border=\"1\" class=\"dataframe\">\n",
       "  <thead>\n",
       "    <tr style=\"text-align: right;\">\n",
       "      <th></th>\n",
       "      <th>danceability</th>\n",
       "      <th>energy</th>\n",
       "      <th>loudness</th>\n",
       "      <th>mode</th>\n",
       "      <th>speechiness</th>\n",
       "      <th>acousticness</th>\n",
       "      <th>instrumentalness</th>\n",
       "      <th>liveness</th>\n",
       "      <th>valence</th>\n",
       "      <th>tempo</th>\n",
       "      <th>time_signature</th>\n",
       "      <th>genre</th>\n",
       "    </tr>\n",
       "  </thead>\n",
       "  <tbody>\n",
       "    <tr>\n",
       "      <th>0</th>\n",
       "      <td>0.492</td>\n",
       "      <td>0.264</td>\n",
       "      <td>-18.304</td>\n",
       "      <td>1</td>\n",
       "      <td>0.0579</td>\n",
       "      <td>0.893</td>\n",
       "      <td>0.00411</td>\n",
       "      <td>0.9400</td>\n",
       "      <td>0.4760</td>\n",
       "      <td>102.091</td>\n",
       "      <td>4</td>\n",
       "      <td>blues</td>\n",
       "    </tr>\n",
       "    <tr>\n",
       "      <th>1</th>\n",
       "      <td>0.401</td>\n",
       "      <td>0.140</td>\n",
       "      <td>-22.696</td>\n",
       "      <td>1</td>\n",
       "      <td>0.0338</td>\n",
       "      <td>0.990</td>\n",
       "      <td>0.92900</td>\n",
       "      <td>0.0780</td>\n",
       "      <td>0.3260</td>\n",
       "      <td>130.037</td>\n",
       "      <td>4</td>\n",
       "      <td>classical</td>\n",
       "    </tr>\n",
       "    <tr>\n",
       "      <th>2</th>\n",
       "      <td>0.467</td>\n",
       "      <td>0.619</td>\n",
       "      <td>-6.046</td>\n",
       "      <td>0</td>\n",
       "      <td>0.0345</td>\n",
       "      <td>0.216</td>\n",
       "      <td>0.00000</td>\n",
       "      <td>0.0886</td>\n",
       "      <td>0.3460</td>\n",
       "      <td>167.907</td>\n",
       "      <td>4</td>\n",
       "      <td>country</td>\n",
       "    </tr>\n",
       "    <tr>\n",
       "      <th>3</th>\n",
       "      <td>0.353</td>\n",
       "      <td>0.254</td>\n",
       "      <td>-16.205</td>\n",
       "      <td>1</td>\n",
       "      <td>0.0349</td>\n",
       "      <td>0.948</td>\n",
       "      <td>0.85900</td>\n",
       "      <td>0.0843</td>\n",
       "      <td>0.0986</td>\n",
       "      <td>133.808</td>\n",
       "      <td>4</td>\n",
       "      <td>classical</td>\n",
       "    </tr>\n",
       "    <tr>\n",
       "      <th>4</th>\n",
       "      <td>0.339</td>\n",
       "      <td>0.354</td>\n",
       "      <td>-14.257</td>\n",
       "      <td>1</td>\n",
       "      <td>0.0309</td>\n",
       "      <td>0.153</td>\n",
       "      <td>0.57100</td>\n",
       "      <td>0.1080</td>\n",
       "      <td>0.6130</td>\n",
       "      <td>136.384</td>\n",
       "      <td>4</td>\n",
       "      <td>rock</td>\n",
       "    </tr>\n",
       "  </tbody>\n",
       "</table>\n",
       "</div>"
      ],
      "text/plain": [
       "   danceability  energy  loudness  mode  speechiness  acousticness  \\\n",
       "0         0.492   0.264   -18.304     1       0.0579         0.893   \n",
       "1         0.401   0.140   -22.696     1       0.0338         0.990   \n",
       "2         0.467   0.619    -6.046     0       0.0345         0.216   \n",
       "3         0.353   0.254   -16.205     1       0.0349         0.948   \n",
       "4         0.339   0.354   -14.257     1       0.0309         0.153   \n",
       "\n",
       "   instrumentalness  liveness  valence    tempo  time_signature      genre  \n",
       "0           0.00411    0.9400   0.4760  102.091               4      blues  \n",
       "1           0.92900    0.0780   0.3260  130.037               4  classical  \n",
       "2           0.00000    0.0886   0.3460  167.907               4    country  \n",
       "3           0.85900    0.0843   0.0986  133.808               4  classical  \n",
       "4           0.57100    0.1080   0.6130  136.384               4       rock  "
      ]
     },
     "execution_count": 39,
     "metadata": {},
     "output_type": "execute_result"
    }
   ],
   "source": [
    "df_test = pd.read_csv ('data/loudness_test.csv')\n",
    "df_test.head ()"
   ]
  },
  {
   "cell_type": "markdown",
   "id": "2f5ab6cd",
   "metadata": {},
   "source": [
    "## Picking out important features"
   ]
  },
  {
   "cell_type": "code",
   "execution_count": 26,
   "id": "4e67ada5",
   "metadata": {},
   "outputs": [],
   "source": [
    "# Keeping columns energy, loudness, acousticness and instrumentalness, dropping the rest\n",
    "columns = ['danceability', 'mode', 'liveness', 'speechiness', 'valence', 'tempo', 'time_signature', 'genre']\n",
    "X_train = df.drop(columns, axis=1)\n",
    "y_train, levels = pd.factorize(df['genre']) # Encoding categorical data to numeric categories"
   ]
  },
  {
   "cell_type": "code",
   "execution_count": 40,
   "id": "7955e32c",
   "metadata": {},
   "outputs": [],
   "source": [
    "# Keeping columns energy, loudness, acousticness and instrumentalness, dropping the rest\n",
    "columns = ['danceability', 'mode', 'liveness', 'speechiness', 'valence', 'tempo', 'time_signature', 'genre']\n",
    "X_test = df_test.drop(columns, axis=1)\n",
    "y_test, levels = pd.factorize(df_test['genre']) # Encoding categorical data to numeric categories"
   ]
  },
  {
   "cell_type": "markdown",
   "id": "1e3fdad5",
   "metadata": {},
   "source": [
    "## Training the model using Random Forest"
   ]
  },
  {
   "cell_type": "code",
   "execution_count": 31,
   "id": "43e1cc5a",
   "metadata": {},
   "outputs": [
    {
     "data": {
      "text/plain": [
       "OneVsRestClassifier(estimator=RandomForestClassifier(max_features=0.2))"
      ]
     },
     "execution_count": 31,
     "metadata": {},
     "output_type": "execute_result"
    }
   ],
   "source": [
    "# Using OneVsRestClassifier to train training set\n",
    "model = OneVsRestClassifier(RandomForestClassifier(max_features=0.2))\n",
    "model.fit (X_train,y_train)"
   ]
  },
  {
   "cell_type": "markdown",
   "id": "c9ab20b0",
   "metadata": {},
   "source": [
    "## Performance evaluation"
   ]
  },
  {
   "cell_type": "markdown",
   "id": "657b9c48",
   "metadata": {},
   "source": [
    "### 1. Accuracy Score measurement (Training set)"
   ]
  },
  {
   "cell_type": "code",
   "execution_count": 32,
   "id": "98213ef5",
   "metadata": {},
   "outputs": [
    {
     "data": {
      "text/plain": [
       "0.9222916666666666"
      ]
     },
     "execution_count": 32,
     "metadata": {},
     "output_type": "execute_result"
    }
   ],
   "source": [
    "y_train_pred = model.predict (X_train)\n",
    "train_accuracy = accuracy_score (y_true = y_train, y_pred = y_train_pred)\n",
    "train_accuracy"
   ]
  },
  {
   "cell_type": "markdown",
   "id": "0a2d7e13",
   "metadata": {},
   "source": [
    "### 2. Accuracy Score measurement (Test set)"
   ]
  },
  {
   "cell_type": "code",
   "execution_count": 41,
   "id": "1cc5839b",
   "metadata": {},
   "outputs": [
    {
     "data": {
      "text/plain": [
       "0.11541666666666667"
      ]
     },
     "execution_count": 41,
     "metadata": {},
     "output_type": "execute_result"
    }
   ],
   "source": [
    "y_test_pred = model.predict (X_test)\n",
    "test_accuracy = accuracy_score (y_true = y_test, y_pred = y_test_pred)\n",
    "test_accuracy"
   ]
  },
  {
   "cell_type": "markdown",
   "id": "99ec0de9",
   "metadata": {},
   "source": [
    "### 3. Confusion matrix evaluation"
   ]
  },
  {
   "cell_type": "code",
   "execution_count": 66,
   "id": "0068bdb6",
   "metadata": {},
   "outputs": [
    {
     "name": "stdout",
     "output_type": "stream",
     "text": [
      "[[932  29   5   5   0   3   0   0   0   2]\n",
      " [ 37 694  23  36   0 103   0   6   0  65]\n",
      " [  2  11 830   0   0  90   5   0   0   3]\n",
      " [  1  19   0 919   2   3   0  10  13   1]\n",
      " [  0   0   0   0 972   0   0   0   2   0]\n",
      " [  2  79 103   4   0 756   1   2   1  10]\n",
      " [  0   0   1   0   1   0 937   0   1   0]\n",
      " [  1   2   3  17   0   1   0 935   0   0]\n",
      " [  0   0   0   6   3   0   1   0 953   0]\n",
      " [  0  21   1   2   0   7   0   0   0 926]]\n"
     ]
    }
   ],
   "source": [
    "print(confusion_matrix(y_train, y_train_pred))"
   ]
  },
  {
   "cell_type": "code",
   "execution_count": 54,
   "id": "d70fdb3a",
   "metadata": {},
   "outputs": [
    {
     "data": {
      "text/plain": [
       "<AxesSubplot:xlabel='col_0', ylabel='row_0'>"
      ]
     },
     "execution_count": 54,
     "metadata": {},
     "output_type": "execute_result"
    },
    {
     "data": {
      "image/png": "[encoded data removed]",
      "text/plain": [
       "<Figure size 864x576 with 2 Axes>"
      ]
     },
     "metadata": {
      "needs_background": "light"
     },
     "output_type": "display_data"
    }
   ],
   "source": [
    "cf_matrix = pd.crosstab(levels[y_train],levels[y_train_pred])\n",
    "plt.figure(figsize=(12,8))\n",
    "heatmap(cf_matrix, annot=True, fmt='g')"
   ]
  },
  {
   "cell_type": "markdown",
   "id": "0daf0292",
   "metadata": {},
   "source": [
    "### 4. Cross validation"
   ]
  },
  {
   "cell_type": "code",
   "execution_count": 55,
   "id": "aa7cfc89",
   "metadata": {},
   "outputs": [],
   "source": [
    "from sklearn.model_selection import cross_val_score\n",
    "from sklearn.model_selection import StratifiedKFold"
   ]
  },
  {
   "cell_type": "code",
   "execution_count": 67,
   "id": "f24ce4a3",
   "metadata": {},
   "outputs": [
    {
     "data": {
      "text/plain": [
       "array([0.3740625, 0.3828125, 0.3965625])"
      ]
     },
     "execution_count": 67,
     "metadata": {},
     "output_type": "execute_result"
    }
   ],
   "source": [
    "cross_val_score(model, X_train, y_train, cv=3, scoring='accuracy')"
   ]
  },
  {
   "cell_type": "code",
   "execution_count": null,
   "id": "a1a8283f",
   "metadata": {},
   "outputs": [],
   "source": []
  },
  {
   "cell_type": "code",
   "execution_count": null,
   "id": "0731f83c",
   "metadata": {},
   "outputs": [],
   "source": []
  },
  {
   "cell_type": "code",
   "execution_count": null,
   "id": "3853d765",
   "metadata": {},
   "outputs": [],
   "source": []
  },
  {
   "cell_type": "code",
   "execution_count": null,
   "id": "6313a85d",
   "metadata": {},
   "outputs": [],
   "source": []
  },
  {
   "cell_type": "code",
   "execution_count": null,
   "id": "6d310534",
   "metadata": {},
   "outputs": [],
   "source": []
  },
  {
   "cell_type": "code",
   "execution_count": null,
   "id": "ccde5c00",
   "metadata": {},
   "outputs": [],
   "source": []
  }
 ],
 "metadata": {
  "kernelspec": {
   "display_name": "Python 3",
   "language": "python",
   "name": "python3"
  },
  "language_info": {
   "codemirror_mode": {
    "name": "ipython",
    "version": 3
   },
   "file_extension": ".py",
   "mimetype": "text/x-python",
   "name": "python",
   "nbconvert_exporter": "python",
   "pygments_lexer": "ipython3",
   "version": "3.8.8"
  }
 },
 "nbformat": 4,
 "nbformat_minor": 5
}
