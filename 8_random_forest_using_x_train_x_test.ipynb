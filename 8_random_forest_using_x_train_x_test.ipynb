{
 "cells": [
  {
   "cell_type": "markdown",
   "id": "5144fa90",
   "metadata": {},
   "source": [
    "# Random Forest "
   ]
  },
  {
   "cell_type": "code",
   "execution_count": null,
   "id": "b7557a90",
   "metadata": {},
   "outputs": [],
   "source": [
    "\n",
    "# Author: Arnova Abdullah\n",
    "# Date: 15-05-2022\n",
    "# Description: Code for creating and evaluating Random Forest Model for stratified training set (X_train, y_train)\n"
   ]
  },
  {
   "cell_type": "markdown",
   "id": "e641ea81",
   "metadata": {},
   "source": [
    "## Importing modules"
   ]
  },
  {
   "cell_type": "code",
   "execution_count": 24,
   "id": "6d3691a1",
   "metadata": {},
   "outputs": [],
   "source": [
    "# Run this cell to import the following modules\n",
    "\n",
    "import numpy as np\n",
    "import pandas as pd\n",
    "import matplotlib.pyplot as plt\n",
    "import seaborn as sns\n",
    "%matplotlib inline"
   ]
  },
  {
   "cell_type": "code",
   "execution_count": 25,
   "id": "1109caef",
   "metadata": {},
   "outputs": [],
   "source": [
    "# Importing modules for Random Forest evaluation\n",
    "\n",
    "from sklearn.ensemble import RandomForestClassifier\n",
    "from sklearn.metrics import accuracy_score\n",
    "from sklearn.metrics import confusion_matrix\n",
    "from sklearn.multiclass import OneVsRestClassifier\n",
    "from sklearn.metrics import roc_curve,auc"
   ]
  },
  {
   "cell_type": "code",
   "execution_count": 26,
   "id": "02be331d",
   "metadata": {},
   "outputs": [],
   "source": [
    "# Importing modules for performance evaluation\n",
    "\n",
    "from sklearn.preprocessing import LabelEncoder\n",
    "from sklearn.tree import export_graphviz\n",
    "from sklearn.model_selection import cross_val_score, cross_val_predict, GridSearchCV, KFold\n",
    "from sklearn.metrics import confusion_matrix\n",
    "from seaborn import heatmap"
   ]
  },
  {
   "cell_type": "markdown",
   "id": "c69868d2",
   "metadata": {},
   "source": [
    "## Loading data "
   ]
  },
  {
   "cell_type": "code",
   "execution_count": 16,
   "id": "b00fb36e",
   "metadata": {},
   "outputs": [
    {
     "data": {
      "text/html": [
       "<div>\n",
       "<style scoped>\n",
       "    .dataframe tbody tr th:only-of-type {\n",
       "        vertical-align: middle;\n",
       "    }\n",
       "\n",
       "    .dataframe tbody tr th {\n",
       "        vertical-align: top;\n",
       "    }\n",
       "\n",
       "    .dataframe thead th {\n",
       "        text-align: right;\n",
       "    }\n",
       "</style>\n",
       "<table border=\"1\" class=\"dataframe\">\n",
       "  <thead>\n",
       "    <tr style=\"text-align: right;\">\n",
       "      <th></th>\n",
       "      <th>danceability</th>\n",
       "      <th>energy</th>\n",
       "      <th>loudness</th>\n",
       "      <th>mode</th>\n",
       "      <th>speechiness</th>\n",
       "      <th>acousticness</th>\n",
       "      <th>instrumentalness</th>\n",
       "      <th>liveness</th>\n",
       "      <th>valence</th>\n",
       "      <th>tempo</th>\n",
       "      <th>time_signature</th>\n",
       "    </tr>\n",
       "  </thead>\n",
       "  <tbody>\n",
       "    <tr>\n",
       "      <th>count</th>\n",
       "      <td>9600.000000</td>\n",
       "      <td>9600.000000</td>\n",
       "      <td>9600.000000</td>\n",
       "      <td>9600.000000</td>\n",
       "      <td>9600.000000</td>\n",
       "      <td>9600.000000</td>\n",
       "      <td>9600.000000</td>\n",
       "      <td>9600.000000</td>\n",
       "      <td>9600.000000</td>\n",
       "      <td>9600.000000</td>\n",
       "      <td>9600.000000</td>\n",
       "    </tr>\n",
       "    <tr>\n",
       "      <th>mean</th>\n",
       "      <td>0.545470</td>\n",
       "      <td>0.612834</td>\n",
       "      <td>-8.982465</td>\n",
       "      <td>0.671667</td>\n",
       "      <td>0.065199</td>\n",
       "      <td>0.307284</td>\n",
       "      <td>0.186638</td>\n",
       "      <td>0.189256</td>\n",
       "      <td>0.463674</td>\n",
       "      <td>120.064385</td>\n",
       "      <td>3.901979</td>\n",
       "    </tr>\n",
       "    <tr>\n",
       "      <th>std</th>\n",
       "      <td>0.165848</td>\n",
       "      <td>0.278718</td>\n",
       "      <td>6.621223</td>\n",
       "      <td>0.469631</td>\n",
       "      <td>0.063287</td>\n",
       "      <td>0.351468</td>\n",
       "      <td>0.335499</td>\n",
       "      <td>0.166912</td>\n",
       "      <td>0.247005</td>\n",
       "      <td>29.691944</td>\n",
       "      <td>0.412933</td>\n",
       "    </tr>\n",
       "    <tr>\n",
       "      <th>min</th>\n",
       "      <td>0.060800</td>\n",
       "      <td>0.000707</td>\n",
       "      <td>-47.898000</td>\n",
       "      <td>0.000000</td>\n",
       "      <td>0.022700</td>\n",
       "      <td>0.000001</td>\n",
       "      <td>0.000000</td>\n",
       "      <td>0.009670</td>\n",
       "      <td>0.024100</td>\n",
       "      <td>35.995000</td>\n",
       "      <td>0.000000</td>\n",
       "    </tr>\n",
       "    <tr>\n",
       "      <th>25%</th>\n",
       "      <td>0.441000</td>\n",
       "      <td>0.434000</td>\n",
       "      <td>-10.300750</td>\n",
       "      <td>0.000000</td>\n",
       "      <td>0.034200</td>\n",
       "      <td>0.012300</td>\n",
       "      <td>0.000000</td>\n",
       "      <td>0.094475</td>\n",
       "      <td>0.265000</td>\n",
       "      <td>96.919000</td>\n",
       "      <td>4.000000</td>\n",
       "    </tr>\n",
       "    <tr>\n",
       "      <th>50%</th>\n",
       "      <td>0.555000</td>\n",
       "      <td>0.677000</td>\n",
       "      <td>-6.795000</td>\n",
       "      <td>1.000000</td>\n",
       "      <td>0.043800</td>\n",
       "      <td>0.128000</td>\n",
       "      <td>0.000116</td>\n",
       "      <td>0.120000</td>\n",
       "      <td>0.460000</td>\n",
       "      <td>120.046500</td>\n",
       "      <td>4.000000</td>\n",
       "    </tr>\n",
       "    <tr>\n",
       "      <th>75%</th>\n",
       "      <td>0.662000</td>\n",
       "      <td>0.843000</td>\n",
       "      <td>-4.862000</td>\n",
       "      <td>1.000000</td>\n",
       "      <td>0.066300</td>\n",
       "      <td>0.589250</td>\n",
       "      <td>0.137000</td>\n",
       "      <td>0.227000</td>\n",
       "      <td>0.653000</td>\n",
       "      <td>138.039000</td>\n",
       "      <td>4.000000</td>\n",
       "    </tr>\n",
       "    <tr>\n",
       "      <th>max</th>\n",
       "      <td>0.982000</td>\n",
       "      <td>0.999000</td>\n",
       "      <td>1.023000</td>\n",
       "      <td>1.000000</td>\n",
       "      <td>0.926000</td>\n",
       "      <td>0.996000</td>\n",
       "      <td>0.993000</td>\n",
       "      <td>0.992000</td>\n",
       "      <td>0.981000</td>\n",
       "      <td>213.087000</td>\n",
       "      <td>5.000000</td>\n",
       "    </tr>\n",
       "  </tbody>\n",
       "</table>\n",
       "</div>"
      ],
      "text/plain": [
       "       danceability       energy     loudness         mode  speechiness  \\\n",
       "count   9600.000000  9600.000000  9600.000000  9600.000000  9600.000000   \n",
       "mean       0.545470     0.612834    -8.982465     0.671667     0.065199   \n",
       "std        0.165848     0.278718     6.621223     0.469631     0.063287   \n",
       "min        0.060800     0.000707   -47.898000     0.000000     0.022700   \n",
       "25%        0.441000     0.434000   -10.300750     0.000000     0.034200   \n",
       "50%        0.555000     0.677000    -6.795000     1.000000     0.043800   \n",
       "75%        0.662000     0.843000    -4.862000     1.000000     0.066300   \n",
       "max        0.982000     0.999000     1.023000     1.000000     0.926000   \n",
       "\n",
       "       acousticness  instrumentalness     liveness      valence        tempo  \\\n",
       "count   9600.000000       9600.000000  9600.000000  9600.000000  9600.000000   \n",
       "mean       0.307284          0.186638     0.189256     0.463674   120.064385   \n",
       "std        0.351468          0.335499     0.166912     0.247005    29.691944   \n",
       "min        0.000001          0.000000     0.009670     0.024100    35.995000   \n",
       "25%        0.012300          0.000000     0.094475     0.265000    96.919000   \n",
       "50%        0.128000          0.000116     0.120000     0.460000   120.046500   \n",
       "75%        0.589250          0.137000     0.227000     0.653000   138.039000   \n",
       "max        0.996000          0.993000     0.992000     0.981000   213.087000   \n",
       "\n",
       "       time_signature  \n",
       "count     9600.000000  \n",
       "mean         3.901979  \n",
       "std          0.412933  \n",
       "min          0.000000  \n",
       "25%          4.000000  \n",
       "50%          4.000000  \n",
       "75%          4.000000  \n",
       "max          5.000000  "
      ]
     },
     "execution_count": 16,
     "metadata": {},
     "output_type": "execute_result"
    }
   ],
   "source": [
    "# Loading training data set X_train\n",
    "\n",
    "df_X_train = pd.read_csv('data/X_train.csv')\n",
    "df_X_train.head()\n",
    "df_X_train.describe()"
   ]
  },
  {
   "cell_type": "code",
   "execution_count": 11,
   "id": "7640cdc4",
   "metadata": {},
   "outputs": [
    {
     "data": {
      "text/html": [
       "<div>\n",
       "<style scoped>\n",
       "    .dataframe tbody tr th:only-of-type {\n",
       "        vertical-align: middle;\n",
       "    }\n",
       "\n",
       "    .dataframe tbody tr th {\n",
       "        vertical-align: top;\n",
       "    }\n",
       "\n",
       "    .dataframe thead th {\n",
       "        text-align: right;\n",
       "    }\n",
       "</style>\n",
       "<table border=\"1\" class=\"dataframe\">\n",
       "  <thead>\n",
       "    <tr style=\"text-align: right;\">\n",
       "      <th></th>\n",
       "      <th>danceability</th>\n",
       "      <th>energy</th>\n",
       "      <th>loudness</th>\n",
       "      <th>mode</th>\n",
       "      <th>speechiness</th>\n",
       "      <th>acousticness</th>\n",
       "      <th>instrumentalness</th>\n",
       "      <th>liveness</th>\n",
       "      <th>valence</th>\n",
       "      <th>tempo</th>\n",
       "      <th>time_signature</th>\n",
       "    </tr>\n",
       "  </thead>\n",
       "  <tbody>\n",
       "    <tr>\n",
       "      <th>count</th>\n",
       "      <td>2400.000000</td>\n",
       "      <td>2400.000000</td>\n",
       "      <td>2400.000000</td>\n",
       "      <td>2400.000000</td>\n",
       "      <td>2400.000000</td>\n",
       "      <td>2400.000000</td>\n",
       "      <td>2400.000000</td>\n",
       "      <td>2400.000000</td>\n",
       "      <td>2400.000000</td>\n",
       "      <td>2400.000000</td>\n",
       "      <td>2400.000000</td>\n",
       "    </tr>\n",
       "    <tr>\n",
       "      <th>mean</th>\n",
       "      <td>0.547429</td>\n",
       "      <td>0.609217</td>\n",
       "      <td>-9.015305</td>\n",
       "      <td>0.654583</td>\n",
       "      <td>0.064770</td>\n",
       "      <td>0.310083</td>\n",
       "      <td>0.186276</td>\n",
       "      <td>0.190372</td>\n",
       "      <td>0.461078</td>\n",
       "      <td>120.030679</td>\n",
       "      <td>3.913333</td>\n",
       "    </tr>\n",
       "    <tr>\n",
       "      <th>std</th>\n",
       "      <td>0.167127</td>\n",
       "      <td>0.276438</td>\n",
       "      <td>6.641076</td>\n",
       "      <td>0.475603</td>\n",
       "      <td>0.061467</td>\n",
       "      <td>0.351436</td>\n",
       "      <td>0.335716</td>\n",
       "      <td>0.162736</td>\n",
       "      <td>0.253549</td>\n",
       "      <td>29.522751</td>\n",
       "      <td>0.364066</td>\n",
       "    </tr>\n",
       "    <tr>\n",
       "      <th>min</th>\n",
       "      <td>0.067100</td>\n",
       "      <td>0.001610</td>\n",
       "      <td>-40.563000</td>\n",
       "      <td>0.000000</td>\n",
       "      <td>0.022400</td>\n",
       "      <td>0.000002</td>\n",
       "      <td>0.000000</td>\n",
       "      <td>0.021100</td>\n",
       "      <td>0.028700</td>\n",
       "      <td>50.917000</td>\n",
       "      <td>1.000000</td>\n",
       "    </tr>\n",
       "    <tr>\n",
       "      <th>25%</th>\n",
       "      <td>0.444000</td>\n",
       "      <td>0.425000</td>\n",
       "      <td>-10.314500</td>\n",
       "      <td>0.000000</td>\n",
       "      <td>0.034175</td>\n",
       "      <td>0.013000</td>\n",
       "      <td>0.000000</td>\n",
       "      <td>0.095075</td>\n",
       "      <td>0.249750</td>\n",
       "      <td>97.012750</td>\n",
       "      <td>4.000000</td>\n",
       "    </tr>\n",
       "    <tr>\n",
       "      <th>50%</th>\n",
       "      <td>0.557500</td>\n",
       "      <td>0.663500</td>\n",
       "      <td>-6.858500</td>\n",
       "      <td>1.000000</td>\n",
       "      <td>0.043900</td>\n",
       "      <td>0.130000</td>\n",
       "      <td>0.000168</td>\n",
       "      <td>0.123000</td>\n",
       "      <td>0.450000</td>\n",
       "      <td>119.974000</td>\n",
       "      <td>4.000000</td>\n",
       "    </tr>\n",
       "    <tr>\n",
       "      <th>75%</th>\n",
       "      <td>0.665000</td>\n",
       "      <td>0.842000</td>\n",
       "      <td>-4.934750</td>\n",
       "      <td>1.000000</td>\n",
       "      <td>0.065525</td>\n",
       "      <td>0.599000</td>\n",
       "      <td>0.144750</td>\n",
       "      <td>0.237000</td>\n",
       "      <td>0.659000</td>\n",
       "      <td>138.009000</td>\n",
       "      <td>4.000000</td>\n",
       "    </tr>\n",
       "    <tr>\n",
       "      <th>max</th>\n",
       "      <td>0.967000</td>\n",
       "      <td>0.999000</td>\n",
       "      <td>2.098000</td>\n",
       "      <td>1.000000</td>\n",
       "      <td>0.824000</td>\n",
       "      <td>0.996000</td>\n",
       "      <td>0.987000</td>\n",
       "      <td>0.990000</td>\n",
       "      <td>0.981000</td>\n",
       "      <td>210.857000</td>\n",
       "      <td>5.000000</td>\n",
       "    </tr>\n",
       "  </tbody>\n",
       "</table>\n",
       "</div>"
      ],
      "text/plain": [
       "       danceability       energy     loudness         mode  speechiness  \\\n",
       "count   2400.000000  2400.000000  2400.000000  2400.000000  2400.000000   \n",
       "mean       0.547429     0.609217    -9.015305     0.654583     0.064770   \n",
       "std        0.167127     0.276438     6.641076     0.475603     0.061467   \n",
       "min        0.067100     0.001610   -40.563000     0.000000     0.022400   \n",
       "25%        0.444000     0.425000   -10.314500     0.000000     0.034175   \n",
       "50%        0.557500     0.663500    -6.858500     1.000000     0.043900   \n",
       "75%        0.665000     0.842000    -4.934750     1.000000     0.065525   \n",
       "max        0.967000     0.999000     2.098000     1.000000     0.824000   \n",
       "\n",
       "       acousticness  instrumentalness     liveness      valence        tempo  \\\n",
       "count   2400.000000       2400.000000  2400.000000  2400.000000  2400.000000   \n",
       "mean       0.310083          0.186276     0.190372     0.461078   120.030679   \n",
       "std        0.351436          0.335716     0.162736     0.253549    29.522751   \n",
       "min        0.000002          0.000000     0.021100     0.028700    50.917000   \n",
       "25%        0.013000          0.000000     0.095075     0.249750    97.012750   \n",
       "50%        0.130000          0.000168     0.123000     0.450000   119.974000   \n",
       "75%        0.599000          0.144750     0.237000     0.659000   138.009000   \n",
       "max        0.996000          0.987000     0.990000     0.981000   210.857000   \n",
       "\n",
       "       time_signature  \n",
       "count     2400.000000  \n",
       "mean         3.913333  \n",
       "std          0.364066  \n",
       "min          1.000000  \n",
       "25%          4.000000  \n",
       "50%          4.000000  \n",
       "75%          4.000000  \n",
       "max          5.000000  "
      ]
     },
     "execution_count": 11,
     "metadata": {},
     "output_type": "execute_result"
    }
   ],
   "source": [
    "# Loading test data set X_test\n",
    "\n",
    "df_X_test = pd.read_csv ('data/X_test.csv')\n",
    "df_X_test.head ()\n",
    "df_X_test.describe()"
   ]
  },
  {
   "cell_type": "code",
   "execution_count": 13,
   "id": "3ff1a9b0",
   "metadata": {},
   "outputs": [
    {
     "data": {
      "text/html": [
       "<div>\n",
       "<style scoped>\n",
       "    .dataframe tbody tr th:only-of-type {\n",
       "        vertical-align: middle;\n",
       "    }\n",
       "\n",
       "    .dataframe tbody tr th {\n",
       "        vertical-align: top;\n",
       "    }\n",
       "\n",
       "    .dataframe thead th {\n",
       "        text-align: right;\n",
       "    }\n",
       "</style>\n",
       "<table border=\"1\" class=\"dataframe\">\n",
       "  <thead>\n",
       "    <tr style=\"text-align: right;\">\n",
       "      <th></th>\n",
       "      <th>genre</th>\n",
       "    </tr>\n",
       "  </thead>\n",
       "  <tbody>\n",
       "    <tr>\n",
       "      <th>count</th>\n",
       "      <td>2400</td>\n",
       "    </tr>\n",
       "    <tr>\n",
       "      <th>unique</th>\n",
       "      <td>10</td>\n",
       "    </tr>\n",
       "    <tr>\n",
       "      <th>top</th>\n",
       "      <td>country</td>\n",
       "    </tr>\n",
       "    <tr>\n",
       "      <th>freq</th>\n",
       "      <td>240</td>\n",
       "    </tr>\n",
       "  </tbody>\n",
       "</table>\n",
       "</div>"
      ],
      "text/plain": [
       "          genre\n",
       "count      2400\n",
       "unique       10\n",
       "top     country\n",
       "freq        240"
      ]
     },
     "execution_count": 13,
     "metadata": {},
     "output_type": "execute_result"
    }
   ],
   "source": [
    "# Loading test data set y_test\n",
    "\n",
    "df_y_test = pd.read_csv ('data/y_test.csv')\n",
    "df_y_test.head ()\n",
    "df_y_test.describe()"
   ]
  },
  {
   "cell_type": "code",
   "execution_count": 15,
   "id": "d17fae10",
   "metadata": {},
   "outputs": [
    {
     "data": {
      "text/html": [
       "<div>\n",
       "<style scoped>\n",
       "    .dataframe tbody tr th:only-of-type {\n",
       "        vertical-align: middle;\n",
       "    }\n",
       "\n",
       "    .dataframe tbody tr th {\n",
       "        vertical-align: top;\n",
       "    }\n",
       "\n",
       "    .dataframe thead th {\n",
       "        text-align: right;\n",
       "    }\n",
       "</style>\n",
       "<table border=\"1\" class=\"dataframe\">\n",
       "  <thead>\n",
       "    <tr style=\"text-align: right;\">\n",
       "      <th></th>\n",
       "      <th>genre</th>\n",
       "    </tr>\n",
       "  </thead>\n",
       "  <tbody>\n",
       "    <tr>\n",
       "      <th>count</th>\n",
       "      <td>9600</td>\n",
       "    </tr>\n",
       "    <tr>\n",
       "      <th>unique</th>\n",
       "      <td>10</td>\n",
       "    </tr>\n",
       "    <tr>\n",
       "      <th>top</th>\n",
       "      <td>jazz</td>\n",
       "    </tr>\n",
       "    <tr>\n",
       "      <th>freq</th>\n",
       "      <td>960</td>\n",
       "    </tr>\n",
       "  </tbody>\n",
       "</table>\n",
       "</div>"
      ],
      "text/plain": [
       "       genre\n",
       "count   9600\n",
       "unique    10\n",
       "top     jazz\n",
       "freq     960"
      ]
     },
     "execution_count": 15,
     "metadata": {},
     "output_type": "execute_result"
    }
   ],
   "source": [
    "# Loading training data set y_train\n",
    "\n",
    "df_y_train = pd.read_csv ('data/y_train.csv')\n",
    "df_y_train.head ()\n",
    "df_y_train.describe()"
   ]
  },
  {
   "cell_type": "markdown",
   "id": "6da9556c",
   "metadata": {},
   "source": [
    "## Training the model using Random Forest"
   ]
  },
  {
   "cell_type": "code",
   "execution_count": 18,
   "id": "c0266c97",
   "metadata": {},
   "outputs": [
    {
     "data": {
      "text/plain": [
       "OneVsRestClassifier(estimator=RandomForestClassifier(max_features=0.2))"
      ]
     },
     "execution_count": 18,
     "metadata": {},
     "output_type": "execute_result"
    }
   ],
   "source": [
    "# Using OneVsRestClassifier to train training set\n",
    "model = OneVsRestClassifier(RandomForestClassifier(max_features=0.2))\n",
    "model.fit (df_X_train, df_y_train)"
   ]
  },
  {
   "cell_type": "markdown",
   "id": "1e455cef",
   "metadata": {},
   "source": [
    "## Performance evaluation"
   ]
  },
  {
   "cell_type": "markdown",
   "id": "473f28a1",
   "metadata": {},
   "source": [
    "### 1. Accuracy Score measurement (Training set)"
   ]
  },
  {
   "cell_type": "code",
   "execution_count": 19,
   "id": "5eaad140",
   "metadata": {},
   "outputs": [
    {
     "data": {
      "text/plain": [
       "0.9232291666666667"
      ]
     },
     "execution_count": 19,
     "metadata": {},
     "output_type": "execute_result"
    }
   ],
   "source": [
    "y_train_pred = model.predict (df_X_train)\n",
    "train_accuracy = accuracy_score (y_true = df_y_train, y_pred = y_train_pred)\n",
    "train_accuracy"
   ]
  },
  {
   "cell_type": "markdown",
   "id": "0470828f",
   "metadata": {},
   "source": [
    "### 2. Accuracy Score measurement (Test set)"
   ]
  },
  {
   "cell_type": "code",
   "execution_count": 20,
   "id": "d8610018",
   "metadata": {},
   "outputs": [
    {
     "data": {
      "text/plain": [
       "0.4716666666666667"
      ]
     },
     "execution_count": 20,
     "metadata": {},
     "output_type": "execute_result"
    }
   ],
   "source": [
    "y_test_pred = model.predict (df_X_test)\n",
    "test_accuracy = accuracy_score (y_true = df_y_test, y_pred = y_test_pred)\n",
    "test_accuracy"
   ]
  },
  {
   "cell_type": "markdown",
   "id": "979bd348",
   "metadata": {},
   "source": [
    "### 3. Confusion matrix evaluation"
   ]
  },
  {
   "cell_type": "code",
   "execution_count": 21,
   "id": "8d758f1f",
   "metadata": {},
   "outputs": [
    {
     "name": "stdout",
     "output_type": "stream",
     "text": [
      "[[945  12   0   1   0   0   0   1   1   0]\n",
      " [ 20 892   1   3   0  13   1   3  27   0]\n",
      " [  0   1 957   0   0   1   1   0   0   0]\n",
      " [  0   1   0 928   2   0   0   1  28   0]\n",
      " [  2   0   0   5 857   0   2  80  13   1]\n",
      " [  0   7   3   0   0 948   0   0   0   2]\n",
      " [  0   5   0   3   1   0 915   2  34   0]\n",
      " [  1   3   0   2 108   0   9 745  91   1]\n",
      " [  6  22   0  38  19   0  64  91 720   0]\n",
      " [  0   0   1   0   2   1   0   0   0 956]]\n"
     ]
    }
   ],
   "source": [
    "print(confusion_matrix(df_y_train, y_train_pred))"
   ]
  },
  {
   "cell_type": "code",
   "execution_count": 29,
   "id": "9d22fbae",
   "metadata": {},
   "outputs": [
    {
     "data": {
      "text/plain": [
       "<AxesSubplot:>"
      ]
     },
     "execution_count": 29,
     "metadata": {},
     "output_type": "execute_result"
    },
    {
     "data": {
      "image/png": "[encoded data removed]",
      "text/plain": [
       "<Figure size 432x288 with 2 Axes>"
      ]
     },
     "metadata": {
      "needs_background": "light"
     },
     "output_type": "display_data"
    }
   ],
   "source": [
    "sns.heatmap(confusion_matrix(df_y_train, y_train_pred), annot=True, fmt=\"d\")"
   ]
  },
  {
   "cell_type": "markdown",
   "id": "ec58e206",
   "metadata": {},
   "source": [
    "### 4. Cross validation score"
   ]
  },
  {
   "cell_type": "code",
   "execution_count": 30,
   "id": "cae26592",
   "metadata": {},
   "outputs": [
    {
     "data": {
      "text/plain": [
       "array([0.47125  , 0.469375 , 0.4865625])"
      ]
     },
     "execution_count": 30,
     "metadata": {},
     "output_type": "execute_result"
    }
   ],
   "source": [
    "cross_val_score(model, df_X_train, df_y_train, cv=3, scoring='accuracy')"
   ]
  },
  {
   "cell_type": "code",
   "execution_count": null,
   "id": "6e706862",
   "metadata": {},
   "outputs": [],
   "source": []
  }
 ],
 "metadata": {
  "kernelspec": {
   "display_name": "Python 3",
   "language": "python",
   "name": "python3"
  },
  "language_info": {
   "codemirror_mode": {
    "name": "ipython",
    "version": 3
   },
   "file_extension": ".py",
   "mimetype": "text/x-python",
   "name": "python",
   "nbconvert_exporter": "python",
   "pygments_lexer": "ipython3",
   "version": "3.8.8"
  }
 },
 "nbformat": 4,
 "nbformat_minor": 5
}
