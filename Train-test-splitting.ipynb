{
 "cells": [
  {
   "cell_type": "markdown",
   "id": "a50575e0",
   "metadata": {},
   "source": [
    "## Straified Sampling"
   ]
  },
  {
   "cell_type": "code",
   "execution_count": null,
   "id": "cdc23f2e",
   "metadata": {},
   "outputs": [],
   "source": [
    "import pandas as pd\n",
    "from sklearn.model_selection import train_test_split"
   ]
  },
  {
   "cell_type": "code",
   "execution_count": 3,
   "id": "5bafefda",
   "metadata": {},
   "outputs": [
    {
     "data": {
      "text/html": [
       "<div>\n",
       "<style scoped>\n",
       "    .dataframe tbody tr th:only-of-type {\n",
       "        vertical-align: middle;\n",
       "    }\n",
       "\n",
       "    .dataframe tbody tr th {\n",
       "        vertical-align: top;\n",
       "    }\n",
       "\n",
       "    .dataframe thead th {\n",
       "        text-align: right;\n",
       "    }\n",
       "</style>\n",
       "<table border=\"1\" class=\"dataframe\">\n",
       "  <thead>\n",
       "    <tr style=\"text-align: right;\">\n",
       "      <th></th>\n",
       "      <th>danceability</th>\n",
       "      <th>energy</th>\n",
       "      <th>key</th>\n",
       "      <th>loudness</th>\n",
       "      <th>mode</th>\n",
       "      <th>speechiness</th>\n",
       "      <th>acousticness</th>\n",
       "      <th>instrumentalness</th>\n",
       "      <th>liveness</th>\n",
       "      <th>valence</th>\n",
       "      <th>tempo</th>\n",
       "      <th>duration_ms</th>\n",
       "      <th>time_signature</th>\n",
       "      <th>genre</th>\n",
       "    </tr>\n",
       "  </thead>\n",
       "  <tbody>\n",
       "    <tr>\n",
       "      <th>0</th>\n",
       "      <td>0.507</td>\n",
       "      <td>0.7100</td>\n",
       "      <td>5</td>\n",
       "      <td>-5.020</td>\n",
       "      <td>1</td>\n",
       "      <td>0.0291</td>\n",
       "      <td>0.0975</td>\n",
       "      <td>0.000011</td>\n",
       "      <td>0.170</td>\n",
       "      <td>0.450</td>\n",
       "      <td>134.647</td>\n",
       "      <td>273573</td>\n",
       "      <td>4</td>\n",
       "      <td>acoustic</td>\n",
       "    </tr>\n",
       "    <tr>\n",
       "      <th>1</th>\n",
       "      <td>0.496</td>\n",
       "      <td>0.3780</td>\n",
       "      <td>11</td>\n",
       "      <td>-7.878</td>\n",
       "      <td>1</td>\n",
       "      <td>0.0336</td>\n",
       "      <td>0.8980</td>\n",
       "      <td>0.000001</td>\n",
       "      <td>0.109</td>\n",
       "      <td>0.335</td>\n",
       "      <td>144.092</td>\n",
       "      <td>277667</td>\n",
       "      <td>3</td>\n",
       "      <td>acoustic</td>\n",
       "    </tr>\n",
       "    <tr>\n",
       "      <th>2</th>\n",
       "      <td>0.760</td>\n",
       "      <td>0.7650</td>\n",
       "      <td>0</td>\n",
       "      <td>-9.319</td>\n",
       "      <td>1</td>\n",
       "      <td>0.0352</td>\n",
       "      <td>0.2890</td>\n",
       "      <td>0.000008</td>\n",
       "      <td>0.233</td>\n",
       "      <td>0.868</td>\n",
       "      <td>107.602</td>\n",
       "      <td>226933</td>\n",
       "      <td>4</td>\n",
       "      <td>acoustic</td>\n",
       "    </tr>\n",
       "    <tr>\n",
       "      <th>3</th>\n",
       "      <td>0.607</td>\n",
       "      <td>0.1960</td>\n",
       "      <td>1</td>\n",
       "      <td>-19.705</td>\n",
       "      <td>1</td>\n",
       "      <td>0.0595</td>\n",
       "      <td>0.9040</td>\n",
       "      <td>0.727000</td>\n",
       "      <td>0.111</td>\n",
       "      <td>0.187</td>\n",
       "      <td>111.031</td>\n",
       "      <td>223948</td>\n",
       "      <td>4</td>\n",
       "      <td>acoustic</td>\n",
       "    </tr>\n",
       "    <tr>\n",
       "      <th>4</th>\n",
       "      <td>0.497</td>\n",
       "      <td>0.0919</td>\n",
       "      <td>3</td>\n",
       "      <td>-15.685</td>\n",
       "      <td>1</td>\n",
       "      <td>0.0704</td>\n",
       "      <td>0.9680</td>\n",
       "      <td>0.002140</td>\n",
       "      <td>0.133</td>\n",
       "      <td>0.548</td>\n",
       "      <td>206.431</td>\n",
       "      <td>139693</td>\n",
       "      <td>4</td>\n",
       "      <td>acoustic</td>\n",
       "    </tr>\n",
       "  </tbody>\n",
       "</table>\n",
       "</div>"
      ],
      "text/plain": [
       "   danceability  energy  key  loudness  mode  speechiness  acousticness  \\\n",
       "0         0.507  0.7100    5    -5.020     1       0.0291        0.0975   \n",
       "1         0.496  0.3780   11    -7.878     1       0.0336        0.8980   \n",
       "2         0.760  0.7650    0    -9.319     1       0.0352        0.2890   \n",
       "3         0.607  0.1960    1   -19.705     1       0.0595        0.9040   \n",
       "4         0.497  0.0919    3   -15.685     1       0.0704        0.9680   \n",
       "\n",
       "   instrumentalness  liveness  valence    tempo  duration_ms  time_signature  \\\n",
       "0          0.000011     0.170    0.450  134.647       273573               4   \n",
       "1          0.000001     0.109    0.335  144.092       277667               3   \n",
       "2          0.000008     0.233    0.868  107.602       226933               4   \n",
       "3          0.727000     0.111    0.187  111.031       223948               4   \n",
       "4          0.002140     0.133    0.548  206.431       139693               4   \n",
       "\n",
       "      genre  \n",
       "0  acoustic  \n",
       "1  acoustic  \n",
       "2  acoustic  \n",
       "3  acoustic  \n",
       "4  acoustic  "
      ]
     },
     "execution_count": 3,
     "metadata": {},
     "output_type": "execute_result"
    }
   ],
   "source": [
    "df = pd.read_csv('music_genre_dataset.csv')\n",
    "df.head()"
   ]
  },
  {
   "cell_type": "code",
   "execution_count": 4,
   "id": "e75af66d",
   "metadata": {},
   "outputs": [],
   "source": [
    "dataset = df.copy()"
   ]
  },
  {
   "cell_type": "code",
   "execution_count": 5,
   "id": "2765860a",
   "metadata": {},
   "outputs": [
    {
     "data": {
      "text/html": [
       "<div>\n",
       "<style scoped>\n",
       "    .dataframe tbody tr th:only-of-type {\n",
       "        vertical-align: middle;\n",
       "    }\n",
       "\n",
       "    .dataframe tbody tr th {\n",
       "        vertical-align: top;\n",
       "    }\n",
       "\n",
       "    .dataframe thead th {\n",
       "        text-align: right;\n",
       "    }\n",
       "</style>\n",
       "<table border=\"1\" class=\"dataframe\">\n",
       "  <thead>\n",
       "    <tr style=\"text-align: right;\">\n",
       "      <th></th>\n",
       "      <th>danceability</th>\n",
       "      <th>energy</th>\n",
       "      <th>key</th>\n",
       "      <th>loudness</th>\n",
       "      <th>mode</th>\n",
       "      <th>speechiness</th>\n",
       "      <th>acousticness</th>\n",
       "      <th>instrumentalness</th>\n",
       "      <th>liveness</th>\n",
       "      <th>valence</th>\n",
       "      <th>tempo</th>\n",
       "      <th>duration_ms</th>\n",
       "      <th>time_signature</th>\n",
       "      <th>genre</th>\n",
       "    </tr>\n",
       "  </thead>\n",
       "  <tbody>\n",
       "    <tr>\n",
       "      <th>0</th>\n",
       "      <td>0.507</td>\n",
       "      <td>0.7100</td>\n",
       "      <td>5</td>\n",
       "      <td>-5.020</td>\n",
       "      <td>1</td>\n",
       "      <td>0.0291</td>\n",
       "      <td>0.0975</td>\n",
       "      <td>0.000011</td>\n",
       "      <td>0.170</td>\n",
       "      <td>0.450</td>\n",
       "      <td>134.647</td>\n",
       "      <td>273573</td>\n",
       "      <td>4</td>\n",
       "      <td>acoustic</td>\n",
       "    </tr>\n",
       "    <tr>\n",
       "      <th>1</th>\n",
       "      <td>0.496</td>\n",
       "      <td>0.3780</td>\n",
       "      <td>11</td>\n",
       "      <td>-7.878</td>\n",
       "      <td>1</td>\n",
       "      <td>0.0336</td>\n",
       "      <td>0.8980</td>\n",
       "      <td>0.000001</td>\n",
       "      <td>0.109</td>\n",
       "      <td>0.335</td>\n",
       "      <td>144.092</td>\n",
       "      <td>277667</td>\n",
       "      <td>3</td>\n",
       "      <td>acoustic</td>\n",
       "    </tr>\n",
       "    <tr>\n",
       "      <th>2</th>\n",
       "      <td>0.760</td>\n",
       "      <td>0.7650</td>\n",
       "      <td>0</td>\n",
       "      <td>-9.319</td>\n",
       "      <td>1</td>\n",
       "      <td>0.0352</td>\n",
       "      <td>0.2890</td>\n",
       "      <td>0.000008</td>\n",
       "      <td>0.233</td>\n",
       "      <td>0.868</td>\n",
       "      <td>107.602</td>\n",
       "      <td>226933</td>\n",
       "      <td>4</td>\n",
       "      <td>acoustic</td>\n",
       "    </tr>\n",
       "    <tr>\n",
       "      <th>3</th>\n",
       "      <td>0.607</td>\n",
       "      <td>0.1960</td>\n",
       "      <td>1</td>\n",
       "      <td>-19.705</td>\n",
       "      <td>1</td>\n",
       "      <td>0.0595</td>\n",
       "      <td>0.9040</td>\n",
       "      <td>0.727000</td>\n",
       "      <td>0.111</td>\n",
       "      <td>0.187</td>\n",
       "      <td>111.031</td>\n",
       "      <td>223948</td>\n",
       "      <td>4</td>\n",
       "      <td>acoustic</td>\n",
       "    </tr>\n",
       "    <tr>\n",
       "      <th>4</th>\n",
       "      <td>0.497</td>\n",
       "      <td>0.0919</td>\n",
       "      <td>3</td>\n",
       "      <td>-15.685</td>\n",
       "      <td>1</td>\n",
       "      <td>0.0704</td>\n",
       "      <td>0.9680</td>\n",
       "      <td>0.002140</td>\n",
       "      <td>0.133</td>\n",
       "      <td>0.548</td>\n",
       "      <td>206.431</td>\n",
       "      <td>139693</td>\n",
       "      <td>4</td>\n",
       "      <td>acoustic</td>\n",
       "    </tr>\n",
       "  </tbody>\n",
       "</table>\n",
       "</div>"
      ],
      "text/plain": [
       "   danceability  energy  key  loudness  mode  speechiness  acousticness  \\\n",
       "0         0.507  0.7100    5    -5.020     1       0.0291        0.0975   \n",
       "1         0.496  0.3780   11    -7.878     1       0.0336        0.8980   \n",
       "2         0.760  0.7650    0    -9.319     1       0.0352        0.2890   \n",
       "3         0.607  0.1960    1   -19.705     1       0.0595        0.9040   \n",
       "4         0.497  0.0919    3   -15.685     1       0.0704        0.9680   \n",
       "\n",
       "   instrumentalness  liveness  valence    tempo  duration_ms  time_signature  \\\n",
       "0          0.000011     0.170    0.450  134.647       273573               4   \n",
       "1          0.000001     0.109    0.335  144.092       277667               3   \n",
       "2          0.000008     0.233    0.868  107.602       226933               4   \n",
       "3          0.727000     0.111    0.187  111.031       223948               4   \n",
       "4          0.002140     0.133    0.548  206.431       139693               4   \n",
       "\n",
       "      genre  \n",
       "0  acoustic  \n",
       "1  acoustic  \n",
       "2  acoustic  \n",
       "3  acoustic  \n",
       "4  acoustic  "
      ]
     },
     "execution_count": 5,
     "metadata": {},
     "output_type": "execute_result"
    }
   ],
   "source": [
    "dataset.head()"
   ]
  },
  {
   "cell_type": "code",
   "execution_count": 20,
   "id": "e4e943c6",
   "metadata": {},
   "outputs": [
    {
     "data": {
      "text/plain": [
       "((9600, 13), (2400, 13), (9600,), (2400,))"
      ]
     },
     "execution_count": 20,
     "metadata": {},
     "output_type": "execute_result"
    }
   ],
   "source": [
    "X = dataset.drop('genre',axis=1)\n",
    "y = dataset['genre']\n",
    "X_train, X_test, y_train, y_test = train_test_split(X, y, test_size=0.2, random_state=42, stratify=dataset['genre'])\n",
    "X_train.shape, X_test.shape, y_train.shape, y_test.shape"
   ]
  },
  {
   "cell_type": "code",
   "execution_count": 26,
   "id": "ff346054",
   "metadata": {},
   "outputs": [
    {
     "data": {
      "text/plain": [
       "danceability  energy  key  loudness  mode  speechiness  acousticness  instrumentalness  liveness  valence  tempo    duration_ms  time_signature\n",
       "0.733         0.710   5    -5.849    0     0.0292       0.14500       0.115000          0.0956    0.965    127.975  239600       4                 6\n",
       "0.344         0.952   7    -4.621    1     0.0458       0.02870       0.000000          0.0368    0.767    205.651  245093       4                 5\n",
       "0.574         0.414   9    -7.160    0     0.0495       0.84200       0.000000          0.1720    0.867    77.968   163040       4                 5\n",
       "0.358         0.883   4    -6.669    1     0.0485       0.00217       0.025800          0.1210    0.703    155.482  246000       4                 5\n",
       "0.578         0.866   1    -3.804    1     0.0619       0.00701       0.000000          0.2570    0.619    128.038  199080       4                 5\n",
       "                                                                                                                                                  ..\n",
       "0.489         0.498   7    -5.055    1     0.0259       0.63500       0.000002          0.0915    0.248    141.883  207213       4                 1\n",
       "              0.327   0    -12.523   1     0.0285       0.71200       0.001200          0.1350    0.282    99.544   242280       4                 1\n",
       "              0.308   0    -5.488    1     0.0297       0.87900       0.000000          0.0959    0.290    128.855  242867       3                 1\n",
       "              0.141   10   -9.965    1     0.0313       0.95100       0.000002          0.1560    0.506    135.181  234813       3                 1\n",
       "0.982         0.478   5    -7.658    0     0.2020       0.11800       0.740000          0.1120    0.567    122.007  412133       4                 1\n",
       "Length: 8584, dtype: int64"
      ]
     },
     "execution_count": 26,
     "metadata": {},
     "output_type": "execute_result"
    }
   ],
   "source": [
    "X_train.value_counts()"
   ]
  },
  {
   "cell_type": "code",
   "execution_count": 22,
   "id": "5dc7567b",
   "metadata": {},
   "outputs": [
    {
     "data": {
      "text/plain": [
       "danceability  energy  key  loudness  mode  speechiness  acousticness  instrumentalness  liveness  valence  tempo    duration_ms  time_signature\n",
       "0.384         0.9070  7    -6.146    1     0.0439       0.135000      0.095000          0.1930    0.8200   160.852  203800       4                 3\n",
       "0.702         0.8250  6    -3.787    0     0.0601       0.008830      0.000000          0.0674    0.9150   102.977  203064       4                 3\n",
       "0.502         0.7860  9    -4.378    0     0.3170       0.255000      0.000000          0.6500    0.7380   169.023  243491       4                 3\n",
       "0.577         0.1600  9    -23.405   1     0.0319       0.821000      0.087200          0.6470    0.4800   104.309  255424       4                 2\n",
       "0.674         0.5950  9    -10.599   1     0.0333       0.239000      0.000000          0.1120    0.7630   105.852  162046       4                 2\n",
       "                                                                                                                                                  ..\n",
       "0.488         0.0374  7    -22.637   1     0.0403       0.947000      0.000191          0.1470    0.2590   87.275   206067       4                 1\n",
       "              0.3430  4    -8.985    1     0.0436       0.556000      0.000000          0.2100    0.0978   102.819  206459       4                 1\n",
       "              0.7250  0    -4.522    1     0.0311       0.000812      0.000000          0.0837    0.4800   145.875  251267       4                 1\n",
       "              0.9360  1    -3.431    1     0.0699       0.000435      0.000010          0.1060    0.3980   95.009   220600       4                 1\n",
       "0.967         0.5830  7    -5.562    0     0.0789       0.058400      0.000000          0.0519    0.9640   117.000  242733       4                 1\n",
       "Length: 2338, dtype: int64"
      ]
     },
     "execution_count": 22,
     "metadata": {},
     "output_type": "execute_result"
    }
   ],
   "source": [
    "X_test.value_counts()"
   ]
  },
  {
   "cell_type": "code",
   "execution_count": 23,
   "id": "0e78ab9a",
   "metadata": {},
   "outputs": [
    {
     "data": {
      "text/plain": [
       "jazz         960\n",
       "metal        960\n",
       "classical    960\n",
       "rock         960\n",
       "blues        960\n",
       "techno       960\n",
       "acoustic     960\n",
       "dance        960\n",
       "pop          960\n",
       "country      960\n",
       "Name: genre, dtype: int64"
      ]
     },
     "execution_count": 23,
     "metadata": {},
     "output_type": "execute_result"
    }
   ],
   "source": [
    "y_train.value_counts()"
   ]
  },
  {
   "cell_type": "code",
   "execution_count": 24,
   "id": "6e58d614",
   "metadata": {},
   "outputs": [
    {
     "data": {
      "text/plain": [
       "country      240\n",
       "techno       240\n",
       "acoustic     240\n",
       "rock         240\n",
       "jazz         240\n",
       "dance        240\n",
       "metal        240\n",
       "classical    240\n",
       "blues        240\n",
       "pop          240\n",
       "Name: genre, dtype: int64"
      ]
     },
     "execution_count": 24,
     "metadata": {},
     "output_type": "execute_result"
    }
   ],
   "source": [
    "y_test.value_counts()"
   ]
  },
  {
   "cell_type": "code",
   "execution_count": null,
   "id": "7d4ce5c5",
   "metadata": {},
   "outputs": [],
   "source": []
  }
 ],
 "metadata": {
  "kernelspec": {
   "display_name": "Python 3",
   "language": "python",
   "name": "python3"
  },
  "language_info": {
   "codemirror_mode": {
    "name": "ipython",
    "version": 3
   },
   "file_extension": ".py",
   "mimetype": "text/x-python",
   "name": "python",
   "nbconvert_exporter": "python",
   "pygments_lexer": "ipython3",
   "version": "3.8.8"
  }
 },
 "nbformat": 4,
 "nbformat_minor": 5
}
