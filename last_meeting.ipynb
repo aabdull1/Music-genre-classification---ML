{
 "cells": [
  {
   "cell_type": "code",
   "execution_count": null,
   "id": "c62733e5",
   "metadata": {},
   "outputs": [],
   "source": [
    "#Author: Serkan Kutludag"
   ]
  },
  {
   "cell_type": "code",
   "execution_count": 1,
   "id": "d0c22f6c",
   "metadata": {},
   "outputs": [
    {
     "data": {
      "text/html": [
       "<div>\n",
       "<style scoped>\n",
       "    .dataframe tbody tr th:only-of-type {\n",
       "        vertical-align: middle;\n",
       "    }\n",
       "\n",
       "    .dataframe tbody tr th {\n",
       "        vertical-align: top;\n",
       "    }\n",
       "\n",
       "    .dataframe thead th {\n",
       "        text-align: right;\n",
       "    }\n",
       "</style>\n",
       "<table border=\"1\" class=\"dataframe\">\n",
       "  <thead>\n",
       "    <tr style=\"text-align: right;\">\n",
       "      <th></th>\n",
       "      <th>danceability</th>\n",
       "      <th>energy</th>\n",
       "      <th>key</th>\n",
       "      <th>loudness</th>\n",
       "      <th>mode</th>\n",
       "      <th>speechiness</th>\n",
       "      <th>acousticness</th>\n",
       "      <th>instrumentalness</th>\n",
       "      <th>liveness</th>\n",
       "      <th>valence</th>\n",
       "      <th>tempo</th>\n",
       "      <th>type</th>\n",
       "      <th>id</th>\n",
       "      <th>uri</th>\n",
       "      <th>track_href</th>\n",
       "      <th>analysis_url</th>\n",
       "      <th>duration_ms</th>\n",
       "      <th>time_signature</th>\n",
       "      <th>year</th>\n",
       "      <th>genre</th>\n",
       "    </tr>\n",
       "  </thead>\n",
       "  <tbody>\n",
       "    <tr>\n",
       "      <th>0</th>\n",
       "      <td>0.507</td>\n",
       "      <td>0.7100</td>\n",
       "      <td>5</td>\n",
       "      <td>-5.020</td>\n",
       "      <td>1</td>\n",
       "      <td>0.0291</td>\n",
       "      <td>0.0975</td>\n",
       "      <td>0.000011</td>\n",
       "      <td>0.170</td>\n",
       "      <td>0.450</td>\n",
       "      <td>134.647</td>\n",
       "      <td>audio_features</td>\n",
       "      <td>14J3PO0VnhtcRa31r7Aj1L</td>\n",
       "      <td>spotify:track:14J3PO0VnhtcRa31r7Aj1L</td>\n",
       "      <td>https://api.spotify.com/v1/tracks/14J3PO0Vnhtc...</td>\n",
       "      <td>https://api.spotify.com/v1/audio-analysis/14J3...</td>\n",
       "      <td>273573</td>\n",
       "      <td>4</td>\n",
       "      <td>1999</td>\n",
       "      <td>acoustic</td>\n",
       "    </tr>\n",
       "    <tr>\n",
       "      <th>1</th>\n",
       "      <td>0.496</td>\n",
       "      <td>0.3780</td>\n",
       "      <td>11</td>\n",
       "      <td>-7.878</td>\n",
       "      <td>1</td>\n",
       "      <td>0.0336</td>\n",
       "      <td>0.8980</td>\n",
       "      <td>0.000001</td>\n",
       "      <td>0.109</td>\n",
       "      <td>0.335</td>\n",
       "      <td>144.092</td>\n",
       "      <td>audio_features</td>\n",
       "      <td>2SZDu4esDLUISRnpYQE17b</td>\n",
       "      <td>spotify:track:2SZDu4esDLUISRnpYQE17b</td>\n",
       "      <td>https://api.spotify.com/v1/tracks/2SZDu4esDLUI...</td>\n",
       "      <td>https://api.spotify.com/v1/audio-analysis/2SZD...</td>\n",
       "      <td>277667</td>\n",
       "      <td>3</td>\n",
       "      <td>1999</td>\n",
       "      <td>acoustic</td>\n",
       "    </tr>\n",
       "    <tr>\n",
       "      <th>2</th>\n",
       "      <td>0.760</td>\n",
       "      <td>0.7650</td>\n",
       "      <td>0</td>\n",
       "      <td>-9.319</td>\n",
       "      <td>1</td>\n",
       "      <td>0.0352</td>\n",
       "      <td>0.2890</td>\n",
       "      <td>0.000008</td>\n",
       "      <td>0.233</td>\n",
       "      <td>0.868</td>\n",
       "      <td>107.602</td>\n",
       "      <td>audio_features</td>\n",
       "      <td>5E2EpolcGmcbYpsv0z6jAZ</td>\n",
       "      <td>spotify:track:5E2EpolcGmcbYpsv0z6jAZ</td>\n",
       "      <td>https://api.spotify.com/v1/tracks/5E2EpolcGmcb...</td>\n",
       "      <td>https://api.spotify.com/v1/audio-analysis/5E2E...</td>\n",
       "      <td>226933</td>\n",
       "      <td>4</td>\n",
       "      <td>1999</td>\n",
       "      <td>acoustic</td>\n",
       "    </tr>\n",
       "    <tr>\n",
       "      <th>3</th>\n",
       "      <td>0.607</td>\n",
       "      <td>0.1960</td>\n",
       "      <td>1</td>\n",
       "      <td>-19.705</td>\n",
       "      <td>1</td>\n",
       "      <td>0.0595</td>\n",
       "      <td>0.9040</td>\n",
       "      <td>0.727000</td>\n",
       "      <td>0.111</td>\n",
       "      <td>0.187</td>\n",
       "      <td>111.031</td>\n",
       "      <td>audio_features</td>\n",
       "      <td>5RVEXH7OR9rcRz7eeviOzc</td>\n",
       "      <td>spotify:track:5RVEXH7OR9rcRz7eeviOzc</td>\n",
       "      <td>https://api.spotify.com/v1/tracks/5RVEXH7OR9rc...</td>\n",
       "      <td>https://api.spotify.com/v1/audio-analysis/5RVE...</td>\n",
       "      <td>223948</td>\n",
       "      <td>4</td>\n",
       "      <td>1999</td>\n",
       "      <td>acoustic</td>\n",
       "    </tr>\n",
       "    <tr>\n",
       "      <th>4</th>\n",
       "      <td>0.497</td>\n",
       "      <td>0.0919</td>\n",
       "      <td>3</td>\n",
       "      <td>-15.685</td>\n",
       "      <td>1</td>\n",
       "      <td>0.0704</td>\n",
       "      <td>0.9680</td>\n",
       "      <td>0.002140</td>\n",
       "      <td>0.133</td>\n",
       "      <td>0.548</td>\n",
       "      <td>206.431</td>\n",
       "      <td>audio_features</td>\n",
       "      <td>7CNaYAdLyi86kofGafReiT</td>\n",
       "      <td>spotify:track:7CNaYAdLyi86kofGafReiT</td>\n",
       "      <td>https://api.spotify.com/v1/tracks/7CNaYAdLyi86...</td>\n",
       "      <td>https://api.spotify.com/v1/audio-analysis/7CNa...</td>\n",
       "      <td>139693</td>\n",
       "      <td>4</td>\n",
       "      <td>1999</td>\n",
       "      <td>acoustic</td>\n",
       "    </tr>\n",
       "  </tbody>\n",
       "</table>\n",
       "</div>"
      ],
      "text/plain": [
       "   danceability  energy  key  loudness  mode  speechiness  acousticness  \\\n",
       "0         0.507  0.7100    5    -5.020     1       0.0291        0.0975   \n",
       "1         0.496  0.3780   11    -7.878     1       0.0336        0.8980   \n",
       "2         0.760  0.7650    0    -9.319     1       0.0352        0.2890   \n",
       "3         0.607  0.1960    1   -19.705     1       0.0595        0.9040   \n",
       "4         0.497  0.0919    3   -15.685     1       0.0704        0.9680   \n",
       "\n",
       "   instrumentalness  liveness  valence    tempo            type  \\\n",
       "0          0.000011     0.170    0.450  134.647  audio_features   \n",
       "1          0.000001     0.109    0.335  144.092  audio_features   \n",
       "2          0.000008     0.233    0.868  107.602  audio_features   \n",
       "3          0.727000     0.111    0.187  111.031  audio_features   \n",
       "4          0.002140     0.133    0.548  206.431  audio_features   \n",
       "\n",
       "                       id                                   uri  \\\n",
       "0  14J3PO0VnhtcRa31r7Aj1L  spotify:track:14J3PO0VnhtcRa31r7Aj1L   \n",
       "1  2SZDu4esDLUISRnpYQE17b  spotify:track:2SZDu4esDLUISRnpYQE17b   \n",
       "2  5E2EpolcGmcbYpsv0z6jAZ  spotify:track:5E2EpolcGmcbYpsv0z6jAZ   \n",
       "3  5RVEXH7OR9rcRz7eeviOzc  spotify:track:5RVEXH7OR9rcRz7eeviOzc   \n",
       "4  7CNaYAdLyi86kofGafReiT  spotify:track:7CNaYAdLyi86kofGafReiT   \n",
       "\n",
       "                                          track_href  \\\n",
       "0  https://api.spotify.com/v1/tracks/14J3PO0Vnhtc...   \n",
       "1  https://api.spotify.com/v1/tracks/2SZDu4esDLUI...   \n",
       "2  https://api.spotify.com/v1/tracks/5E2EpolcGmcb...   \n",
       "3  https://api.spotify.com/v1/tracks/5RVEXH7OR9rc...   \n",
       "4  https://api.spotify.com/v1/tracks/7CNaYAdLyi86...   \n",
       "\n",
       "                                        analysis_url  duration_ms  \\\n",
       "0  https://api.spotify.com/v1/audio-analysis/14J3...       273573   \n",
       "1  https://api.spotify.com/v1/audio-analysis/2SZD...       277667   \n",
       "2  https://api.spotify.com/v1/audio-analysis/5E2E...       226933   \n",
       "3  https://api.spotify.com/v1/audio-analysis/5RVE...       223948   \n",
       "4  https://api.spotify.com/v1/audio-analysis/7CNa...       139693   \n",
       "\n",
       "   time_signature  year     genre  \n",
       "0               4  1999  acoustic  \n",
       "1               3  1999  acoustic  \n",
       "2               4  1999  acoustic  \n",
       "3               4  1999  acoustic  \n",
       "4               4  1999  acoustic  "
      ]
     },
     "execution_count": 1,
     "metadata": {},
     "output_type": "execute_result"
    }
   ],
   "source": [
    "import pandas as pd\n",
    "df = pd.read_csv('data/genre_data_clean.csv')\n",
    "df.head()"
   ]
  },
  {
   "cell_type": "code",
   "execution_count": 2,
   "id": "d332b4ed",
   "metadata": {},
   "outputs": [
    {
     "data": {
      "text/plain": [
       "<AxesSubplot:>"
      ]
     },
     "execution_count": 2,
     "metadata": {},
     "output_type": "execute_result"
    },
    {
     "data": {
      "image/png": "[encoded data removed]",
      "text/plain": [
       "<Figure size 432x288 with 2 Axes>"
      ]
     },
     "metadata": {
      "needs_background": "light"
     },
     "output_type": "display_data"
    }
   ],
   "source": [
    "from seaborn import heatmap\n",
    "heatmap(df.corr())"
   ]
  },
  {
   "cell_type": "code",
   "execution_count": 3,
   "id": "3cb3aa0b",
   "metadata": {},
   "outputs": [],
   "source": [
    "df = df.drop([\"energy\",\"loudness\",\"type\",\"id\",\"uri\",\"track_href\",\"analysis_url\"],axis=1)"
   ]
  },
  {
   "cell_type": "code",
   "execution_count": 4,
   "id": "93ada27c",
   "metadata": {},
   "outputs": [
    {
     "data": {
      "text/plain": [
       "<AxesSubplot:>"
      ]
     },
     "execution_count": 4,
     "metadata": {},
     "output_type": "execute_result"
    },
    {
     "data": {
      "image/png": "[encoded data removed]",
      "text/plain": [
       "<Figure size 432x288 with 2 Axes>"
      ]
     },
     "metadata": {
      "needs_background": "light"
     },
     "output_type": "display_data"
    }
   ],
   "source": [
    "heatmap(df.corr())"
   ]
  },
  {
   "cell_type": "code",
   "execution_count": 5,
   "id": "7a9075de",
   "metadata": {},
   "outputs": [
    {
     "data": {
      "text/html": [
       "<div>\n",
       "<style scoped>\n",
       "    .dataframe tbody tr th:only-of-type {\n",
       "        vertical-align: middle;\n",
       "    }\n",
       "\n",
       "    .dataframe tbody tr th {\n",
       "        vertical-align: top;\n",
       "    }\n",
       "\n",
       "    .dataframe thead th {\n",
       "        text-align: right;\n",
       "    }\n",
       "</style>\n",
       "<table border=\"1\" class=\"dataframe\">\n",
       "  <thead>\n",
       "    <tr style=\"text-align: right;\">\n",
       "      <th></th>\n",
       "      <th>danceability</th>\n",
       "      <th>key</th>\n",
       "      <th>mode</th>\n",
       "      <th>speechiness</th>\n",
       "      <th>acousticness</th>\n",
       "      <th>instrumentalness</th>\n",
       "      <th>liveness</th>\n",
       "      <th>valence</th>\n",
       "      <th>tempo</th>\n",
       "      <th>duration_ms</th>\n",
       "      <th>time_signature</th>\n",
       "      <th>year</th>\n",
       "      <th>genre</th>\n",
       "    </tr>\n",
       "  </thead>\n",
       "  <tbody>\n",
       "    <tr>\n",
       "      <th>0</th>\n",
       "      <td>0.507</td>\n",
       "      <td>5</td>\n",
       "      <td>1</td>\n",
       "      <td>0.0291</td>\n",
       "      <td>0.0975</td>\n",
       "      <td>0.000011</td>\n",
       "      <td>0.170</td>\n",
       "      <td>0.450</td>\n",
       "      <td>134.647</td>\n",
       "      <td>273573</td>\n",
       "      <td>4</td>\n",
       "      <td>1999</td>\n",
       "      <td>acoustic</td>\n",
       "    </tr>\n",
       "    <tr>\n",
       "      <th>1</th>\n",
       "      <td>0.496</td>\n",
       "      <td>11</td>\n",
       "      <td>1</td>\n",
       "      <td>0.0336</td>\n",
       "      <td>0.8980</td>\n",
       "      <td>0.000001</td>\n",
       "      <td>0.109</td>\n",
       "      <td>0.335</td>\n",
       "      <td>144.092</td>\n",
       "      <td>277667</td>\n",
       "      <td>3</td>\n",
       "      <td>1999</td>\n",
       "      <td>acoustic</td>\n",
       "    </tr>\n",
       "    <tr>\n",
       "      <th>2</th>\n",
       "      <td>0.760</td>\n",
       "      <td>0</td>\n",
       "      <td>1</td>\n",
       "      <td>0.0352</td>\n",
       "      <td>0.2890</td>\n",
       "      <td>0.000008</td>\n",
       "      <td>0.233</td>\n",
       "      <td>0.868</td>\n",
       "      <td>107.602</td>\n",
       "      <td>226933</td>\n",
       "      <td>4</td>\n",
       "      <td>1999</td>\n",
       "      <td>acoustic</td>\n",
       "    </tr>\n",
       "    <tr>\n",
       "      <th>3</th>\n",
       "      <td>0.607</td>\n",
       "      <td>1</td>\n",
       "      <td>1</td>\n",
       "      <td>0.0595</td>\n",
       "      <td>0.9040</td>\n",
       "      <td>0.727000</td>\n",
       "      <td>0.111</td>\n",
       "      <td>0.187</td>\n",
       "      <td>111.031</td>\n",
       "      <td>223948</td>\n",
       "      <td>4</td>\n",
       "      <td>1999</td>\n",
       "      <td>acoustic</td>\n",
       "    </tr>\n",
       "    <tr>\n",
       "      <th>4</th>\n",
       "      <td>0.497</td>\n",
       "      <td>3</td>\n",
       "      <td>1</td>\n",
       "      <td>0.0704</td>\n",
       "      <td>0.9680</td>\n",
       "      <td>0.002140</td>\n",
       "      <td>0.133</td>\n",
       "      <td>0.548</td>\n",
       "      <td>206.431</td>\n",
       "      <td>139693</td>\n",
       "      <td>4</td>\n",
       "      <td>1999</td>\n",
       "      <td>acoustic</td>\n",
       "    </tr>\n",
       "  </tbody>\n",
       "</table>\n",
       "</div>"
      ],
      "text/plain": [
       "   danceability  key  mode  speechiness  acousticness  instrumentalness  \\\n",
       "0         0.507    5     1       0.0291        0.0975          0.000011   \n",
       "1         0.496   11     1       0.0336        0.8980          0.000001   \n",
       "2         0.760    0     1       0.0352        0.2890          0.000008   \n",
       "3         0.607    1     1       0.0595        0.9040          0.727000   \n",
       "4         0.497    3     1       0.0704        0.9680          0.002140   \n",
       "\n",
       "   liveness  valence    tempo  duration_ms  time_signature  year     genre  \n",
       "0     0.170    0.450  134.647       273573               4  1999  acoustic  \n",
       "1     0.109    0.335  144.092       277667               3  1999  acoustic  \n",
       "2     0.233    0.868  107.602       226933               4  1999  acoustic  \n",
       "3     0.111    0.187  111.031       223948               4  1999  acoustic  \n",
       "4     0.133    0.548  206.431       139693               4  1999  acoustic  "
      ]
     },
     "execution_count": 5,
     "metadata": {},
     "output_type": "execute_result"
    }
   ],
   "source": [
    "df.head()"
   ]
  },
  {
   "cell_type": "code",
   "execution_count": 8,
   "id": "b80363de",
   "metadata": {},
   "outputs": [
    {
     "data": {
      "text/plain": [
       "array(['acoustic', 'blues', 'classical', 'country', 'dance', 'jazz',\n",
       "       'metal', 'pop', 'rock', 'techno'], dtype=object)"
      ]
     },
     "execution_count": 8,
     "metadata": {},
     "output_type": "execute_result"
    }
   ],
   "source": [
    "df[\"genre\"].unique()"
   ]
  },
  {
   "cell_type": "code",
   "execution_count": 9,
   "id": "fcbdb336",
   "metadata": {},
   "outputs": [
    {
     "data": {
      "text/html": [
       "<div>\n",
       "<style scoped>\n",
       "    .dataframe tbody tr th:only-of-type {\n",
       "        vertical-align: middle;\n",
       "    }\n",
       "\n",
       "    .dataframe tbody tr th {\n",
       "        vertical-align: top;\n",
       "    }\n",
       "\n",
       "    .dataframe thead th {\n",
       "        text-align: right;\n",
       "    }\n",
       "</style>\n",
       "<table border=\"1\" class=\"dataframe\">\n",
       "  <thead>\n",
       "    <tr style=\"text-align: right;\">\n",
       "      <th></th>\n",
       "      <th>danceability</th>\n",
       "      <th>key</th>\n",
       "      <th>mode</th>\n",
       "      <th>speechiness</th>\n",
       "      <th>acousticness</th>\n",
       "      <th>instrumentalness</th>\n",
       "      <th>liveness</th>\n",
       "      <th>valence</th>\n",
       "      <th>tempo</th>\n",
       "      <th>duration_ms</th>\n",
       "      <th>time_signature</th>\n",
       "      <th>year</th>\n",
       "      <th>genre</th>\n",
       "    </tr>\n",
       "  </thead>\n",
       "  <tbody>\n",
       "    <tr>\n",
       "      <th>0</th>\n",
       "      <td>0.507</td>\n",
       "      <td>5</td>\n",
       "      <td>1</td>\n",
       "      <td>0.0291</td>\n",
       "      <td>0.0975</td>\n",
       "      <td>0.000011</td>\n",
       "      <td>0.170</td>\n",
       "      <td>0.450</td>\n",
       "      <td>134.647</td>\n",
       "      <td>273573</td>\n",
       "      <td>4</td>\n",
       "      <td>1999</td>\n",
       "      <td>0</td>\n",
       "    </tr>\n",
       "    <tr>\n",
       "      <th>1</th>\n",
       "      <td>0.496</td>\n",
       "      <td>11</td>\n",
       "      <td>1</td>\n",
       "      <td>0.0336</td>\n",
       "      <td>0.8980</td>\n",
       "      <td>0.000001</td>\n",
       "      <td>0.109</td>\n",
       "      <td>0.335</td>\n",
       "      <td>144.092</td>\n",
       "      <td>277667</td>\n",
       "      <td>3</td>\n",
       "      <td>1999</td>\n",
       "      <td>0</td>\n",
       "    </tr>\n",
       "    <tr>\n",
       "      <th>2</th>\n",
       "      <td>0.760</td>\n",
       "      <td>0</td>\n",
       "      <td>1</td>\n",
       "      <td>0.0352</td>\n",
       "      <td>0.2890</td>\n",
       "      <td>0.000008</td>\n",
       "      <td>0.233</td>\n",
       "      <td>0.868</td>\n",
       "      <td>107.602</td>\n",
       "      <td>226933</td>\n",
       "      <td>4</td>\n",
       "      <td>1999</td>\n",
       "      <td>0</td>\n",
       "    </tr>\n",
       "    <tr>\n",
       "      <th>3</th>\n",
       "      <td>0.607</td>\n",
       "      <td>1</td>\n",
       "      <td>1</td>\n",
       "      <td>0.0595</td>\n",
       "      <td>0.9040</td>\n",
       "      <td>0.727000</td>\n",
       "      <td>0.111</td>\n",
       "      <td>0.187</td>\n",
       "      <td>111.031</td>\n",
       "      <td>223948</td>\n",
       "      <td>4</td>\n",
       "      <td>1999</td>\n",
       "      <td>0</td>\n",
       "    </tr>\n",
       "    <tr>\n",
       "      <th>4</th>\n",
       "      <td>0.497</td>\n",
       "      <td>3</td>\n",
       "      <td>1</td>\n",
       "      <td>0.0704</td>\n",
       "      <td>0.9680</td>\n",
       "      <td>0.002140</td>\n",
       "      <td>0.133</td>\n",
       "      <td>0.548</td>\n",
       "      <td>206.431</td>\n",
       "      <td>139693</td>\n",
       "      <td>4</td>\n",
       "      <td>1999</td>\n",
       "      <td>0</td>\n",
       "    </tr>\n",
       "  </tbody>\n",
       "</table>\n",
       "</div>"
      ],
      "text/plain": [
       "   danceability  key  mode  speechiness  acousticness  instrumentalness  \\\n",
       "0         0.507    5     1       0.0291        0.0975          0.000011   \n",
       "1         0.496   11     1       0.0336        0.8980          0.000001   \n",
       "2         0.760    0     1       0.0352        0.2890          0.000008   \n",
       "3         0.607    1     1       0.0595        0.9040          0.727000   \n",
       "4         0.497    3     1       0.0704        0.9680          0.002140   \n",
       "\n",
       "   liveness  valence    tempo  duration_ms  time_signature  year  genre  \n",
       "0     0.170    0.450  134.647       273573               4  1999      0  \n",
       "1     0.109    0.335  144.092       277667               3  1999      0  \n",
       "2     0.233    0.868  107.602       226933               4  1999      0  \n",
       "3     0.111    0.187  111.031       223948               4  1999      0  \n",
       "4     0.133    0.548  206.431       139693               4  1999      0  "
      ]
     },
     "execution_count": 9,
     "metadata": {},
     "output_type": "execute_result"
    }
   ],
   "source": [
    "from sklearn import preprocessing\n",
    "le = preprocessing.LabelEncoder()\n",
    "df[\"genre\"] = le.fit_transform(df[\"genre\"])\n",
    "df.head()"
   ]
  },
  {
   "cell_type": "code",
   "execution_count": 10,
   "id": "ed11b5cb",
   "metadata": {},
   "outputs": [
    {
     "data": {
      "text/plain": [
       "array([0, 1, 2, 3, 4, 5, 6, 7, 8, 9])"
      ]
     },
     "execution_count": 10,
     "metadata": {},
     "output_type": "execute_result"
    }
   ],
   "source": [
    "df[\"genre\"].unique()"
   ]
  },
  {
   "cell_type": "code",
   "execution_count": 11,
   "id": "208526cf",
   "metadata": {},
   "outputs": [
    {
     "data": {
      "text/plain": [
       "(12000, 27)"
      ]
     },
     "execution_count": 11,
     "metadata": {},
     "output_type": "execute_result"
    }
   ],
   "source": [
    "from sklearn.preprocessing import MinMaxScaler\n",
    "from sklearn.preprocessing import OneHotEncoder\n",
    "import numpy as np\n",
    "\n",
    "y = df[\"genre\"]\n",
    "df_OneHot = df.loc[:,(\"time_signature\",\"mode\",\"key\")]\n",
    "enc = OneHotEncoder()\n",
    "enc.fit(df_OneHot)\n",
    "onehotlabels = enc.transform(df_OneHot).toarray()\n",
    "\n",
    "df_scaled = df.drop([\"year\",\"genre\",\"time_signature\",\"mode\",\"key\"], axis=1)\n",
    "scaler = MinMaxScaler()\n",
    "df_scaled = scaler.fit_transform(df_scaled)\n",
    "df_scaled = np.append(df_scaled,onehotlabels,axis=1)\n",
    "df_scaled.shape"
   ]
  },
  {
   "cell_type": "code",
   "execution_count": 12,
   "id": "bd9965ca",
   "metadata": {},
   "outputs": [],
   "source": [
    "from sklearn.model_selection import train_test_split\n",
    "X_train, X_test, y_train, y_test = train_test_split(df_scaled, y, stratify=y, test_size=1/6, random_state=42)"
   ]
  },
  {
   "cell_type": "code",
   "execution_count": 13,
   "id": "b2346b53",
   "metadata": {},
   "outputs": [
    {
     "data": {
      "text/plain": [
       "GridSearchCV(estimator=LogisticRegression(random_state=11), n_jobs=-1,\n",
       "             param_grid=[{'multi_class': ['ovr'],\n",
       "                          'solver': ['saga', 'lbfgs', 'newton-cg']}])"
      ]
     },
     "execution_count": 13,
     "metadata": {},
     "output_type": "execute_result"
    }
   ],
   "source": [
    "from sklearn.linear_model import LogisticRegression\n",
    "from sklearn.model_selection import GridSearchCV\n",
    "param_gridLR = [{\n",
    "    'solver': [\"saga\", \"lbfgs\", \"newton-cg\"],\n",
    "    'multi_class' : [\"ovr\"]\n",
    "}]\n",
    "lr_clf = LogisticRegression(random_state=11)\n",
    "grid_searchLR = GridSearchCV(lr_clf, param_gridLR,n_jobs=-1)\n",
    "grid_searchLR.fit(X_train, y_train)"
   ]
  },
  {
   "cell_type": "code",
   "execution_count": 14,
   "id": "74fbd56f",
   "metadata": {},
   "outputs": [
    {
     "name": "stdout",
     "output_type": "stream",
     "text": [
      "Estimator of LR: LogisticRegression(multi_class='ovr', random_state=11, solver='saga')\n",
      "Accuracy of LR on training: 0.4373\n",
      "Accuracy of LR on testing: 0.4285\n",
      "Precision of LR: [0.32941176 0.30188679 0.80769231 0.35616438 0.36271186 0.475\n",
      " 0.40322581 0.17391304 0.15384615 0.64851485]\n",
      "F1 of LR: [0.36923077 0.20915033 0.82352941 0.42276423 0.43232323 0.35625\n",
      " 0.52447552 0.06504065 0.10526316 0.65174129]\n",
      "Recall of LR: [0.42  0.16  0.84  0.52  0.535 0.285 0.75  0.04  0.08  0.655]\n"
     ]
    }
   ],
   "source": [
    "from sklearn.metrics import accuracy_score\n",
    "from sklearn.metrics import precision_score\n",
    "from sklearn.metrics import recall_score\n",
    "from sklearn.metrics import f1_score\n",
    "\n",
    "final_modelLR = grid_searchLR.best_estimator_\n",
    "print(\"Estimator of LR: \"+str(final_modelLR))\n",
    "y_pred_trainLR = final_modelLR.predict(X_train)\n",
    "print(\"Accuracy of LR on training: \"+str(accuracy_score(y_train, y_pred_trainLR)))\n",
    "y_predLR = final_modelLR.predict(X_test)\n",
    "print(\"Accuracy of LR on testing: \"+str(accuracy_score(y_test, y_predLR)))\n",
    "print(\"Precision of LR: \"+str(precision_score(y_test, y_predLR,average=None)))\n",
    "print(\"F1 of LR: \"+str(f1_score(y_test, y_predLR,average=None)))\n",
    "print(\"Recall of LR: \"+str(recall_score(y_test, y_predLR,average=None)))"
   ]
  },
  {
   "cell_type": "code",
   "execution_count": 15,
   "id": "468d0cb0",
   "metadata": {},
   "outputs": [
    {
     "data": {
      "text/plain": [
       "GridSearchCV(estimator=KNeighborsClassifier(), n_jobs=-1,\n",
       "             param_grid=[{'algorithm': ['auto', 'ball_tree', 'kd_tree',\n",
       "                                        'brute'],\n",
       "                          'n_neighbors': [10, 20, 30, 50, 100, 150, 200]}])"
      ]
     },
     "execution_count": 15,
     "metadata": {},
     "output_type": "execute_result"
    }
   ],
   "source": [
    "from sklearn.neighbors import KNeighborsClassifier\n",
    "param_gridKNN = [{\n",
    "    'n_neighbors': [10, 20, 30, 50, 100, 150, 200],\n",
    "    'algorithm': [\"auto\", \"ball_tree\", \"kd_tree\",\"brute\"]\n",
    "}]\n",
    "knn_clf = KNeighborsClassifier()\n",
    "grid_searchKNN = GridSearchCV(knn_clf, param_gridKNN,n_jobs=-1)\n",
    "grid_searchKNN.fit(X_train, y_train)"
   ]
  },
  {
   "cell_type": "code",
   "execution_count": 16,
   "id": "9f2cf8de",
   "metadata": {},
   "outputs": [
    {
     "name": "stdout",
     "output_type": "stream",
     "text": [
      "Estimator of KNN: KNeighborsClassifier(n_neighbors=10)\n",
      "Accuracy of KNN on training: 0.482\n",
      "Accuracy of KNN on testing: 0.361\n",
      "Precision of KNN: [0.24714829 0.22941176 0.74090909 0.24271845 0.31221719 0.4047619\n",
      " 0.37241379 0.22857143 0.16981132 0.57894737]\n",
      "F1 of KNN: [0.28077754 0.21081081 0.77619048 0.29469548 0.32779097 0.31288344\n",
      " 0.44081633 0.15737705 0.11764706 0.56410256]\n",
      "Recall of KNN: [0.325 0.195 0.815 0.375 0.345 0.255 0.54  0.12  0.09  0.55 ]\n"
     ]
    }
   ],
   "source": [
    "final_modelKNN = grid_searchKNN.best_estimator_\n",
    "print(\"Estimator of KNN: \"+str(final_modelKNN))\n",
    "y_pred_trainKNN = final_modelKNN.predict(X_train)\n",
    "print(\"Accuracy of KNN on training: \"+str(accuracy_score(y_train, y_pred_trainKNN)))\n",
    "y_predKNN = final_modelKNN.predict(X_test)\n",
    "print(\"Accuracy of KNN on testing: \"+str(accuracy_score(y_test, y_predKNN)))\n",
    "print(\"Precision of KNN: \"+str(precision_score(y_test, y_predKNN,average=None)))\n",
    "print(\"F1 of KNN: \"+str(f1_score(y_test, y_predKNN,average=None)))\n",
    "print(\"Recall of KNN: \"+str(recall_score(y_test, y_predKNN,average=None)))"
   ]
  },
  {
   "cell_type": "code",
   "execution_count": 17,
   "id": "523f6f7a",
   "metadata": {},
   "outputs": [
    {
     "data": {
      "text/plain": [
       "GridSearchCV(estimator=SVC(), n_jobs=-1,\n",
       "             param_grid=[{'kernel': ['poly', 'linear', 'rbf']}])"
      ]
     },
     "execution_count": 17,
     "metadata": {},
     "output_type": "execute_result"
    }
   ],
   "source": [
    "from sklearn.svm import SVC\n",
    "param_gridSVM = [{\n",
    "    'kernel': [\"poly\",\"linear\",\"rbf\"]\n",
    "}]\n",
    "svm_clf = SVC()\n",
    "grid_searchSVM = GridSearchCV(svm_clf, param_gridSVM,n_jobs=-1)\n",
    "grid_searchSVM.fit(X_train, y_train)"
   ]
  },
  {
   "cell_type": "code",
   "execution_count": 18,
   "id": "ce217201",
   "metadata": {},
   "outputs": [
    {
     "name": "stdout",
     "output_type": "stream",
     "text": [
      "Estimator of SVM: SVC(kernel='poly')\n",
      "Accuracy of SVM on training: 0.4773\n",
      "Accuracy of SVM on testing: 0.4355\n",
      "Precision of SVM: [0.35449735 0.32380952 0.86772487 0.32058824 0.36038961 0.50649351\n",
      " 0.3962766  0.25490196 0.19047619 0.75308642]\n",
      "F1 of SVM: [0.34447301 0.22295082 0.84318766 0.4037037  0.43700787 0.44067797\n",
      " 0.51736111 0.10358566 0.14723926 0.67403315]\n",
      "Recall of SVM: [0.335 0.17  0.82  0.545 0.555 0.39  0.745 0.065 0.12  0.61 ]\n"
     ]
    }
   ],
   "source": [
    "final_modelSVM = grid_searchSVM.best_estimator_\n",
    "print(\"Estimator of SVM: \"+str(final_modelSVM))\n",
    "y_pred_trainSVM = final_modelSVM.predict(X_train)\n",
    "print(\"Accuracy of SVM on training: \"+str(accuracy_score(y_train, y_pred_trainSVM)))\n",
    "y_predSVM = final_modelSVM.predict(X_test)\n",
    "print(\"Accuracy of SVM on testing: \"+str(accuracy_score(y_test, y_predSVM)))\n",
    "print(\"Precision of SVM: \"+str(precision_score(y_test, y_predSVM,average=None)))\n",
    "print(\"F1 of SVM: \"+str(f1_score(y_test, y_predSVM,average=None)))\n",
    "print(\"Recall of SVM: \"+str(recall_score(y_test, y_predSVM,average=None)))"
   ]
  },
  {
   "cell_type": "code",
   "execution_count": 19,
   "id": "d9017c9f",
   "metadata": {},
   "outputs": [
    {
     "data": {
      "text/plain": [
       "GridSearchCV(estimator=AdaBoostClassifier(), n_jobs=-1,\n",
       "             param_grid=[{'learning_rate': [0.5, 0.7, 0.9],\n",
       "                          'n_estimators': [50, 100, 200, 500]}])"
      ]
     },
     "execution_count": 19,
     "metadata": {},
     "output_type": "execute_result"
    }
   ],
   "source": [
    " from sklearn.ensemble import AdaBoostClassifier\n",
    "param_gridADA = [{\n",
    "    'n_estimators': [50,100,200,500],\n",
    "    'learning_rate': [0.5, 0.7, 0.9]\n",
    "}]\n",
    "ada_clf = AdaBoostClassifier()\n",
    "grid_searchADA = GridSearchCV(ada_clf, param_gridADA,n_jobs=-1)\n",
    "grid_searchADA.fit(X_train, y_train)"
   ]
  },
  {
   "cell_type": "code",
   "execution_count": 20,
   "id": "c1c13e2d",
   "metadata": {},
   "outputs": [
    {
     "name": "stdout",
     "output_type": "stream",
     "text": [
      "Estimator of ADA: AdaBoostClassifier(learning_rate=0.5)\n",
      "Accuracy of ADA on training: 0.4331\n",
      "Accuracy of ADA on testing: 0.4215\n",
      "Precision of ADA: [0.31472081 0.32824427 0.66666667 0.3772242  0.37037037 0.39698492\n",
      " 0.44736842 0.17073171 0.14414414 0.66346154]\n",
      "F1 of ADA: [0.31234257 0.25981873 0.67326733 0.44074844 0.45801527 0.39598997\n",
      " 0.53968254 0.05809129 0.10289389 0.67647059]\n",
      "Recall of ADA: [0.31  0.215 0.68  0.53  0.6   0.395 0.68  0.035 0.08  0.69 ]\n"
     ]
    }
   ],
   "source": [
    "final_modelADA = grid_searchADA.best_estimator_\n",
    "print(\"Estimator of ADA: \"+str(final_modelADA))\n",
    "y_pred_trainADA = final_modelADA.predict(X_train)\n",
    "print(\"Accuracy of ADA on training: \"+str(accuracy_score(y_train, y_pred_trainADA)))\n",
    "y_predADA = final_modelADA.predict(X_test)\n",
    "print(\"Accuracy of ADA on testing: \"+str(accuracy_score(y_test, y_predADA)))\n",
    "print(\"Precision of ADA: \"+str(precision_score(y_test, y_predADA,average=None)))\n",
    "print(\"F1 of ADA: \"+str(f1_score(y_test, y_predADA,average=None)))\n",
    "print(\"Recall of ADA: \"+str(recall_score(y_test, y_predADA,average=None)))"
   ]
  },
  {
   "cell_type": "code",
   "execution_count": 21,
   "id": "c16b44b4",
   "metadata": {},
   "outputs": [
    {
     "data": {
      "text/plain": [
       "GridSearchCV(estimator=GradientBoostingClassifier(), n_jobs=-1,\n",
       "             param_grid=[{'max_depth': [1, 3, 5, 10],\n",
       "                          'max_features': [None, 'sqrt'],\n",
       "                          'n_estimators': [20, 50, 100, 200]}])"
      ]
     },
     "execution_count": 21,
     "metadata": {},
     "output_type": "execute_result"
    }
   ],
   "source": [
    "from sklearn.ensemble import GradientBoostingClassifier\n",
    "param_gridGBC = [{\n",
    "    'n_estimators': [20,50,100,200],\n",
    "    \"max_depth\": [1,3,5,10],\n",
    "    \"max_features\": [None, \"sqrt\"]\n",
    "}]\n",
    "gbc_clf = GradientBoostingClassifier()\n",
    "grid_searchGBC = GridSearchCV(gbc_clf, param_gridGBC,n_jobs=-1)\n",
    "grid_searchGBC.fit(X_train, y_train)"
   ]
  },
  {
   "cell_type": "code",
   "execution_count": 22,
   "id": "151da928",
   "metadata": {},
   "outputs": [
    {
     "name": "stdout",
     "output_type": "stream",
     "text": [
      "Estimator of GBC: GradientBoostingClassifier(max_features='sqrt')\n",
      "Accuracy of GBC on training: 0.5684\n",
      "Accuracy of GBC on testing: 0.4795\n",
      "Precision of GBC: [0.37244898 0.37244898 0.84771574 0.40594059 0.38305085 0.55555556\n",
      " 0.48611111 0.33898305 0.15789474 0.6937799 ]\n",
      "F1 of GBC: [0.36868687 0.36868687 0.84130982 0.48906561 0.45656566 0.49723757\n",
      " 0.57377049 0.15444015 0.10169492 0.70904645]\n",
      "Recall of GBC: [0.365 0.365 0.835 0.615 0.565 0.45  0.7   0.1   0.075 0.725]\n"
     ]
    }
   ],
   "source": [
    "final_modelGBC = grid_searchGBC.best_estimator_\n",
    "print(\"Estimator of GBC: \"+str(final_modelGBC))\n",
    "y_pred_trainGBC = final_modelGBC.predict(X_train)\n",
    "print(\"Accuracy of GBC on training: \"+str(accuracy_score(y_train, y_pred_trainGBC)))\n",
    "y_predGBC = final_modelGBC.predict(X_test)\n",
    "print(\"Accuracy of GBC on testing: \"+str(accuracy_score(y_test, y_predGBC)))\n",
    "print(\"Precision of GBC: \"+str(precision_score(y_test, y_predGBC,average=None)))\n",
    "print(\"F1 of GBC: \"+str(f1_score(y_test, y_predGBC,average=None)))\n",
    "print(\"Recall of GBC: \"+str(recall_score(y_test, y_predGBC,average=None)))"
   ]
  },
  {
   "cell_type": "code",
   "execution_count": 23,
   "id": "38bbcb18",
   "metadata": {},
   "outputs": [
    {
     "data": {
      "text/plain": [
       "GridSearchCV(estimator=RandomForestClassifier(),\n",
       "             param_grid=[{'max_depth': [20, 26, 32, 38],\n",
       "                          'max_features': ['sqrt'],\n",
       "                          'min_samples_leaf': [7, 10, 13, 16],\n",
       "                          'min_samples_split': [7, 10, 13, 16],\n",
       "                          'n_estimators': [150, 200, 250]}])"
      ]
     },
     "execution_count": 23,
     "metadata": {},
     "output_type": "execute_result"
    }
   ],
   "source": [
    "from sklearn.ensemble import RandomForestClassifier\n",
    "param_gridRF = [{\n",
    "    'n_estimators': [150, 200, 250],\n",
    "    'max_features': [\"sqrt\"],\n",
    "    'max_depth': [20, 26, 32, 38],\n",
    "    'min_samples_split': [7, 10, 13, 16],\n",
    "    'min_samples_leaf': [7, 10, 13, 16]\n",
    "}]\n",
    "rf_clf = RandomForestClassifier()\n",
    "grid_searchRF = GridSearchCV(rf_clf, param_gridRF)\n",
    "grid_searchRF.fit(X_train, y_train)"
   ]
  },
  {
   "cell_type": "code",
   "execution_count": 24,
   "id": "0925d391",
   "metadata": {},
   "outputs": [
    {
     "name": "stdout",
     "output_type": "stream",
     "text": [
      "Estimator of RF: RandomForestClassifier(max_depth=26, max_features='sqrt', min_samples_leaf=10,\n",
      "                       min_samples_split=13, n_estimators=250)\n",
      "Accuracy of RF on training: 0.6366\n",
      "Accuracy of RF on testing: 0.4825\n",
      "Precision of RF: [0.36945813 0.37297297 0.8125     0.39869281 0.38317757 0.56737589\n",
      " 0.46984127 0.39473684 0.19354839 0.68778281]\n",
      "F1 of RF: [0.37220844 0.35844156 0.82843137 0.48221344 0.47216891 0.46920821\n",
      " 0.57475728 0.12605042 0.09160305 0.72209026]\n",
      "Recall of RF: [0.375 0.345 0.845 0.61  0.615 0.4   0.74  0.075 0.06  0.76 ]\n"
     ]
    }
   ],
   "source": [
    "final_modelRF = grid_searchRF.best_estimator_\n",
    "print(\"Estimator of RF: \"+str(final_modelRF))\n",
    "y_pred_trainRF = final_modelRF.predict(X_train)\n",
    "print(\"Accuracy of RF on training: \"+str(accuracy_score(y_train, y_pred_trainRF)))\n",
    "y_predRF = final_modelRF.predict(X_test)\n",
    "print(\"Accuracy of RF on testing: \"+str(accuracy_score(y_test, y_predRF)))\n",
    "print(\"Precision of RF: \"+str(precision_score(y_test, y_predRF,average=None)))\n",
    "print(\"F1 of RF: \"+str(f1_score(y_test, y_predRF,average=None)))\n",
    "print(\"Recall of RF: \"+str(recall_score(y_test, y_predRF,average=None)))"
   ]
  },
  {
   "cell_type": "code",
   "execution_count": 25,
   "id": "2fdf2a06",
   "metadata": {},
   "outputs": [
    {
     "data": {
      "text/plain": [
       "VotingClassifier(estimators=[('rf',\n",
       "                              RandomForestClassifier(max_depth=26,\n",
       "                                                     max_features='sqrt',\n",
       "                                                     min_samples_leaf=10,\n",
       "                                                     min_samples_split=13,\n",
       "                                                     n_estimators=250)),\n",
       "                             ('gbc',\n",
       "                              GradientBoostingClassifier(max_features='sqrt',\n",
       "                                                         n_estimators=200)),\n",
       "                             ('lr',\n",
       "                              LogisticRegression(multi_class='ovr',\n",
       "                                                 random_state=11,\n",
       "                                                 solver='saga'))])"
      ]
     },
     "execution_count": 25,
     "metadata": {},
     "output_type": "execute_result"
    }
   ],
   "source": [
    "from sklearn.ensemble import VotingClassifier\n",
    "voting_clf = VotingClassifier(\n",
    "    estimators=\n",
    "        [('rf', RandomForestClassifier(max_depth=26, max_features='sqrt', min_samples_leaf=10, min_samples_split=13, n_estimators=250)),\n",
    "        ('gbc', GradientBoostingClassifier(max_features='sqrt', n_estimators=200)),\n",
    "        (\"lr\",LogisticRegression(multi_class='ovr', random_state=11, solver='saga'))\n",
    "        ],voting='hard')\n",
    "voting_clf.fit(X_train, y_train)"
   ]
  },
  {
   "cell_type": "code",
   "execution_count": 26,
   "id": "d77911bb",
   "metadata": {},
   "outputs": [
    {
     "name": "stdout",
     "output_type": "stream",
     "text": [
      "Accuracy of Ensemble on training: 0.6017\n",
      "Accuracy of Ensemble on testing: 0.485\n",
      "Precision of Ensemble: [0.35416667 0.37362637 0.82352941 0.39549839 0.39936102 0.59848485\n",
      " 0.46273292 0.4137931  0.24137931 0.70334928]\n",
      "F1 of Ensemble: [0.38636364 0.35602094 0.83168317 0.481409   0.48732943 0.47590361\n",
      " 0.57088123 0.10480349 0.10852713 0.71882641]\n",
      "Recall of Ensemble: [0.425 0.34  0.84  0.615 0.625 0.395 0.745 0.06  0.07  0.735]\n"
     ]
    }
   ],
   "source": [
    "y_pred_trainVOT = voting_clf.predict(X_train)\n",
    "print(\"Accuracy of Ensemble on training: \"+str(accuracy_score(y_train, y_pred_trainVOT)))\n",
    "y_predVOT = voting_clf.predict(X_test)\n",
    "print(\"Accuracy of Ensemble on testing: \"+str(accuracy_score(y_test, y_predVOT)))\n",
    "print(\"Precision of Ensemble: \"+str(precision_score(y_test, y_predVOT,average=None)))\n",
    "print(\"F1 of Ensemble: \"+str(f1_score(y_test, y_predVOT,average=None)))\n",
    "print(\"Recall of Ensemble: \"+str(recall_score(y_test, y_predVOT,average=None)))"
   ]
  },
  {
   "cell_type": "code",
   "execution_count": 27,
   "id": "4eda8d47",
   "metadata": {},
   "outputs": [
    {
     "data": {
      "image/png": "[encoded data removed]",
      "text/plain": [
       "<Figure size 432x288 with 1 Axes>"
      ]
     },
     "metadata": {
      "needs_background": "light"
     },
     "output_type": "display_data"
    }
   ],
   "source": [
    "import matplotlib.pyplot as plt\n",
    "import numpy as np\n",
    "N = 7\n",
    "model_training_accuracy = (accuracy_score(y_train, y_pred_trainLR), accuracy_score(y_train, y_pred_trainRF), accuracy_score(y_train, y_pred_trainKNN), accuracy_score(y_train, y_pred_trainSVM), accuracy_score(y_train, y_pred_trainADA),accuracy_score(y_train, y_pred_trainGBC),accuracy_score(y_train, y_pred_trainVOT))\n",
    "model_testing_accuracy = (accuracy_score(y_test, y_predLR),accuracy_score(y_test, y_predRF), accuracy_score(y_test, y_predKNN), accuracy_score(y_test, y_predSVM), accuracy_score(y_test, y_predADA), accuracy_score(y_test, y_predGBC), accuracy_score(y_test, y_predVOT))\n",
    "ind = np.arange(N) # the x locations for the groups\n",
    "width = 0.35\n",
    "fig = plt.figure()\n",
    "ax = fig.add_axes([0,0,1,1])\n",
    "ax.bar(ind, model_training_accuracy, width, color='r')\n",
    "ax.bar(ind, model_testing_accuracy, width, color='b')\n",
    "ax.set_ylabel('Accuracies')\n",
    "ax.set_title('Accuracies on training and testing')\n",
    "ax.set_xlabel('Models')\n",
    "ax.set_xticks(ind)\n",
    "ax.set_xticklabels(['LR', 'RF', 'KNN', 'SVM', 'ADA', 'GBC', 'LR-RF-GBC'])\n",
    "ax.set_yticks(np.arange(0, 1, 0.1))\n",
    "ax.legend(labels=['Training', 'Testing'])\n",
    "plt.show()"
   ]
  },
  {
   "cell_type": "code",
   "execution_count": 28,
   "id": "d84d3a51",
   "metadata": {},
   "outputs": [],
   "source": [
    "import pickle\n",
    "pickle.dump(final_modelLR, open(\"LR.sav\", 'wb'))\n",
    "pickle.dump(final_modelRF, open(\"RF.sav\", 'wb'))\n",
    "pickle.dump(final_modelKNN, open(\"KNN.sav\", 'wb'))\n",
    "pickle.dump(final_modelSVM, open(\"SVM.sav\", 'wb'))\n",
    "pickle.dump(final_modelADA, open(\"ADA.sav\", 'wb'))\n",
    "pickle.dump(final_modelGBC, open(\"GBC.sav\", 'wb'))\n",
    "pickle.dump(voting_clf, open(\"LR-RF-GBC.sav\", 'wb'))"
   ]
  },
  {
   "cell_type": "code",
   "execution_count": null,
   "id": "b54e8619",
   "metadata": {},
   "outputs": [],
   "source": [
    "loaded_model = pickle.load(open(filename, 'rb'))"
   ]
  }
 ],
 "metadata": {
  "kernelspec": {
   "display_name": "Python 3",
   "language": "python",
   "name": "python3"
  },
  "language_info": {
   "codemirror_mode": {
    "name": "ipython",
    "version": 3
   },
   "file_extension": ".py",
   "mimetype": "text/x-python",
   "name": "python",
   "nbconvert_exporter": "python",
   "pygments_lexer": "ipython3",
   "version": "3.8.8"
  }
 },
 "nbformat": 4,
 "nbformat_minor": 5
}
