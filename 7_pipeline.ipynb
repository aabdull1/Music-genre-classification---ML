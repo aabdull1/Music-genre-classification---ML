{
 "cells": [
  {
   "cell_type": "code",
   "execution_count": 2,
   "id": "7bf272b8",
   "metadata": {},
   "outputs": [],
   "source": [
    "import pandas as pd\n",
    "import numpy as np\n",
    "from sklearn.preprocessing import MinMaxScaler, StandardScaler, RobustScaler, LabelEncoder\n",
    "from sklearn.model_selection import train_test_split\n",
    "from sklearn.pipeline import Pipeline\n",
    "from sklearn.decomposition import PCA\n",
    "\n",
    "from sklearn.linear_model import LogisticRegression\n",
    "from sklearn.svm import SVC\n",
    "from sklearn.tree import DecisionTreeClassifier\n",
    "from sklearn.ensemble import RandomForestClassifier\n",
    "from sklearn.neighbors import KNeighborsClassifier\n",
    "from sklearn.naive_bayes import GaussianNB\n",
    "\n",
    "from sklearn.model_selection import cross_val_score"
   ]
  },
  {
   "cell_type": "code",
   "execution_count": 13,
   "id": "3a542907",
   "metadata": {
    "scrolled": false
   },
   "outputs": [],
   "source": [
    "df = pd.read_csv('data/genre_data_2.csv')\n",
    "genre_list = ['acoustic','rock', 'classical', 'techno', 'metal', 'jazz']\n",
    "df = df[df['genre'].isin(genre_list)]\n",
    "\n",
    "# Based on ANOVA scores, keeping only 5 features \n",
    "X = df[['energy','loudness', 'acousticness', 'instrumentalness', 'danceability']]\n",
    "\n",
    "#X = df[['danceability', 'speechiness', 'liveness', 'tempo','valence']]\n",
    "y = LabelEncoder().fit_transform(df['genre'])\n",
    "\n",
    "# Train-Test split\n",
    "X_train, X_test, y_train, y_test = train_test_split(\n",
    "    X, y, test_size=0.2, random_state=43)"
   ]
  },
  {
   "cell_type": "markdown",
   "id": "b567a052",
   "metadata": {},
   "source": [
    "# Pipeline"
   ]
  },
  {
   "cell_type": "code",
   "execution_count": 15,
   "id": "6dcf238f",
   "metadata": {},
   "outputs": [],
   "source": [
    "def pipeline(model):\n",
    "    return Pipeline([\n",
    "        ('Scaling', StandardScaler()),\n",
    "        ('Training', model)\n",
    "    ])"
   ]
  },
  {
   "cell_type": "code",
   "execution_count": 16,
   "id": "597c7635",
   "metadata": {},
   "outputs": [],
   "source": [
    "models = {\n",
    "    'Logistic Regression' : LogisticRegression(),\n",
    "    #'SVC' : SVC(),\n",
    "    'Decision Tree' : DecisionTreeClassifier(),\n",
    "    'Random Forest' : RandomForestClassifier(),\n",
    "    'K Nearest Neighbors' : KNeighborsClassifier(),\n",
    "    'Naive Bayes' : GaussianNB()\n",
    "}"
   ]
  },
  {
   "cell_type": "code",
   "execution_count": 17,
   "id": "3bc70d08",
   "metadata": {},
   "outputs": [
    {
     "name": "stdout",
     "output_type": "stream",
     "text": [
      "cross_val_score for Logistic Regression : [0.5812567  0.58139643 0.58451721 0.58274722 0.58079091]\n",
      "test_set score for Logistic Regression : 0.5851250139732459\n",
      "cross_val_score for Decision Tree : [0.631096   0.62858074 0.63244678 0.63104942 0.63612651]\n",
      "test_set score for Decision Tree : 0.6380743004061556\n",
      "cross_val_score for Random Forest : [0.69285947 0.69276631 0.69262658 0.69155527 0.69886814]\n",
      "test_set score for Random Forest : 0.7011215858702537\n",
      "cross_val_score for K Nearest Neighbors : [0.62396944 0.6181471  0.62066235 0.61940472 0.6231776 ]\n",
      "test_set score for K Nearest Neighbors : 0.6407944256064388\n",
      "cross_val_score for Naive Bayes : [0.55102706 0.55079417 0.54976943 0.55009549 0.54967628]\n",
      "test_set score for Naive Bayes : 0.5528188694712524\n"
     ]
    }
   ],
   "source": [
    "for model_name, model in models.items():\n",
    "    p = pipeline(model)\n",
    "    p.fit(X_train, y_train)\n",
    "    print('cross_val_score for {} : {}'.format(\n",
    "        model_name,\n",
    "        cross_val_score(p, X_train, y_train, cv=5)\n",
    "    ))\n",
    "    print('test_set score for {} : {}'.format(\n",
    "        model_name,\n",
    "        p.score(X_test, y_test)\n",
    "    ))"
   ]
  },
  {
   "cell_type": "code",
   "execution_count": null,
   "id": "eb592eb3",
   "metadata": {},
   "outputs": [],
   "source": []
  },
  {
   "cell_type": "code",
   "execution_count": null,
   "id": "6fbd3bd0",
   "metadata": {},
   "outputs": [],
   "source": []
  },
  {
   "cell_type": "code",
   "execution_count": null,
   "id": "95aafdda",
   "metadata": {},
   "outputs": [],
   "source": []
  }
 ],
 "metadata": {
  "kernelspec": {
   "display_name": "Python 3 (ipykernel)",
   "language": "python",
   "name": "python3"
  },
  "language_info": {
   "codemirror_mode": {
    "name": "ipython",
    "version": 3
   },
   "file_extension": ".py",
   "mimetype": "text/x-python",
   "name": "python",
   "nbconvert_exporter": "python",
   "pygments_lexer": "ipython3",
   "version": "3.8.2"
  }
 },
 "nbformat": 4,
 "nbformat_minor": 5
}
