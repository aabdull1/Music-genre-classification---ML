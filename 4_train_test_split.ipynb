{
 "cells": [
  {
   "cell_type": "markdown",
   "id": "a50575e0",
   "metadata": {},
   "source": [
    "# Train - Test Split"
   ]
  },
  {
   "cell_type": "code",
   "execution_count": 1,
   "id": "79b9c88e",
   "metadata": {},
   "outputs": [],
   "source": [
    "# Author: Arnova Abdullah\n",
    "# Date: 05-05-2022\n",
    "# Description: Code for creating stratified train-test split of the music genre dataset\n",
    "\n",
    "# Edits:\n",
    "# Soumya Sambeet Mohapatra (12-05-2022)"
   ]
  },
  {
   "cell_type": "markdown",
   "id": "74244cd3",
   "metadata": {},
   "source": [
    "## Importing modules"
   ]
  },
  {
   "cell_type": "code",
   "execution_count": 2,
   "id": "cdc23f2e",
   "metadata": {},
   "outputs": [],
   "source": [
    "import pandas as pd\n",
    "from sklearn.model_selection import train_test_split"
   ]
  },
  {
   "cell_type": "markdown",
   "id": "15b55696",
   "metadata": {},
   "source": [
    "## Loading data "
   ]
  },
  {
   "cell_type": "code",
   "execution_count": 4,
   "id": "5bafefda",
   "metadata": {},
   "outputs": [
    {
     "data": {
      "text/html": [
       "<div>\n",
       "<style scoped>\n",
       "    .dataframe tbody tr th:only-of-type {\n",
       "        vertical-align: middle;\n",
       "    }\n",
       "\n",
       "    .dataframe tbody tr th {\n",
       "        vertical-align: top;\n",
       "    }\n",
       "\n",
       "    .dataframe thead th {\n",
       "        text-align: right;\n",
       "    }\n",
       "</style>\n",
       "<table border=\"1\" class=\"dataframe\">\n",
       "  <thead>\n",
       "    <tr style=\"text-align: right;\">\n",
       "      <th></th>\n",
       "      <th>danceability</th>\n",
       "      <th>energy</th>\n",
       "      <th>loudness</th>\n",
       "      <th>mode</th>\n",
       "      <th>speechiness</th>\n",
       "      <th>acousticness</th>\n",
       "      <th>instrumentalness</th>\n",
       "      <th>liveness</th>\n",
       "      <th>valence</th>\n",
       "      <th>tempo</th>\n",
       "      <th>time_signature</th>\n",
       "      <th>genre</th>\n",
       "    </tr>\n",
       "  </thead>\n",
       "  <tbody>\n",
       "    <tr>\n",
       "      <th>0</th>\n",
       "      <td>0.507</td>\n",
       "      <td>0.7100</td>\n",
       "      <td>-5.020</td>\n",
       "      <td>1</td>\n",
       "      <td>0.0291</td>\n",
       "      <td>0.0975</td>\n",
       "      <td>0.000011</td>\n",
       "      <td>0.170</td>\n",
       "      <td>0.450</td>\n",
       "      <td>134.647</td>\n",
       "      <td>4</td>\n",
       "      <td>acoustic</td>\n",
       "    </tr>\n",
       "    <tr>\n",
       "      <th>1</th>\n",
       "      <td>0.496</td>\n",
       "      <td>0.3780</td>\n",
       "      <td>-7.878</td>\n",
       "      <td>1</td>\n",
       "      <td>0.0336</td>\n",
       "      <td>0.8980</td>\n",
       "      <td>0.000001</td>\n",
       "      <td>0.109</td>\n",
       "      <td>0.335</td>\n",
       "      <td>144.092</td>\n",
       "      <td>3</td>\n",
       "      <td>acoustic</td>\n",
       "    </tr>\n",
       "    <tr>\n",
       "      <th>2</th>\n",
       "      <td>0.760</td>\n",
       "      <td>0.7650</td>\n",
       "      <td>-9.319</td>\n",
       "      <td>1</td>\n",
       "      <td>0.0352</td>\n",
       "      <td>0.2890</td>\n",
       "      <td>0.000008</td>\n",
       "      <td>0.233</td>\n",
       "      <td>0.868</td>\n",
       "      <td>107.602</td>\n",
       "      <td>4</td>\n",
       "      <td>acoustic</td>\n",
       "    </tr>\n",
       "    <tr>\n",
       "      <th>3</th>\n",
       "      <td>0.607</td>\n",
       "      <td>0.1960</td>\n",
       "      <td>-19.705</td>\n",
       "      <td>1</td>\n",
       "      <td>0.0595</td>\n",
       "      <td>0.9040</td>\n",
       "      <td>0.727000</td>\n",
       "      <td>0.111</td>\n",
       "      <td>0.187</td>\n",
       "      <td>111.031</td>\n",
       "      <td>4</td>\n",
       "      <td>acoustic</td>\n",
       "    </tr>\n",
       "    <tr>\n",
       "      <th>4</th>\n",
       "      <td>0.497</td>\n",
       "      <td>0.0919</td>\n",
       "      <td>-15.685</td>\n",
       "      <td>1</td>\n",
       "      <td>0.0704</td>\n",
       "      <td>0.9680</td>\n",
       "      <td>0.002140</td>\n",
       "      <td>0.133</td>\n",
       "      <td>0.548</td>\n",
       "      <td>206.431</td>\n",
       "      <td>4</td>\n",
       "      <td>acoustic</td>\n",
       "    </tr>\n",
       "  </tbody>\n",
       "</table>\n",
       "</div>"
      ],
      "text/plain": [
       "   danceability  energy  loudness  mode  speechiness  acousticness  \\\n",
       "0         0.507  0.7100    -5.020     1       0.0291        0.0975   \n",
       "1         0.496  0.3780    -7.878     1       0.0336        0.8980   \n",
       "2         0.760  0.7650    -9.319     1       0.0352        0.2890   \n",
       "3         0.607  0.1960   -19.705     1       0.0595        0.9040   \n",
       "4         0.497  0.0919   -15.685     1       0.0704        0.9680   \n",
       "\n",
       "   instrumentalness  liveness  valence    tempo  time_signature     genre  \n",
       "0          0.000011     0.170    0.450  134.647               4  acoustic  \n",
       "1          0.000001     0.109    0.335  144.092               3  acoustic  \n",
       "2          0.000008     0.233    0.868  107.602               4  acoustic  \n",
       "3          0.727000     0.111    0.187  111.031               4  acoustic  \n",
       "4          0.002140     0.133    0.548  206.431               4  acoustic  "
      ]
     },
     "execution_count": 4,
     "metadata": {},
     "output_type": "execute_result"
    }
   ],
   "source": [
    "df = pd.read_csv('genre_data_final.csv')\n",
    "df.head()"
   ]
  },
  {
   "cell_type": "markdown",
   "id": "a329417a",
   "metadata": {},
   "source": [
    "## Creating stratified Train-Test split of the dataset"
   ]
  },
  {
   "cell_type": "code",
   "execution_count": 7,
   "id": "e4e943c6",
   "metadata": {},
   "outputs": [
    {
     "data": {
      "text/plain": [
       "((9600, 11), (2400, 11), (9600,), (2400,))"
      ]
     },
     "execution_count": 7,
     "metadata": {},
     "output_type": "execute_result"
    }
   ],
   "source": [
    "X = df.drop('genre',axis=1)\n",
    "y = df['genre']\n",
    "X_train, X_test, y_train, y_test = train_test_split(\n",
    "    X, y, \n",
    "    test_size=0.2, \n",
    "    random_state=43, \n",
    "    stratify=df['genre']\n",
    ")\n",
    "X_train.shape, X_test.shape, y_train.shape, y_test.shape"
   ]
  },
  {
   "cell_type": "code",
   "execution_count": 6,
   "id": "ff346054",
   "metadata": {},
   "outputs": [
    {
     "data": {
      "text/plain": [
       "danceability  energy  key  loudness  mode  speechiness  acousticness  instrumentalness  liveness  valence  tempo    duration_ms  time_signature\n",
       "0.733         0.710   5    -5.849    0     0.0292       0.14500       0.115000          0.0956    0.965    127.975  239600       4                 6\n",
       "0.344         0.952   7    -4.621    1     0.0458       0.02870       0.000000          0.0368    0.767    205.651  245093       4                 5\n",
       "0.574         0.414   9    -7.160    0     0.0495       0.84200       0.000000          0.1720    0.867    77.968   163040       4                 5\n",
       "0.358         0.883   4    -6.669    1     0.0485       0.00217       0.025800          0.1210    0.703    155.482  246000       4                 5\n",
       "0.578         0.866   1    -3.804    1     0.0619       0.00701       0.000000          0.2570    0.619    128.038  199080       4                 5\n",
       "                                                                                                                                                  ..\n",
       "0.489         0.498   7    -5.055    1     0.0259       0.63500       0.000002          0.0915    0.248    141.883  207213       4                 1\n",
       "              0.327   0    -12.523   1     0.0285       0.71200       0.001200          0.1350    0.282    99.544   242280       4                 1\n",
       "              0.308   0    -5.488    1     0.0297       0.87900       0.000000          0.0959    0.290    128.855  242867       3                 1\n",
       "              0.141   10   -9.965    1     0.0313       0.95100       0.000002          0.1560    0.506    135.181  234813       3                 1\n",
       "0.982         0.478   5    -7.658    0     0.2020       0.11800       0.740000          0.1120    0.567    122.007  412133       4                 1\n",
       "Length: 8584, dtype: int64"
      ]
     },
     "execution_count": 6,
     "metadata": {},
     "output_type": "execute_result"
    }
   ],
   "source": [
    "X_train.value_counts()"
   ]
  },
  {
   "cell_type": "code",
   "execution_count": 8,
   "id": "5dc7567b",
   "metadata": {},
   "outputs": [
    {
     "name": "stdout",
     "output_type": "stream",
     "text": [
      "danceability  energy  loudness  mode  speechiness  acousticness  instrumentalness  liveness  valence  tempo    time_signature\n",
      "0.585         0.561   -9.784    1     0.0582       0.112000      0.00013           0.6890    0.292    134.053  4                 3\n",
      "0.445         0.376   -6.244    1     0.0298       0.706000      0.00000           0.2700    0.473    129.022  4                 3\n",
      "0.486         0.488   -5.089    1     0.0377       0.832000      0.00000           0.0854    0.534    94.250   4                 3\n",
      "0.799         0.579   -5.144    0     0.0487       0.003810      0.00000           0.3670    0.363    142.987  4                 3\n",
      "0.520         0.237   -10.292   1     0.0302       0.870000      0.00000           0.1220    0.574    105.711  4                 3\n",
      "                                                                                                                                ..\n",
      "0.488         0.936   -3.431    1     0.0699       0.000435      0.00001           0.1060    0.398    95.009   4                 1\n",
      "0.487         0.990   -2.282    1     0.0940       0.000595      0.84300           0.3310    0.161    160.046  4                 1\n",
      "              0.900   -4.417    1     0.0482       0.000068      0.00000           0.3580    0.484    149.937  4                 1\n",
      "              0.534   -5.664    0     0.0555       0.360000      0.00000           0.1000    0.173    131.798  4                 1\n",
      "0.967         0.583   -5.562    0     0.0789       0.058400      0.00000           0.0519    0.964    117.000  4                 1\n",
      "Length: 2328, dtype: int64\n"
     ]
    }
   ],
   "source": [
    "print(X_test.value_counts())"
   ]
  },
  {
   "cell_type": "code",
   "execution_count": 8,
   "id": "0e78ab9a",
   "metadata": {},
   "outputs": [
    {
     "data": {
      "text/plain": [
       "blues        960\n",
       "jazz         960\n",
       "rock         960\n",
       "classical    960\n",
       "country      960\n",
       "acoustic     960\n",
       "metal        960\n",
       "techno       960\n",
       "dance        960\n",
       "pop          960\n",
       "Name: genre, dtype: int64"
      ]
     },
     "execution_count": 8,
     "metadata": {},
     "output_type": "execute_result"
    }
   ],
   "source": [
    "y_train.value_counts()"
   ]
  },
  {
   "cell_type": "code",
   "execution_count": 9,
   "id": "6e58d614",
   "metadata": {},
   "outputs": [
    {
     "data": {
      "text/plain": [
       "blues        240\n",
       "jazz         240\n",
       "metal        240\n",
       "pop          240\n",
       "dance        240\n",
       "acoustic     240\n",
       "techno       240\n",
       "classical    240\n",
       "rock         240\n",
       "country      240\n",
       "Name: genre, dtype: int64"
      ]
     },
     "execution_count": 9,
     "metadata": {},
     "output_type": "execute_result"
    }
   ],
   "source": [
    "y_test.value_counts()"
   ]
  },
  {
   "cell_type": "markdown",
   "id": "d7adf205",
   "metadata": {},
   "source": [
    "## Exporting Training set and Test set to CSV files"
   ]
  },
  {
   "cell_type": "code",
   "execution_count": 26,
   "id": "7d4ce5c5",
   "metadata": {},
   "outputs": [],
   "source": [
    "X_train.to_csv('data/X_train.csv', index=False)\n",
    "y_train.to_csv('data/y_train.csv', index=False)\n",
    "X_test.to_csv ('data/X_test.csv', index=False)\n",
    "y_test.to_csv('data/y_test.csv', index=False)"
   ]
  }
 ],
 "metadata": {
  "kernelspec": {
   "display_name": "Python 3 (ipykernel)",
   "language": "python",
   "name": "python3"
  },
  "language_info": {
   "codemirror_mode": {
    "name": "ipython",
    "version": 3
   },
   "file_extension": ".py",
   "mimetype": "text/x-python",
   "name": "python",
   "nbconvert_exporter": "python",
   "pygments_lexer": "ipython3",
   "version": "3.8.2"
  }
 },
 "nbformat": 4,
 "nbformat_minor": 5
}
