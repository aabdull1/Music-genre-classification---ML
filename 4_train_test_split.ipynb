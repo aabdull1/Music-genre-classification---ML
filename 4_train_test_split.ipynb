{
 "cells": [
  {
   "cell_type": "markdown",
   "id": "a50575e0",
   "metadata": {},
   "source": [
    "# Train - Test Split"
   ]
  },
  {
   "cell_type": "code",
   "execution_count": 2,
   "id": "79b9c88e",
   "metadata": {},
   "outputs": [],
   "source": [
    "# Author: Arnova Abdullah\n",
    "# Date: 05-05-2022\n",
    "# Description: Code for creating stratified train-test split of the music genre dataset\n",
    "\n",
    "# Edits:\n",
    "#(14-05-2022)"
   ]
  },
  {
   "cell_type": "markdown",
   "id": "74244cd3",
   "metadata": {},
   "source": [
    "## Importing modules"
   ]
  },
  {
   "cell_type": "code",
   "execution_count": 66,
   "id": "cdc23f2e",
   "metadata": {},
   "outputs": [],
   "source": [
    "import pandas as pd\n",
    "import numpy as np\n",
    "from sklearn.model_selection import train_test_split, StratifiedShuffleSplit\n",
    "import matplotlib.pyplot as plt\n",
    "%matplotlib inline"
   ]
  },
  {
   "cell_type": "markdown",
   "id": "15b55696",
   "metadata": {},
   "source": [
    "## Loading data "
   ]
  },
  {
   "cell_type": "code",
   "execution_count": 118,
   "id": "5bafefda",
   "metadata": {},
   "outputs": [
    {
     "data": {
      "text/html": [
       "<div>\n",
       "<style scoped>\n",
       "    .dataframe tbody tr th:only-of-type {\n",
       "        vertical-align: middle;\n",
       "    }\n",
       "\n",
       "    .dataframe tbody tr th {\n",
       "        vertical-align: top;\n",
       "    }\n",
       "\n",
       "    .dataframe thead th {\n",
       "        text-align: right;\n",
       "    }\n",
       "</style>\n",
       "<table border=\"1\" class=\"dataframe\">\n",
       "  <thead>\n",
       "    <tr style=\"text-align: right;\">\n",
       "      <th></th>\n",
       "      <th>danceability</th>\n",
       "      <th>energy</th>\n",
       "      <th>loudness</th>\n",
       "      <th>mode</th>\n",
       "      <th>speechiness</th>\n",
       "      <th>acousticness</th>\n",
       "      <th>instrumentalness</th>\n",
       "      <th>liveness</th>\n",
       "      <th>valence</th>\n",
       "      <th>tempo</th>\n",
       "      <th>time_signature</th>\n",
       "      <th>genre</th>\n",
       "    </tr>\n",
       "  </thead>\n",
       "  <tbody>\n",
       "    <tr>\n",
       "      <th>0</th>\n",
       "      <td>0.507</td>\n",
       "      <td>0.7100</td>\n",
       "      <td>-5.020</td>\n",
       "      <td>1</td>\n",
       "      <td>0.0291</td>\n",
       "      <td>0.0975</td>\n",
       "      <td>0.000011</td>\n",
       "      <td>0.170</td>\n",
       "      <td>0.450</td>\n",
       "      <td>134.647</td>\n",
       "      <td>4</td>\n",
       "      <td>acoustic</td>\n",
       "    </tr>\n",
       "    <tr>\n",
       "      <th>1</th>\n",
       "      <td>0.496</td>\n",
       "      <td>0.3780</td>\n",
       "      <td>-7.878</td>\n",
       "      <td>1</td>\n",
       "      <td>0.0336</td>\n",
       "      <td>0.8980</td>\n",
       "      <td>0.000001</td>\n",
       "      <td>0.109</td>\n",
       "      <td>0.335</td>\n",
       "      <td>144.092</td>\n",
       "      <td>3</td>\n",
       "      <td>acoustic</td>\n",
       "    </tr>\n",
       "    <tr>\n",
       "      <th>2</th>\n",
       "      <td>0.760</td>\n",
       "      <td>0.7650</td>\n",
       "      <td>-9.319</td>\n",
       "      <td>1</td>\n",
       "      <td>0.0352</td>\n",
       "      <td>0.2890</td>\n",
       "      <td>0.000008</td>\n",
       "      <td>0.233</td>\n",
       "      <td>0.868</td>\n",
       "      <td>107.602</td>\n",
       "      <td>4</td>\n",
       "      <td>acoustic</td>\n",
       "    </tr>\n",
       "    <tr>\n",
       "      <th>3</th>\n",
       "      <td>0.607</td>\n",
       "      <td>0.1960</td>\n",
       "      <td>-19.705</td>\n",
       "      <td>1</td>\n",
       "      <td>0.0595</td>\n",
       "      <td>0.9040</td>\n",
       "      <td>0.727000</td>\n",
       "      <td>0.111</td>\n",
       "      <td>0.187</td>\n",
       "      <td>111.031</td>\n",
       "      <td>4</td>\n",
       "      <td>acoustic</td>\n",
       "    </tr>\n",
       "    <tr>\n",
       "      <th>4</th>\n",
       "      <td>0.497</td>\n",
       "      <td>0.0919</td>\n",
       "      <td>-15.685</td>\n",
       "      <td>1</td>\n",
       "      <td>0.0704</td>\n",
       "      <td>0.9680</td>\n",
       "      <td>0.002140</td>\n",
       "      <td>0.133</td>\n",
       "      <td>0.548</td>\n",
       "      <td>206.431</td>\n",
       "      <td>4</td>\n",
       "      <td>acoustic</td>\n",
       "    </tr>\n",
       "  </tbody>\n",
       "</table>\n",
       "</div>"
      ],
      "text/plain": [
       "   danceability  energy  loudness  mode  speechiness  acousticness  \\\n",
       "0         0.507  0.7100    -5.020     1       0.0291        0.0975   \n",
       "1         0.496  0.3780    -7.878     1       0.0336        0.8980   \n",
       "2         0.760  0.7650    -9.319     1       0.0352        0.2890   \n",
       "3         0.607  0.1960   -19.705     1       0.0595        0.9040   \n",
       "4         0.497  0.0919   -15.685     1       0.0704        0.9680   \n",
       "\n",
       "   instrumentalness  liveness  valence    tempo  time_signature     genre  \n",
       "0          0.000011     0.170    0.450  134.647               4  acoustic  \n",
       "1          0.000001     0.109    0.335  144.092               3  acoustic  \n",
       "2          0.000008     0.233    0.868  107.602               4  acoustic  \n",
       "3          0.727000     0.111    0.187  111.031               4  acoustic  \n",
       "4          0.002140     0.133    0.548  206.431               4  acoustic  "
      ]
     },
     "execution_count": 118,
     "metadata": {},
     "output_type": "execute_result"
    }
   ],
   "source": [
    "df = pd.read_csv('data/genre_data_final.csv')\n",
    "df.head()"
   ]
  },
  {
   "cell_type": "markdown",
   "id": "bf213692",
   "metadata": {},
   "source": [
    "From the correlation matrix, four features are selected according to their correlation. \n",
    "These four features are:\n",
    "1. **Energy**\n",
    "2. **Loudness**\n",
    "3. **Acousticness**\n",
    "4. **Instrumentalness**"
   ]
  },
  {
   "cell_type": "markdown",
   "id": "8871225f",
   "metadata": {},
   "source": [
    "## Stratified train-test splitting according to the feature 'energy'"
   ]
  },
  {
   "cell_type": "markdown",
   "id": "cad7e440",
   "metadata": {},
   "source": [
    "### Histogram plotting of 'energy' feature"
   ]
  },
  {
   "cell_type": "code",
   "execution_count": 119,
   "id": "148fba93",
   "metadata": {},
   "outputs": [
    {
     "data": {
      "text/plain": [
       "<AxesSubplot:>"
      ]
     },
     "execution_count": 119,
     "metadata": {},
     "output_type": "execute_result"
    },
    {
     "data": {
      "image/png": "[encoded data removed]",
      "text/plain": [
       "<Figure size 432x288 with 1 Axes>"
      ]
     },
     "metadata": {
      "needs_background": "light"
     },
     "output_type": "display_data"
    }
   ],
   "source": [
    "# Plotting histogram of 'energy' column of dataset df\n",
    "df['energy'].hist()"
   ]
  },
  {
   "cell_type": "markdown",
   "id": "fbe11700",
   "metadata": {},
   "source": [
    "Most 'energy' values are in 0 and between 0.3 to 1"
   ]
  },
  {
   "cell_type": "markdown",
   "id": "fdc345bd",
   "metadata": {},
   "source": [
    "### Box plot of energy"
   ]
  },
  {
   "cell_type": "code",
   "execution_count": 120,
   "id": "dc5f3f56",
   "metadata": {},
   "outputs": [
    {
     "data": {
      "image/png": "[encoded data removed]",
      "text/plain": [
       "<Figure size 720x504 with 1 Axes>"
      ]
     },
     "metadata": {
      "needs_background": "light"
     },
     "output_type": "display_data"
    }
   ],
   "source": [
    "# Plotting the box plot of 'energy' column of dataset df\n",
    "\n",
    "import matplotlib.pyplot as plt\n",
    "import numpy as np\n",
    "\n",
    "fig = plt.figure(figsize =(10, 7))\n",
    "plt.boxplot(df['energy'])\n",
    "plt.show()"
   ]
  },
  {
   "cell_type": "markdown",
   "id": "63506cf4",
   "metadata": {},
   "source": [
    "### Energy category generation according to histogram"
   ]
  },
  {
   "cell_type": "code",
   "execution_count": 121,
   "id": "b3ccc187",
   "metadata": {},
   "outputs": [],
   "source": [
    "# From histogram, energy is clustered between 0.2 to 1\n",
    "# Creating energy category attributes with 5 category\n",
    "\n",
    "df[\"energy_cat\"] = pd.cut(\n",
    "    df[\"energy\"],\n",
    "    bins=[0, 0.2, 0.4, 0.6, 0.8, np.inf],\n",
    "    labels=[1, 2, 3, 4, 5]\n",
    ")"
   ]
  },
  {
   "cell_type": "code",
   "execution_count": 122,
   "id": "679ec7b9",
   "metadata": {},
   "outputs": [
    {
     "data": {
      "text/plain": [
       "<AxesSubplot:>"
      ]
     },
     "execution_count": 122,
     "metadata": {},
     "output_type": "execute_result"
    },
    {
     "data": {
      "image/png": "[encoded data removed]",
      "text/plain": [
       "<Figure size 432x288 with 1 Axes>"
      ]
     },
     "metadata": {
      "needs_background": "light"
     },
     "output_type": "display_data"
    }
   ],
   "source": [
    "# Plotting histogram of energy category attribute\n",
    "df[\"energy_cat\"].hist()"
   ]
  },
  {
   "cell_type": "markdown",
   "id": "dc7efee1",
   "metadata": {},
   "source": [
    "### Stratified train test splitting creation according to energy_cat attribute"
   ]
  },
  {
   "cell_type": "code",
   "execution_count": 123,
   "id": "35b00395",
   "metadata": {},
   "outputs": [],
   "source": [
    "split_energy_cat = StratifiedShuffleSplit(n_splits=1, test_size=0.2, random_state=43)\n",
    "for train_index, test_index in split.split(df, df[\"energy_cat\"]):\n",
    "    strat_energy_cat_train = df.loc[train_index]\n",
    "    strat_energy_cat_test = df.loc[test_index]"
   ]
  },
  {
   "cell_type": "markdown",
   "id": "e634f22b",
   "metadata": {},
   "source": [
    "### Statistical analysis for stratified train test split"
   ]
  },
  {
   "cell_type": "code",
   "execution_count": 124,
   "id": "628e898b",
   "metadata": {},
   "outputs": [],
   "source": [
    "def strat_plot(x, y, tx, ty):\n",
    "    fig, ax = plt.subplots(1,2, figsize=(15,5))\n",
    "    ax[0].hist(x);\n",
    "    ax[1].hist(y);\n",
    "    ax[0].grid()\n",
    "    ax[1].grid()\n",
    "    ax[0].set_title(tx);\n",
    "    ax[1].set_title(ty);"
   ]
  },
  {
   "cell_type": "code",
   "execution_count": 125,
   "id": "565fe70b",
   "metadata": {},
   "outputs": [
    {
     "data": {
      "image/png": "[encoded data removed]",
      "text/plain": [
       "<Figure size 1080x360 with 2 Axes>"
      ]
     },
     "metadata": {
      "needs_background": "light"
     },
     "output_type": "display_data"
    }
   ],
   "source": [
    "strat_plot(\n",
    "    strat_energy_cat_train['energy_cat'],\n",
    "    strat_energy_cat_test['energy_cat'],\n",
    "    \"Histogram for Training set w.r.t energy_cat\",\n",
    "    \"Histogram for Test set w.r.t energy_cat\"\n",
    ")"
   ]
  },
  {
   "cell_type": "code",
   "execution_count": 126,
   "id": "b9a988cc",
   "metadata": {},
   "outputs": [
    {
     "data": {
      "text/html": [
       "<div>\n",
       "<style scoped>\n",
       "    .dataframe tbody tr th:only-of-type {\n",
       "        vertical-align: middle;\n",
       "    }\n",
       "\n",
       "    .dataframe tbody tr th {\n",
       "        vertical-align: top;\n",
       "    }\n",
       "\n",
       "    .dataframe thead th {\n",
       "        text-align: right;\n",
       "    }\n",
       "</style>\n",
       "<table border=\"1\" class=\"dataframe\">\n",
       "  <thead>\n",
       "    <tr style=\"text-align: right;\">\n",
       "      <th></th>\n",
       "      <th>Test set</th>\n",
       "      <th>Training set</th>\n",
       "    </tr>\n",
       "  </thead>\n",
       "  <tbody>\n",
       "    <tr>\n",
       "      <th>count</th>\n",
       "      <td>2400.000000</td>\n",
       "      <td>9600.000000</td>\n",
       "    </tr>\n",
       "    <tr>\n",
       "      <th>mean</th>\n",
       "      <td>0.613351</td>\n",
       "      <td>0.611801</td>\n",
       "    </tr>\n",
       "    <tr>\n",
       "      <th>std</th>\n",
       "      <td>0.277033</td>\n",
       "      <td>0.278574</td>\n",
       "    </tr>\n",
       "    <tr>\n",
       "      <th>min</th>\n",
       "      <td>0.001700</td>\n",
       "      <td>0.000707</td>\n",
       "    </tr>\n",
       "    <tr>\n",
       "      <th>25%</th>\n",
       "      <td>0.434750</td>\n",
       "      <td>0.430000</td>\n",
       "    </tr>\n",
       "    <tr>\n",
       "      <th>50%</th>\n",
       "      <td>0.679000</td>\n",
       "      <td>0.673000</td>\n",
       "    </tr>\n",
       "    <tr>\n",
       "      <th>75%</th>\n",
       "      <td>0.841000</td>\n",
       "      <td>0.844000</td>\n",
       "    </tr>\n",
       "    <tr>\n",
       "      <th>max</th>\n",
       "      <td>0.997000</td>\n",
       "      <td>0.999000</td>\n",
       "    </tr>\n",
       "  </tbody>\n",
       "</table>\n",
       "</div>"
      ],
      "text/plain": [
       "          Test set  Training set\n",
       "count  2400.000000   9600.000000\n",
       "mean      0.613351      0.611801\n",
       "std       0.277033      0.278574\n",
       "min       0.001700      0.000707\n",
       "25%       0.434750      0.430000\n",
       "50%       0.679000      0.673000\n",
       "75%       0.841000      0.844000\n",
       "max       0.997000      0.999000"
      ]
     },
     "execution_count": 126,
     "metadata": {},
     "output_type": "execute_result"
    }
   ],
   "source": [
    "def strat_join(x, y):\n",
    "    return pd.concat(\n",
    "        [x, y],\n",
    "        axis=1,\n",
    "        keys=['Test set', 'Training set']\n",
    "    )\n",
    "\n",
    "strat_join(strat_energy_cat_test.describe()['energy'], \n",
    "         strat_energy_cat_train.describe()['energy'])"
   ]
  },
  {
   "cell_type": "markdown",
   "id": "4c8059af",
   "metadata": {},
   "source": [
    "As we see, the training set and the test set have nearly identical statistical properties. Thus we have created a stratified split. We now export the sets. We also create similar train test splits with respect the remaining features."
   ]
  },
  {
   "cell_type": "markdown",
   "id": "0c5ac12a",
   "metadata": {},
   "source": [
    "### Exporting to CSV"
   ]
  },
  {
   "cell_type": "code",
   "execution_count": 127,
   "id": "a89906d4",
   "metadata": {},
   "outputs": [],
   "source": [
    "# Dropping energy_cat since it is no longer required\n",
    "strat_energy_cat_test.drop('energy_cat', axis=1, inplace=True)\n",
    "strat_energy_cat_train.drop('energy_cat', axis=1, inplace=True)\n",
    "\n",
    "# Exporting to csv files\n",
    "strat_energy_cat_test.to_csv('data/energy_test.csv', index=False)\n",
    "strat_energy_cat_train.to_csv('data/energy_train.csv', index=False)"
   ]
  },
  {
   "cell_type": "markdown",
   "id": "3462b600",
   "metadata": {},
   "source": [
    "## Stratified train-test splitting according to the feature 'loudness'"
   ]
  },
  {
   "cell_type": "code",
   "execution_count": 95,
   "id": "1d200ca0",
   "metadata": {},
   "outputs": [
    {
     "data": {
      "text/plain": [
       "<AxesSubplot:>"
      ]
     },
     "execution_count": 95,
     "metadata": {},
     "output_type": "execute_result"
    },
    {
     "data": {
      "image/png": "[encoded data removed]",
      "text/plain": [
       "<Figure size 432x288 with 1 Axes>"
      ]
     },
     "metadata": {
      "needs_background": "light"
     },
     "output_type": "display_data"
    }
   ],
   "source": [
    "# Plotting histogram of 'loudness' column of dataset df\n",
    "df['loudness'].hist()"
   ]
  },
  {
   "cell_type": "markdown",
   "id": "c1583ced",
   "metadata": {},
   "source": [
    "Most loudness attribute values are between -14 to -2"
   ]
  },
  {
   "cell_type": "code",
   "execution_count": 96,
   "id": "c0f464f4",
   "metadata": {},
   "outputs": [
    {
     "data": {
      "image/png": "[encoded data removed]",
      "text/plain": [
       "<Figure size 720x504 with 1 Axes>"
      ]
     },
     "metadata": {
      "needs_background": "light"
     },
     "output_type": "display_data"
    }
   ],
   "source": [
    "# Plotting the box plot of 'loudness' column of dataset df\n",
    "\n",
    "import matplotlib.pyplot as plt\n",
    "\n",
    "fig = plt.figure(figsize =(10, 7))\n",
    "plt.boxplot(df['loudness'])\n",
    "plt.show()"
   ]
  },
  {
   "cell_type": "code",
   "execution_count": 100,
   "id": "def2f220",
   "metadata": {},
   "outputs": [
    {
     "data": {
      "text/plain": [
       "<AxesSubplot:>"
      ]
     },
     "execution_count": 100,
     "metadata": {},
     "output_type": "execute_result"
    },
    {
     "data": {
      "image/png": "[encoded data removed]",
      "text/plain": [
       "<Figure size 432x288 with 1 Axes>"
      ]
     },
     "metadata": {
      "needs_background": "light"
     },
     "output_type": "display_data"
    }
   ],
   "source": [
    "# From histogram, loudness is clustered between -14 to -2\n",
    "# Creating loudness category attributes with 5 category\n",
    "\n",
    "df[\"loudness_cat\"] = pd.cut(df[\"loudness\"],\n",
    "bins=[-np.inf, -14, -10, -6, -2, np.inf],\n",
    "labels=[1, 2, 3, 4, 5])\n",
    "df[\"loudness_cat\"].hist()"
   ]
  },
  {
   "cell_type": "markdown",
   "id": "4534133f",
   "metadata": {},
   "source": [
    "### Stratified train test splitting creation according to loudness_cat attribute"
   ]
  },
  {
   "cell_type": "code",
   "execution_count": 106,
   "id": "d75b91c1",
   "metadata": {},
   "outputs": [],
   "source": [
    "split_loudness_cat = StratifiedShuffleSplit(n_splits=1, test_size=0.2, random_state=43)\n",
    "for train_index_l, test_index_l in split.split(df, df[\"loudness_cat\"]):\n",
    "    strat_train_set_loudness = df.loc[train_index_l]\n",
    "    strat_test_set_loudness = df.loc[test_index_l]"
   ]
  },
  {
   "cell_type": "markdown",
   "id": "87f73cf8",
   "metadata": {},
   "source": [
    "### Statistical comparison for train test split"
   ]
  },
  {
   "cell_type": "code",
   "execution_count": 108,
   "id": "8e6534ae",
   "metadata": {},
   "outputs": [
    {
     "data": {
      "image/png": "[encoded data removed]",
      "text/plain": [
       "<Figure size 1080x360 with 2 Axes>"
      ]
     },
     "metadata": {
      "needs_background": "light"
     },
     "output_type": "display_data"
    }
   ],
   "source": [
    "strat_plot(\n",
    "    strat_train_set_loudness['loudness_cat'],\n",
    "    strat_test_set_loudness['loudness_cat'],\n",
    "    \"Histogram for training set w.r.t loudness_cat\",\n",
    "    \"Histogram for test set w.r.t loudness_cat\"\n",
    ")"
   ]
  },
  {
   "cell_type": "code",
   "execution_count": 113,
   "id": "b583d696",
   "metadata": {},
   "outputs": [
    {
     "data": {
      "text/html": [
       "<div>\n",
       "<style scoped>\n",
       "    .dataframe tbody tr th:only-of-type {\n",
       "        vertical-align: middle;\n",
       "    }\n",
       "\n",
       "    .dataframe tbody tr th {\n",
       "        vertical-align: top;\n",
       "    }\n",
       "\n",
       "    .dataframe thead th {\n",
       "        text-align: right;\n",
       "    }\n",
       "</style>\n",
       "<table border=\"1\" class=\"dataframe\">\n",
       "  <thead>\n",
       "    <tr style=\"text-align: right;\">\n",
       "      <th></th>\n",
       "      <th>Test set</th>\n",
       "      <th>Training set</th>\n",
       "    </tr>\n",
       "  </thead>\n",
       "  <tbody>\n",
       "    <tr>\n",
       "      <th>count</th>\n",
       "      <td>9600.000000</td>\n",
       "      <td>2400.000000</td>\n",
       "    </tr>\n",
       "    <tr>\n",
       "      <th>mean</th>\n",
       "      <td>0.612204</td>\n",
       "      <td>0.611738</td>\n",
       "    </tr>\n",
       "    <tr>\n",
       "      <th>std</th>\n",
       "      <td>0.278370</td>\n",
       "      <td>0.277855</td>\n",
       "    </tr>\n",
       "    <tr>\n",
       "      <th>min</th>\n",
       "      <td>0.000707</td>\n",
       "      <td>0.001100</td>\n",
       "    </tr>\n",
       "    <tr>\n",
       "      <th>25%</th>\n",
       "      <td>0.434000</td>\n",
       "      <td>0.428000</td>\n",
       "    </tr>\n",
       "    <tr>\n",
       "      <th>50%</th>\n",
       "      <td>0.674000</td>\n",
       "      <td>0.672000</td>\n",
       "    </tr>\n",
       "    <tr>\n",
       "      <th>75%</th>\n",
       "      <td>0.843000</td>\n",
       "      <td>0.842000</td>\n",
       "    </tr>\n",
       "    <tr>\n",
       "      <th>max</th>\n",
       "      <td>0.999000</td>\n",
       "      <td>0.998000</td>\n",
       "    </tr>\n",
       "  </tbody>\n",
       "</table>\n",
       "</div>"
      ],
      "text/plain": [
       "          Test set  Training set\n",
       "count  9600.000000   2400.000000\n",
       "mean      0.612204      0.611738\n",
       "std       0.278370      0.277855\n",
       "min       0.000707      0.001100\n",
       "25%       0.434000      0.428000\n",
       "50%       0.674000      0.672000\n",
       "75%       0.843000      0.842000\n",
       "max       0.999000      0.998000"
      ]
     },
     "execution_count": 113,
     "metadata": {},
     "output_type": "execute_result"
    }
   ],
   "source": [
    "strat_join(strat_train_set_loudness.describe()['energy'], \n",
    "         strat_test_set_loudness.describe()['energy'])"
   ]
  },
  {
   "cell_type": "markdown",
   "id": "94c7e1d9",
   "metadata": {},
   "source": [
    "### Exporting to CSV"
   ]
  },
  {
   "cell_type": "code",
   "execution_count": 115,
   "id": "7ce4164c",
   "metadata": {},
   "outputs": [],
   "source": [
    "# Dropping energy_cat since it is no longer required\n",
    "strat_test_set_loudness.drop('loudness_cat', axis=1, inplace=True)\n",
    "strat_train_set_loudness.drop('loudness_cat', axis=1, inplace=True)\n",
    "\n",
    "# Exporting to csv files\n",
    "strat_test_set_loudness.to_csv('data/loudness_test.csv', index=False)\n",
    "strat_train_set_loudness.to_csv('data/loudness_train.csv', index=False)"
   ]
  },
  {
   "cell_type": "markdown",
   "id": "4a24fcf0",
   "metadata": {},
   "source": [
    "## Stratified train-test splitting according to the feature 'acousticness'"
   ]
  },
  {
   "cell_type": "code",
   "execution_count": 128,
   "id": "cff63f44",
   "metadata": {},
   "outputs": [
    {
     "data": {
      "text/plain": [
       "<AxesSubplot:>"
      ]
     },
     "execution_count": 128,
     "metadata": {},
     "output_type": "execute_result"
    },
    {
     "data": {
      "image/png": "[encoded data removed]",
      "text/plain": [
       "<Figure size 432x288 with 1 Axes>"
      ]
     },
     "metadata": {
      "needs_background": "light"
     },
     "output_type": "display_data"
    }
   ],
   "source": [
    "# Plotting histogram of 'acousticness' column of dataset df\n",
    "df ['acousticness'].hist()"
   ]
  },
  {
   "cell_type": "code",
   "execution_count": 129,
   "id": "947d05de",
   "metadata": {},
   "outputs": [
    {
     "data": {
      "image/png": "[encoded data removed]",
      "text/plain": [
       "<Figure size 720x504 with 1 Axes>"
      ]
     },
     "metadata": {
      "needs_background": "light"
     },
     "output_type": "display_data"
    }
   ],
   "source": [
    "# Plotting the box plot of 'acousticness' column of dataset df\n",
    "import matplotlib.pyplot as plt\n",
    "fig = plt.figure(figsize =(10, 7))\n",
    "plt.boxplot(df['acousticness'])\n",
    "plt.show()"
   ]
  },
  {
   "cell_type": "code",
   "execution_count": 133,
   "id": "f3f6a589",
   "metadata": {},
   "outputs": [
    {
     "data": {
      "text/plain": [
       "<AxesSubplot:>"
      ]
     },
     "execution_count": 133,
     "metadata": {},
     "output_type": "execute_result"
    },
    {
     "data": {
      "image/png": "[encoded data removed]",
      "text/plain": [
       "<Figure size 432x288 with 1 Axes>"
      ]
     },
     "metadata": {
      "needs_background": "light"
     },
     "output_type": "display_data"
    }
   ],
   "source": [
    "# From histogram, acousticess is clustered between 0 to 0.1\n",
    "# Creating acousticness category attributes with 5 category\n",
    "\n",
    "df[\"acousticness_cat\"] = pd.cut(df[\"acousticness\"],\n",
    "bins=[0, 0.025, 0.05, 0.075, 0.1, np.inf],\n",
    "labels=[1, 2, 3, 4, 5])\n",
    "df['acousticness_cat'].hist()"
   ]
  },
  {
   "cell_type": "markdown",
   "id": "c12c2f8b",
   "metadata": {},
   "source": [
    "### Stratified train test splitting creation according to acoustic_cat attribute"
   ]
  },
  {
   "cell_type": "code",
   "execution_count": 134,
   "id": "19b65033",
   "metadata": {},
   "outputs": [],
   "source": [
    "split_acoustic = StratifiedShuffleSplit(n_splits=1, test_size=0.2, random_state=42)\n",
    "for train_index_l, test_index_l in split.split(df, df[\"acousticness_cat\"]):\n",
    "    strat_train_set_acousticness = df.loc[train_index_l]\n",
    "    strat_test_set_acousticness = df.loc[test_index_l]"
   ]
  },
  {
   "cell_type": "markdown",
   "id": "b6539712",
   "metadata": {},
   "source": [
    "### Checking acousticness category proportion in the test set"
   ]
  },
  {
   "cell_type": "code",
   "execution_count": 135,
   "id": "4e17cc7e",
   "metadata": {},
   "outputs": [
    {
     "data": {
      "text/plain": [
       "5    0.534583\n",
       "1    0.308750\n",
       "2    0.075000\n",
       "3    0.046667\n",
       "4    0.035000\n",
       "Name: acousticness_cat, dtype: float64"
      ]
     },
     "execution_count": 135,
     "metadata": {},
     "output_type": "execute_result"
    }
   ],
   "source": [
    "# Stratified acousticness category proportion in the test set calculation\n",
    "strat_test_set_acousticness[\"acousticness_cat\"].value_counts()/len(strat_test_set_acousticness)"
   ]
  },
  {
   "cell_type": "code",
   "execution_count": 136,
   "id": "004b2801",
   "metadata": {},
   "outputs": [
    {
     "data": {
      "text/plain": [
       "5    0.534583\n",
       "1    0.308583\n",
       "2    0.075083\n",
       "3    0.046667\n",
       "4    0.035083\n",
       "Name: acousticness_cat, dtype: float64"
      ]
     },
     "execution_count": 136,
     "metadata": {},
     "output_type": "execute_result"
    }
   ],
   "source": [
    "# Acousticness category proportion in the full data set calculation\n",
    "df ['acousticness_cat'].value_counts()/len(df)"
   ]
  },
  {
   "cell_type": "markdown",
   "id": "9cd7c3f2",
   "metadata": {},
   "source": [
    "## Stratified train-test splitting according to the feature 'instrumentalness'"
   ]
  },
  {
   "cell_type": "code",
   "execution_count": 137,
   "id": "bf602895",
   "metadata": {
    "scrolled": true
   },
   "outputs": [
    {
     "data": {
      "text/plain": [
       "<AxesSubplot:>"
      ]
     },
     "execution_count": 137,
     "metadata": {},
     "output_type": "execute_result"
    },
    {
     "data": {
      "image/png": "[encoded data removed]",
      "text/plain": [
       "<Figure size 432x288 with 1 Axes>"
      ]
     },
     "metadata": {
      "needs_background": "light"
     },
     "output_type": "display_data"
    }
   ],
   "source": [
    "# Plotting histogram of 'energy' column of dataset df\n",
    "df['instrumentalness'].hist()"
   ]
  },
  {
   "cell_type": "code",
   "execution_count": 26,
   "id": "c8316084",
   "metadata": {
    "scrolled": true
   },
   "outputs": [
    {
     "data": {
      "image/png": "[encoded data removed]",
      "text/plain": [
       "<Figure size 720x504 with 1 Axes>"
      ]
     },
     "metadata": {
      "needs_background": "light"
     },
     "output_type": "display_data"
    }
   ],
   "source": [
    "# Plotting the box plot of 'energy' column of dataset df\n",
    "import matplotlib.pyplot as plt\n",
    "fig = plt.figure(figsize =(10, 7))\n",
    "plt.boxplot(df['instrumentalness'])\n",
    "plt.show()"
   ]
  },
  {
   "cell_type": "code",
   "execution_count": 154,
   "id": "881b1bbf",
   "metadata": {},
   "outputs": [
    {
     "data": {
      "text/plain": [
       "<AxesSubplot:>"
      ]
     },
     "execution_count": 154,
     "metadata": {},
     "output_type": "execute_result"
    },
    {
     "data": {
      "image/png": "[encoded data removed]",
      "text/plain": [
       "<Figure size 432x288 with 1 Axes>"
      ]
     },
     "metadata": {
      "needs_background": "light"
     },
     "output_type": "display_data"
    }
   ],
   "source": [
    "df[\"instrumentalness_cat\"] = pd.cut(\n",
    "    df[\"instrumentalness\"],\n",
    "    bins=[0, 0.25, 0.5, 0.75, 1, np.inf],\n",
    "    labels=[1, 2, 3, 4, 5])\n",
    "df[\"instrumentalness_cat\"].hist()"
   ]
  },
  {
   "cell_type": "code",
   "execution_count": 156,
   "id": "4a7199da",
   "metadata": {},
   "outputs": [
    {
     "data": {
      "text/plain": [
       "8410"
      ]
     },
     "execution_count": 156,
     "metadata": {},
     "output_type": "execute_result"
    }
   ],
   "source": [
    "sum(df[\"instrumentalness_cat\"].value_counts())"
   ]
  },
  {
   "cell_type": "code",
   "execution_count": 152,
   "id": "02508375",
   "metadata": {},
   "outputs": [
    {
     "data": {
      "text/plain": [
       "0.993"
      ]
     },
     "execution_count": 152,
     "metadata": {},
     "output_type": "execute_result"
    }
   ],
   "source": [
    "df[\"instrumentalness\"].max()"
   ]
  },
  {
   "cell_type": "code",
   "execution_count": 142,
   "id": "3582419b",
   "metadata": {},
   "outputs": [
    {
     "ename": "ValueError",
     "evalue": "Input contains NaN, infinity or a value too large for dtype('float64').",
     "output_type": "error",
     "traceback": [
      "\u001b[0;31m---------------------------------------------------------------------------\u001b[0m",
      "\u001b[0;31mValueError\u001b[0m                                Traceback (most recent call last)",
      "Input \u001b[0;32mIn [142]\u001b[0m, in \u001b[0;36m<cell line: 2>\u001b[0;34m()\u001b[0m\n\u001b[1;32m      1\u001b[0m split_instrumentalness \u001b[38;5;241m=\u001b[39m StratifiedShuffleSplit(n_splits\u001b[38;5;241m=\u001b[39m\u001b[38;5;241m1\u001b[39m, test_size\u001b[38;5;241m=\u001b[39m\u001b[38;5;241m0.2\u001b[39m, random_state\u001b[38;5;241m=\u001b[39m\u001b[38;5;241m43\u001b[39m)\n\u001b[0;32m----> 2\u001b[0m \u001b[38;5;28;01mfor\u001b[39;00m train_index_l, test_index_l \u001b[38;5;129;01min\u001b[39;00m \u001b[43msplit\u001b[49m\u001b[38;5;241;43m.\u001b[39;49m\u001b[43msplit\u001b[49m\u001b[43m(\u001b[49m\u001b[43mdf\u001b[49m\u001b[43m,\u001b[49m\u001b[43m \u001b[49m\u001b[43mdf\u001b[49m\u001b[43m[\u001b[49m\u001b[38;5;124;43m\"\u001b[39;49m\u001b[38;5;124;43minstrumentalness_cat\u001b[39;49m\u001b[38;5;124;43m\"\u001b[39;49m\u001b[43m]\u001b[49m\u001b[43m)\u001b[49m:\n\u001b[1;32m      3\u001b[0m     strat_train_set_instrumentalness \u001b[38;5;241m=\u001b[39m df\u001b[38;5;241m.\u001b[39mloc[train_index_l]\n\u001b[1;32m      4\u001b[0m     strat_test_set_instrumentalness \u001b[38;5;241m=\u001b[39m df\u001b[38;5;241m.\u001b[39mloc[test_index_l]\n",
      "File \u001b[0;32m/Library/Python/3.8/site-packages/sklearn/model_selection/_split.py:2022\u001b[0m, in \u001b[0;36mStratifiedShuffleSplit.split\u001b[0;34m(self, X, y, groups)\u001b[0m\n\u001b[1;32m   1988\u001b[0m \u001b[38;5;28;01mdef\u001b[39;00m \u001b[38;5;21msplit\u001b[39m(\u001b[38;5;28mself\u001b[39m, X, y, groups\u001b[38;5;241m=\u001b[39m\u001b[38;5;28;01mNone\u001b[39;00m):\n\u001b[1;32m   1989\u001b[0m     \u001b[38;5;124;03m\"\"\"Generate indices to split data into training and test set.\u001b[39;00m\n\u001b[1;32m   1990\u001b[0m \n\u001b[1;32m   1991\u001b[0m \u001b[38;5;124;03m    Parameters\u001b[39;00m\n\u001b[0;32m   (...)\u001b[0m\n\u001b[1;32m   2020\u001b[0m \u001b[38;5;124;03m    to an integer.\u001b[39;00m\n\u001b[1;32m   2021\u001b[0m \u001b[38;5;124;03m    \"\"\"\u001b[39;00m\n\u001b[0;32m-> 2022\u001b[0m     y \u001b[38;5;241m=\u001b[39m \u001b[43mcheck_array\u001b[49m\u001b[43m(\u001b[49m\u001b[43my\u001b[49m\u001b[43m,\u001b[49m\u001b[43m \u001b[49m\u001b[43mensure_2d\u001b[49m\u001b[38;5;241;43m=\u001b[39;49m\u001b[38;5;28;43;01mFalse\u001b[39;49;00m\u001b[43m,\u001b[49m\u001b[43m \u001b[49m\u001b[43mdtype\u001b[49m\u001b[38;5;241;43m=\u001b[39;49m\u001b[38;5;28;43;01mNone\u001b[39;49;00m\u001b[43m)\u001b[49m\n\u001b[1;32m   2023\u001b[0m     \u001b[38;5;28;01mreturn\u001b[39;00m \u001b[38;5;28msuper\u001b[39m()\u001b[38;5;241m.\u001b[39msplit(X, y, groups)\n",
      "File \u001b[0;32m/Library/Python/3.8/site-packages/sklearn/utils/validation.py:800\u001b[0m, in \u001b[0;36mcheck_array\u001b[0;34m(array, accept_sparse, accept_large_sparse, dtype, order, copy, force_all_finite, ensure_2d, allow_nd, ensure_min_samples, ensure_min_features, estimator)\u001b[0m\n\u001b[1;32m    794\u001b[0m         \u001b[38;5;28;01mraise\u001b[39;00m \u001b[38;5;167;01mValueError\u001b[39;00m(\n\u001b[1;32m    795\u001b[0m             \u001b[38;5;124m\"\u001b[39m\u001b[38;5;124mFound array with dim \u001b[39m\u001b[38;5;132;01m%d\u001b[39;00m\u001b[38;5;124m. \u001b[39m\u001b[38;5;132;01m%s\u001b[39;00m\u001b[38;5;124m expected <= 2.\u001b[39m\u001b[38;5;124m\"\u001b[39m\n\u001b[1;32m    796\u001b[0m             \u001b[38;5;241m%\u001b[39m (array\u001b[38;5;241m.\u001b[39mndim, estimator_name)\n\u001b[1;32m    797\u001b[0m         )\n\u001b[1;32m    799\u001b[0m     \u001b[38;5;28;01mif\u001b[39;00m force_all_finite:\n\u001b[0;32m--> 800\u001b[0m         \u001b[43m_assert_all_finite\u001b[49m\u001b[43m(\u001b[49m\u001b[43marray\u001b[49m\u001b[43m,\u001b[49m\u001b[43m \u001b[49m\u001b[43mallow_nan\u001b[49m\u001b[38;5;241;43m=\u001b[39;49m\u001b[43mforce_all_finite\u001b[49m\u001b[43m \u001b[49m\u001b[38;5;241;43m==\u001b[39;49m\u001b[43m \u001b[49m\u001b[38;5;124;43m\"\u001b[39;49m\u001b[38;5;124;43mallow-nan\u001b[39;49m\u001b[38;5;124;43m\"\u001b[39;49m\u001b[43m)\u001b[49m\n\u001b[1;32m    802\u001b[0m \u001b[38;5;28;01mif\u001b[39;00m ensure_min_samples \u001b[38;5;241m>\u001b[39m \u001b[38;5;241m0\u001b[39m:\n\u001b[1;32m    803\u001b[0m     n_samples \u001b[38;5;241m=\u001b[39m _num_samples(array)\n",
      "File \u001b[0;32m/Library/Python/3.8/site-packages/sklearn/utils/validation.py:114\u001b[0m, in \u001b[0;36m_assert_all_finite\u001b[0;34m(X, allow_nan, msg_dtype)\u001b[0m\n\u001b[1;32m    107\u001b[0m     \u001b[38;5;28;01mif\u001b[39;00m (\n\u001b[1;32m    108\u001b[0m         allow_nan\n\u001b[1;32m    109\u001b[0m         \u001b[38;5;129;01mand\u001b[39;00m np\u001b[38;5;241m.\u001b[39misinf(X)\u001b[38;5;241m.\u001b[39many()\n\u001b[1;32m    110\u001b[0m         \u001b[38;5;129;01mor\u001b[39;00m \u001b[38;5;129;01mnot\u001b[39;00m allow_nan\n\u001b[1;32m    111\u001b[0m         \u001b[38;5;129;01mand\u001b[39;00m \u001b[38;5;129;01mnot\u001b[39;00m np\u001b[38;5;241m.\u001b[39misfinite(X)\u001b[38;5;241m.\u001b[39mall()\n\u001b[1;32m    112\u001b[0m     ):\n\u001b[1;32m    113\u001b[0m         type_err \u001b[38;5;241m=\u001b[39m \u001b[38;5;124m\"\u001b[39m\u001b[38;5;124minfinity\u001b[39m\u001b[38;5;124m\"\u001b[39m \u001b[38;5;28;01mif\u001b[39;00m allow_nan \u001b[38;5;28;01melse\u001b[39;00m \u001b[38;5;124m\"\u001b[39m\u001b[38;5;124mNaN, infinity\u001b[39m\u001b[38;5;124m\"\u001b[39m\n\u001b[0;32m--> 114\u001b[0m         \u001b[38;5;28;01mraise\u001b[39;00m \u001b[38;5;167;01mValueError\u001b[39;00m(\n\u001b[1;32m    115\u001b[0m             msg_err\u001b[38;5;241m.\u001b[39mformat(\n\u001b[1;32m    116\u001b[0m                 type_err, msg_dtype \u001b[38;5;28;01mif\u001b[39;00m msg_dtype \u001b[38;5;129;01mis\u001b[39;00m \u001b[38;5;129;01mnot\u001b[39;00m \u001b[38;5;28;01mNone\u001b[39;00m \u001b[38;5;28;01melse\u001b[39;00m X\u001b[38;5;241m.\u001b[39mdtype\n\u001b[1;32m    117\u001b[0m             )\n\u001b[1;32m    118\u001b[0m         )\n\u001b[1;32m    119\u001b[0m \u001b[38;5;66;03m# for object dtype data, we only check for NaNs (GH-13254)\u001b[39;00m\n\u001b[1;32m    120\u001b[0m \u001b[38;5;28;01melif\u001b[39;00m X\u001b[38;5;241m.\u001b[39mdtype \u001b[38;5;241m==\u001b[39m np\u001b[38;5;241m.\u001b[39mdtype(\u001b[38;5;124m\"\u001b[39m\u001b[38;5;124mobject\u001b[39m\u001b[38;5;124m\"\u001b[39m) \u001b[38;5;129;01mand\u001b[39;00m \u001b[38;5;129;01mnot\u001b[39;00m allow_nan:\n",
      "\u001b[0;31mValueError\u001b[0m: Input contains NaN, infinity or a value too large for dtype('float64')."
     ]
    }
   ],
   "source": [
    "split_instrumentalness = StratifiedShuffleSplit(n_splits=1, test_size=0.2, random_state=43)\n",
    "for train_index_l, test_index_l in split.split(df, df[\"instrumentalness_cat\"]):\n",
    "    strat_train_set_instrumentalness = df.loc[train_index_l]\n",
    "    strat_test_set_instrumentalness = df.loc[test_index_l]"
   ]
  },
  {
   "cell_type": "markdown",
   "id": "36877905",
   "metadata": {},
   "source": [
    "## Comparing box plot of these 4 features (energy, loudness, acousticness, instrumentalness)"
   ]
  },
  {
   "cell_type": "code",
   "execution_count": 29,
   "id": "1a93692b",
   "metadata": {},
   "outputs": [
    {
     "data": {
      "image/png": "[encoded data removed]",
      "text/plain": [
       "<Figure size 720x504 with 1 Axes>"
      ]
     },
     "metadata": {
      "needs_background": "light"
     },
     "output_type": "display_data"
    }
   ],
   "source": [
    "# Blox plot for four features\n",
    "data = [df['energy'], df['loudness'], df['acousticness'], df['instrumentalness']]\n",
    " \n",
    "fig = plt.figure(figsize =(10, 7))\n",
    " \n",
    "# Creating axes instance\n",
    "ax = fig.add_axes([0, 0, 1, 1])\n",
    " \n",
    "# Creating plot\n",
    "bp = ax.boxplot(data)\n",
    "\n",
    "# x-axis labels\n",
    "ax.set_xticklabels(['Energy', 'Loudness',\n",
    "                    'Acousticness', 'Instrumentalness'])\n",
    " \n",
    "# show plot\n",
    "plt.show()"
   ]
  },
  {
   "cell_type": "markdown",
   "id": "a65d61d2",
   "metadata": {},
   "source": [
    "### Train test splitting with purely random sampling method to see that stratified train test split has less error than random sampling:"
   ]
  },
  {
   "cell_type": "code",
   "execution_count": 30,
   "id": "77a2869d",
   "metadata": {},
   "outputs": [],
   "source": [
    "#Train test splitting with purely random sampling method\n",
    "\n",
    "from sklearn.model_selection import train_test_split\n",
    "train_set, test_set = train_test_split(df, test_size=0.2, random_state=42)"
   ]
  },
  {
   "cell_type": "code",
   "execution_count": 31,
   "id": "4b075b6c",
   "metadata": {},
   "outputs": [
    {
     "data": {
      "text/plain": [
       "6    0.527083\n",
       "1    0.291250\n",
       "2    0.073542\n",
       "3    0.045208\n",
       "4    0.036458\n",
       "5    0.026458\n",
       "Name: acousticness_cat, dtype: float64"
      ]
     },
     "execution_count": 31,
     "metadata": {},
     "output_type": "execute_result"
    }
   ],
   "source": [
    "# (Purely random sampling) Acousticness category proportion in the test set calculation\n",
    "\n",
    "test_set['acousticness_cat'].value_counts()/len(test_set)"
   ]
  },
  {
   "cell_type": "code",
   "execution_count": 32,
   "id": "d43e31cd",
   "metadata": {},
   "outputs": [
    {
     "data": {
      "text/plain": [
       "6    0.534583\n",
       "1    0.290000\n",
       "2    0.069375\n",
       "3    0.045417\n",
       "4    0.034167\n",
       "5    0.026458\n",
       "Name: acousticness_cat, dtype: float64"
      ]
     },
     "execution_count": 32,
     "metadata": {},
     "output_type": "execute_result"
    }
   ],
   "source": [
    "# Stratified acousticness category proportion in the test set calculation\n",
    "\n",
    "strat_test_set_acousticness[\"acousticness_cat\"].value_counts()/len(strat_test_set_acousticness)"
   ]
  },
  {
   "cell_type": "code",
   "execution_count": 33,
   "id": "606c859e",
   "metadata": {},
   "outputs": [
    {
     "data": {
      "text/plain": [
       "6    0.534583\n",
       "1    0.290083\n",
       "2    0.069417\n",
       "3    0.045417\n",
       "4    0.034167\n",
       "5    0.026333\n",
       "Name: acousticness_cat, dtype: float64"
      ]
     },
     "execution_count": 33,
     "metadata": {},
     "output_type": "execute_result"
    }
   ],
   "source": [
    "# Acousticness category proportion in the full data set calculation\n",
    "df ['acousticness_cat'].value_counts()/len(df)"
   ]
  },
  {
   "cell_type": "markdown",
   "id": "bb660225",
   "metadata": {},
   "source": [
    "## Label Encoding to Categorical Genre Column"
   ]
  },
  {
   "cell_type": "code",
   "execution_count": 37,
   "id": "ed9c560a",
   "metadata": {},
   "outputs": [],
   "source": [
    "from sklearn import preprocessing\n",
    "le = preprocessing.LabelEncoder()\n",
    "df = df.apply(le.fit_transform)"
   ]
  },
  {
   "cell_type": "markdown",
   "id": "a329417a",
   "metadata": {},
   "source": [
    "## Creating stratified Train-Test split of the dataset using genre column"
   ]
  },
  {
   "cell_type": "code",
   "execution_count": 41,
   "id": "e4e943c6",
   "metadata": {},
   "outputs": [
    {
     "data": {
      "text/plain": [
       "((19200, 15), (4800, 15), (19200,), (4800,))"
      ]
     },
     "execution_count": 41,
     "metadata": {},
     "output_type": "execute_result"
    }
   ],
   "source": [
    "# Creating stratified train test split \n",
    "# dataset is divided in two parts, one with each attribute except genre, other one with only genre\n",
    "\n",
    "X = df.drop('genre',axis=1)\n",
    "y = df['genre']\n",
    "X_train, X_test, y_train, y_test = train_test_split(\n",
    "    X, y, \n",
    "    test_size=0.2, \n",
    "    random_state=43, \n",
    "    stratify=df['genre']\n",
    ")\n",
    "X_train.shape, X_test.shape, y_train.shape, y_test.shape"
   ]
  },
  {
   "cell_type": "code",
   "execution_count": 42,
   "id": "2aa27670",
   "metadata": {},
   "outputs": [
    {
     "data": {
      "text/plain": [
       "0    1920\n",
       "1    1920\n",
       "2    1920\n",
       "3    1920\n",
       "4    1920\n",
       "5    1920\n",
       "6    1920\n",
       "7    1920\n",
       "8    1920\n",
       "9    1920\n",
       "Name: genre, dtype: int64"
      ]
     },
     "execution_count": 42,
     "metadata": {},
     "output_type": "execute_result"
    }
   ],
   "source": [
    "y_train.value_counts()"
   ]
  },
  {
   "cell_type": "code",
   "execution_count": 43,
   "id": "6e58d614",
   "metadata": {},
   "outputs": [
    {
     "data": {
      "text/plain": [
       "0    480\n",
       "4    480\n",
       "8    480\n",
       "1    480\n",
       "5    480\n",
       "9    480\n",
       "2    480\n",
       "6    480\n",
       "3    480\n",
       "7    480\n",
       "Name: genre, dtype: int64"
      ]
     },
     "execution_count": 43,
     "metadata": {},
     "output_type": "execute_result"
    }
   ],
   "source": [
    "y_test.value_counts()"
   ]
  },
  {
   "cell_type": "markdown",
   "id": "d7adf205",
   "metadata": {},
   "source": [
    "## Exporting Training set and Test set to CSV files"
   ]
  },
  {
   "cell_type": "code",
   "execution_count": 15,
   "id": "7d4ce5c5",
   "metadata": {},
   "outputs": [],
   "source": [
    "X_train.to_csv('data/X_train.csv', index=False)\n",
    "y_train.to_csv('data/y_train.csv', index=False)\n",
    "X_test.to_csv ('data/X_test.csv', index=False)\n",
    "y_test.to_csv('data/y_test.csv', index=False)"
   ]
  }
 ],
 "metadata": {
  "kernelspec": {
   "display_name": "Python 3 (ipykernel)",
   "language": "python",
   "name": "python3"
  },
  "language_info": {
   "codemirror_mode": {
    "name": "ipython",
    "version": 3
   },
   "file_extension": ".py",
   "mimetype": "text/x-python",
   "name": "python",
   "nbconvert_exporter": "python",
   "pygments_lexer": "ipython3",
   "version": "3.8.2"
  }
 },
 "nbformat": 4,
 "nbformat_minor": 5
}
