{
 "cells": [
  {
   "cell_type": "markdown",
   "id": "f68f4bcf",
   "metadata": {},
   "source": [
    "# Features selection"
   ]
  },
  {
   "cell_type": "code",
   "execution_count": null,
   "id": "3567aae5",
   "metadata": {},
   "outputs": [],
   "source": [
    "# Author: Soumya Sambeet Mohapatra\n",
    "# Date: 03-05-2022\n",
    "# Description: Code to select most relevant features using Heatmap of Correlation matrix"
   ]
  },
  {
   "cell_type": "markdown",
   "id": "f58b2817",
   "metadata": {},
   "source": [
    "* This notebook contains code for selection of important features from the dataset.\n",
    "* The important features are selected and filtered from the dataset and stored in a new file.\n",
    "* The definitions of the selected features are provided below for reference."
   ]
  },
  {
   "cell_type": "markdown",
   "id": "13a5f270",
   "metadata": {},
   "source": [
    "## Importing modules"
   ]
  },
  {
   "cell_type": "code",
   "execution_count": 7,
   "id": "b18988ee",
   "metadata": {},
   "outputs": [],
   "source": [
    "import pandas as pd\n",
    "import seaborn as sns"
   ]
  },
  {
   "cell_type": "markdown",
   "id": "7db0f6b4",
   "metadata": {},
   "source": [
    "## Loading data from CSV file"
   ]
  },
  {
   "cell_type": "code",
   "execution_count": 3,
   "id": "45b77063",
   "metadata": {},
   "outputs": [
    {
     "data": {
      "text/html": [
       "<div>\n",
       "<style scoped>\n",
       "    .dataframe tbody tr th:only-of-type {\n",
       "        vertical-align: middle;\n",
       "    }\n",
       "\n",
       "    .dataframe tbody tr th {\n",
       "        vertical-align: top;\n",
       "    }\n",
       "\n",
       "    .dataframe thead th {\n",
       "        text-align: right;\n",
       "    }\n",
       "</style>\n",
       "<table border=\"1\" class=\"dataframe\">\n",
       "  <thead>\n",
       "    <tr style=\"text-align: right;\">\n",
       "      <th></th>\n",
       "      <th>danceability</th>\n",
       "      <th>energy</th>\n",
       "      <th>key</th>\n",
       "      <th>loudness</th>\n",
       "      <th>mode</th>\n",
       "      <th>speechiness</th>\n",
       "      <th>acousticness</th>\n",
       "      <th>instrumentalness</th>\n",
       "      <th>liveness</th>\n",
       "      <th>valence</th>\n",
       "      <th>tempo</th>\n",
       "      <th>type</th>\n",
       "      <th>id</th>\n",
       "      <th>uri</th>\n",
       "      <th>track_href</th>\n",
       "      <th>analysis_url</th>\n",
       "      <th>duration_ms</th>\n",
       "      <th>time_signature</th>\n",
       "      <th>year</th>\n",
       "      <th>genre</th>\n",
       "    </tr>\n",
       "  </thead>\n",
       "  <tbody>\n",
       "    <tr>\n",
       "      <th>0</th>\n",
       "      <td>0.507</td>\n",
       "      <td>0.7100</td>\n",
       "      <td>5</td>\n",
       "      <td>-5.020</td>\n",
       "      <td>1</td>\n",
       "      <td>0.0291</td>\n",
       "      <td>0.0975</td>\n",
       "      <td>0.000011</td>\n",
       "      <td>0.170</td>\n",
       "      <td>0.450</td>\n",
       "      <td>134.647</td>\n",
       "      <td>audio_features</td>\n",
       "      <td>14J3PO0VnhtcRa31r7Aj1L</td>\n",
       "      <td>spotify:track:14J3PO0VnhtcRa31r7Aj1L</td>\n",
       "      <td>https://api.spotify.com/v1/tracks/14J3PO0Vnhtc...</td>\n",
       "      <td>https://api.spotify.com/v1/audio-analysis/14J3...</td>\n",
       "      <td>273573</td>\n",
       "      <td>4</td>\n",
       "      <td>1999</td>\n",
       "      <td>acoustic</td>\n",
       "    </tr>\n",
       "    <tr>\n",
       "      <th>1</th>\n",
       "      <td>0.496</td>\n",
       "      <td>0.3780</td>\n",
       "      <td>11</td>\n",
       "      <td>-7.878</td>\n",
       "      <td>1</td>\n",
       "      <td>0.0336</td>\n",
       "      <td>0.8980</td>\n",
       "      <td>0.000001</td>\n",
       "      <td>0.109</td>\n",
       "      <td>0.335</td>\n",
       "      <td>144.092</td>\n",
       "      <td>audio_features</td>\n",
       "      <td>2SZDu4esDLUISRnpYQE17b</td>\n",
       "      <td>spotify:track:2SZDu4esDLUISRnpYQE17b</td>\n",
       "      <td>https://api.spotify.com/v1/tracks/2SZDu4esDLUI...</td>\n",
       "      <td>https://api.spotify.com/v1/audio-analysis/2SZD...</td>\n",
       "      <td>277667</td>\n",
       "      <td>3</td>\n",
       "      <td>1999</td>\n",
       "      <td>acoustic</td>\n",
       "    </tr>\n",
       "    <tr>\n",
       "      <th>2</th>\n",
       "      <td>0.760</td>\n",
       "      <td>0.7650</td>\n",
       "      <td>0</td>\n",
       "      <td>-9.319</td>\n",
       "      <td>1</td>\n",
       "      <td>0.0352</td>\n",
       "      <td>0.2890</td>\n",
       "      <td>0.000008</td>\n",
       "      <td>0.233</td>\n",
       "      <td>0.868</td>\n",
       "      <td>107.602</td>\n",
       "      <td>audio_features</td>\n",
       "      <td>5E2EpolcGmcbYpsv0z6jAZ</td>\n",
       "      <td>spotify:track:5E2EpolcGmcbYpsv0z6jAZ</td>\n",
       "      <td>https://api.spotify.com/v1/tracks/5E2EpolcGmcb...</td>\n",
       "      <td>https://api.spotify.com/v1/audio-analysis/5E2E...</td>\n",
       "      <td>226933</td>\n",
       "      <td>4</td>\n",
       "      <td>1999</td>\n",
       "      <td>acoustic</td>\n",
       "    </tr>\n",
       "    <tr>\n",
       "      <th>3</th>\n",
       "      <td>0.607</td>\n",
       "      <td>0.1960</td>\n",
       "      <td>1</td>\n",
       "      <td>-19.705</td>\n",
       "      <td>1</td>\n",
       "      <td>0.0595</td>\n",
       "      <td>0.9040</td>\n",
       "      <td>0.727000</td>\n",
       "      <td>0.111</td>\n",
       "      <td>0.187</td>\n",
       "      <td>111.031</td>\n",
       "      <td>audio_features</td>\n",
       "      <td>5RVEXH7OR9rcRz7eeviOzc</td>\n",
       "      <td>spotify:track:5RVEXH7OR9rcRz7eeviOzc</td>\n",
       "      <td>https://api.spotify.com/v1/tracks/5RVEXH7OR9rc...</td>\n",
       "      <td>https://api.spotify.com/v1/audio-analysis/5RVE...</td>\n",
       "      <td>223948</td>\n",
       "      <td>4</td>\n",
       "      <td>1999</td>\n",
       "      <td>acoustic</td>\n",
       "    </tr>\n",
       "    <tr>\n",
       "      <th>4</th>\n",
       "      <td>0.497</td>\n",
       "      <td>0.0919</td>\n",
       "      <td>3</td>\n",
       "      <td>-15.685</td>\n",
       "      <td>1</td>\n",
       "      <td>0.0704</td>\n",
       "      <td>0.9680</td>\n",
       "      <td>0.002140</td>\n",
       "      <td>0.133</td>\n",
       "      <td>0.548</td>\n",
       "      <td>206.431</td>\n",
       "      <td>audio_features</td>\n",
       "      <td>7CNaYAdLyi86kofGafReiT</td>\n",
       "      <td>spotify:track:7CNaYAdLyi86kofGafReiT</td>\n",
       "      <td>https://api.spotify.com/v1/tracks/7CNaYAdLyi86...</td>\n",
       "      <td>https://api.spotify.com/v1/audio-analysis/7CNa...</td>\n",
       "      <td>139693</td>\n",
       "      <td>4</td>\n",
       "      <td>1999</td>\n",
       "      <td>acoustic</td>\n",
       "    </tr>\n",
       "  </tbody>\n",
       "</table>\n",
       "</div>"
      ],
      "text/plain": [
       "   danceability  energy  key  loudness  mode  speechiness  acousticness  \\\n",
       "0         0.507  0.7100    5    -5.020     1       0.0291        0.0975   \n",
       "1         0.496  0.3780   11    -7.878     1       0.0336        0.8980   \n",
       "2         0.760  0.7650    0    -9.319     1       0.0352        0.2890   \n",
       "3         0.607  0.1960    1   -19.705     1       0.0595        0.9040   \n",
       "4         0.497  0.0919    3   -15.685     1       0.0704        0.9680   \n",
       "\n",
       "   instrumentalness  liveness  valence    tempo            type  \\\n",
       "0          0.000011     0.170    0.450  134.647  audio_features   \n",
       "1          0.000001     0.109    0.335  144.092  audio_features   \n",
       "2          0.000008     0.233    0.868  107.602  audio_features   \n",
       "3          0.727000     0.111    0.187  111.031  audio_features   \n",
       "4          0.002140     0.133    0.548  206.431  audio_features   \n",
       "\n",
       "                       id                                   uri  \\\n",
       "0  14J3PO0VnhtcRa31r7Aj1L  spotify:track:14J3PO0VnhtcRa31r7Aj1L   \n",
       "1  2SZDu4esDLUISRnpYQE17b  spotify:track:2SZDu4esDLUISRnpYQE17b   \n",
       "2  5E2EpolcGmcbYpsv0z6jAZ  spotify:track:5E2EpolcGmcbYpsv0z6jAZ   \n",
       "3  5RVEXH7OR9rcRz7eeviOzc  spotify:track:5RVEXH7OR9rcRz7eeviOzc   \n",
       "4  7CNaYAdLyi86kofGafReiT  spotify:track:7CNaYAdLyi86kofGafReiT   \n",
       "\n",
       "                                          track_href  \\\n",
       "0  https://api.spotify.com/v1/tracks/14J3PO0Vnhtc...   \n",
       "1  https://api.spotify.com/v1/tracks/2SZDu4esDLUI...   \n",
       "2  https://api.spotify.com/v1/tracks/5E2EpolcGmcb...   \n",
       "3  https://api.spotify.com/v1/tracks/5RVEXH7OR9rc...   \n",
       "4  https://api.spotify.com/v1/tracks/7CNaYAdLyi86...   \n",
       "\n",
       "                                        analysis_url  duration_ms  \\\n",
       "0  https://api.spotify.com/v1/audio-analysis/14J3...       273573   \n",
       "1  https://api.spotify.com/v1/audio-analysis/2SZD...       277667   \n",
       "2  https://api.spotify.com/v1/audio-analysis/5E2E...       226933   \n",
       "3  https://api.spotify.com/v1/audio-analysis/5RVE...       223948   \n",
       "4  https://api.spotify.com/v1/audio-analysis/7CNa...       139693   \n",
       "\n",
       "   time_signature  year     genre  \n",
       "0               4  1999  acoustic  \n",
       "1               3  1999  acoustic  \n",
       "2               4  1999  acoustic  \n",
       "3               4  1999  acoustic  \n",
       "4               4  1999  acoustic  "
      ]
     },
     "execution_count": 3,
     "metadata": {},
     "output_type": "execute_result"
    }
   ],
   "source": [
    "df = pd.read_csv('genre_data_clean.csv')\n",
    "df.head()"
   ]
  },
  {
   "cell_type": "markdown",
   "id": "7d6f1c06",
   "metadata": {},
   "source": [
    "## Removing unnecessary features"
   ]
  },
  {
   "cell_type": "markdown",
   "id": "e2236e6c",
   "metadata": {},
   "source": [
    "There are 21 columns in the dataset. Below is a list of all the columns."
   ]
  },
  {
   "cell_type": "code",
   "execution_count": 4,
   "id": "a9a9ee6b",
   "metadata": {},
   "outputs": [
    {
     "data": {
      "text/plain": [
       "Index(['danceability', 'energy', 'key', 'loudness', 'mode', 'speechiness',\n",
       "       'acousticness', 'instrumentalness', 'liveness', 'valence', 'tempo',\n",
       "       'type', 'id', 'uri', 'track_href', 'analysis_url', 'duration_ms',\n",
       "       'time_signature', 'year', 'genre'],\n",
       "      dtype='object')"
      ]
     },
     "execution_count": 4,
     "metadata": {},
     "output_type": "execute_result"
    }
   ],
   "source": [
    "df.columns"
   ]
  },
  {
   "cell_type": "markdown",
   "id": "08ab2602",
   "metadata": {},
   "source": [
    "It can be identified that the following columns have no significance in training a machine learning mode:\n",
    "\n",
    "1. `type`\n",
    "2. `id`\n",
    "3. `uri`\n",
    "4. `track_href`\n",
    "5. `analysis_url`\n",
    "6. `year`\n",
    "\n",
    "Therefore, these columns are dropped from the dataset."
   ]
  },
  {
   "cell_type": "code",
   "execution_count": 6,
   "id": "8db2219e",
   "metadata": {},
   "outputs": [
    {
     "data": {
      "text/html": [
       "<div>\n",
       "<style scoped>\n",
       "    .dataframe tbody tr th:only-of-type {\n",
       "        vertical-align: middle;\n",
       "    }\n",
       "\n",
       "    .dataframe tbody tr th {\n",
       "        vertical-align: top;\n",
       "    }\n",
       "\n",
       "    .dataframe thead th {\n",
       "        text-align: right;\n",
       "    }\n",
       "</style>\n",
       "<table border=\"1\" class=\"dataframe\">\n",
       "  <thead>\n",
       "    <tr style=\"text-align: right;\">\n",
       "      <th></th>\n",
       "      <th>danceability</th>\n",
       "      <th>energy</th>\n",
       "      <th>key</th>\n",
       "      <th>loudness</th>\n",
       "      <th>mode</th>\n",
       "      <th>speechiness</th>\n",
       "      <th>acousticness</th>\n",
       "      <th>instrumentalness</th>\n",
       "      <th>liveness</th>\n",
       "      <th>valence</th>\n",
       "      <th>tempo</th>\n",
       "      <th>duration_ms</th>\n",
       "      <th>time_signature</th>\n",
       "      <th>genre</th>\n",
       "    </tr>\n",
       "  </thead>\n",
       "  <tbody>\n",
       "    <tr>\n",
       "      <th>0</th>\n",
       "      <td>0.507</td>\n",
       "      <td>0.7100</td>\n",
       "      <td>5</td>\n",
       "      <td>-5.020</td>\n",
       "      <td>1</td>\n",
       "      <td>0.0291</td>\n",
       "      <td>0.0975</td>\n",
       "      <td>0.000011</td>\n",
       "      <td>0.170</td>\n",
       "      <td>0.450</td>\n",
       "      <td>134.647</td>\n",
       "      <td>273573</td>\n",
       "      <td>4</td>\n",
       "      <td>acoustic</td>\n",
       "    </tr>\n",
       "    <tr>\n",
       "      <th>1</th>\n",
       "      <td>0.496</td>\n",
       "      <td>0.3780</td>\n",
       "      <td>11</td>\n",
       "      <td>-7.878</td>\n",
       "      <td>1</td>\n",
       "      <td>0.0336</td>\n",
       "      <td>0.8980</td>\n",
       "      <td>0.000001</td>\n",
       "      <td>0.109</td>\n",
       "      <td>0.335</td>\n",
       "      <td>144.092</td>\n",
       "      <td>277667</td>\n",
       "      <td>3</td>\n",
       "      <td>acoustic</td>\n",
       "    </tr>\n",
       "    <tr>\n",
       "      <th>2</th>\n",
       "      <td>0.760</td>\n",
       "      <td>0.7650</td>\n",
       "      <td>0</td>\n",
       "      <td>-9.319</td>\n",
       "      <td>1</td>\n",
       "      <td>0.0352</td>\n",
       "      <td>0.2890</td>\n",
       "      <td>0.000008</td>\n",
       "      <td>0.233</td>\n",
       "      <td>0.868</td>\n",
       "      <td>107.602</td>\n",
       "      <td>226933</td>\n",
       "      <td>4</td>\n",
       "      <td>acoustic</td>\n",
       "    </tr>\n",
       "    <tr>\n",
       "      <th>3</th>\n",
       "      <td>0.607</td>\n",
       "      <td>0.1960</td>\n",
       "      <td>1</td>\n",
       "      <td>-19.705</td>\n",
       "      <td>1</td>\n",
       "      <td>0.0595</td>\n",
       "      <td>0.9040</td>\n",
       "      <td>0.727000</td>\n",
       "      <td>0.111</td>\n",
       "      <td>0.187</td>\n",
       "      <td>111.031</td>\n",
       "      <td>223948</td>\n",
       "      <td>4</td>\n",
       "      <td>acoustic</td>\n",
       "    </tr>\n",
       "    <tr>\n",
       "      <th>4</th>\n",
       "      <td>0.497</td>\n",
       "      <td>0.0919</td>\n",
       "      <td>3</td>\n",
       "      <td>-15.685</td>\n",
       "      <td>1</td>\n",
       "      <td>0.0704</td>\n",
       "      <td>0.9680</td>\n",
       "      <td>0.002140</td>\n",
       "      <td>0.133</td>\n",
       "      <td>0.548</td>\n",
       "      <td>206.431</td>\n",
       "      <td>139693</td>\n",
       "      <td>4</td>\n",
       "      <td>acoustic</td>\n",
       "    </tr>\n",
       "  </tbody>\n",
       "</table>\n",
       "</div>"
      ],
      "text/plain": [
       "   danceability  energy  key  loudness  mode  speechiness  acousticness  \\\n",
       "0         0.507  0.7100    5    -5.020     1       0.0291        0.0975   \n",
       "1         0.496  0.3780   11    -7.878     1       0.0336        0.8980   \n",
       "2         0.760  0.7650    0    -9.319     1       0.0352        0.2890   \n",
       "3         0.607  0.1960    1   -19.705     1       0.0595        0.9040   \n",
       "4         0.497  0.0919    3   -15.685     1       0.0704        0.9680   \n",
       "\n",
       "   instrumentalness  liveness  valence    tempo  duration_ms  time_signature  \\\n",
       "0          0.000011     0.170    0.450  134.647       273573               4   \n",
       "1          0.000001     0.109    0.335  144.092       277667               3   \n",
       "2          0.000008     0.233    0.868  107.602       226933               4   \n",
       "3          0.727000     0.111    0.187  111.031       223948               4   \n",
       "4          0.002140     0.133    0.548  206.431       139693               4   \n",
       "\n",
       "      genre  \n",
       "0  acoustic  \n",
       "1  acoustic  \n",
       "2  acoustic  \n",
       "3  acoustic  \n",
       "4  acoustic  "
      ]
     },
     "execution_count": 6,
     "metadata": {},
     "output_type": "execute_result"
    }
   ],
   "source": [
    "df.drop(\n",
    "    ['type', 'id', 'uri', 'track_href', 'analysis_url', 'year'], \n",
    "    axis=1, \n",
    "    inplace=True\n",
    ") \n",
    "df.head()"
   ]
  },
  {
   "cell_type": "markdown",
   "id": "5f435284",
   "metadata": {},
   "source": [
    "## Correlation Matrix"
   ]
  },
  {
   "cell_type": "markdown",
   "id": "22468bf7",
   "metadata": {},
   "source": [
    "It can be shown that some features are more uncorrelated with the dataset in comparison to others."
   ]
  },
  {
   "cell_type": "code",
   "execution_count": 8,
   "id": "ef537247",
   "metadata": {},
   "outputs": [
    {
     "data": {
      "text/plain": [
       "<AxesSubplot:>"
      ]
     },
     "execution_count": 8,
     "metadata": {},
     "output_type": "execute_result"
    },
    {
     "data": {
      "image/png": "[encoded data removed]",
      "text/plain": [
       "<Figure size 432x288 with 2 Axes>"
      ]
     },
     "metadata": {
      "needs_background": "light"
     },
     "output_type": "display_data"
    }
   ],
   "source": [
    "sns.heatmap(df.corr())"
   ]
  },
  {
   "cell_type": "markdown",
   "id": "565f80b8",
   "metadata": {},
   "source": [
    "From the above correlation matrix, it can be seen that the features `key`, `mode`, `liveness`, and `duration_ms` have nearly 0 correlation. The features `mode`, and `liveliness` do not have much impact on the genre of the music. However, these features can be used for further statistical analysis. Therefore to further reduce the features from our dataset, we remove `key`, and `duration_ms`."
   ]
  },
  {
   "cell_type": "code",
   "execution_count": 9,
   "id": "ccee491f",
   "metadata": {},
   "outputs": [],
   "source": [
    "df.drop(['key', 'duration_ms'], axis=1, inplace=True)"
   ]
  },
  {
   "cell_type": "markdown",
   "id": "d003b875",
   "metadata": {},
   "source": [
    "## Writing filtered dataset to file"
   ]
  },
  {
   "cell_type": "code",
   "execution_count": 12,
   "id": "46232b24",
   "metadata": {},
   "outputs": [],
   "source": [
    "df.to_csv('genre_data_final.csv', index=False)"
   ]
  }
 ],
 "metadata": {
  "kernelspec": {
   "display_name": "Python 3 (ipykernel)",
   "language": "python",
   "name": "python3"
  },
  "language_info": {
   "codemirror_mode": {
    "name": "ipython",
    "version": 3
   },
   "file_extension": ".py",
   "mimetype": "text/x-python",
   "name": "python",
   "nbconvert_exporter": "python",
   "pygments_lexer": "ipython3",
   "version": "3.8.2"
  }
 },
 "nbformat": 4,
 "nbformat_minor": 5
}
